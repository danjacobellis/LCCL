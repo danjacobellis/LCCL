{
 "cells": [
  {
   "cell_type": "code",
   "execution_count": 1,
   "id": "5bade322-f2f6-4f96-bd28-61d2df71f752",
   "metadata": {},
   "outputs": [],
   "source": [
    "from IPython.display import Markdown, Latex\n",
    "from datasets import load_dataset\n",
    "import numpy as np\n",
    "import pandas as pd"
   ]
  },
  {
   "cell_type": "code",
   "execution_count": 5,
   "id": "4882b02a-ef5e-478d-9aa8-08803be00f75",
   "metadata": {},
   "outputs": [],
   "source": [
    "methods = [\n",
    "    \"danjacobellis/LSDIR_demucs_2xRR\",\n",
    "    \"danjacobellis/LSDIR_demucs_10xRR\",\n",
    "]"
   ]
  },
  {
   "cell_type": "code",
   "execution_count": 12,
   "id": "4a8116a2-454a-45b5-8934-77cb5677784b",
   "metadata": {},
   "outputs": [],
   "source": [
    "method_aggregated = {}\n",
    "\n",
    "for method in methods:\n",
    "    ds = load_dataset(method, split='validation')\n",
    "    df = ds.to_pandas()\n",
    "    method_aggregated[method] = df.median()"
   ]
  },
  {
   "cell_type": "code",
   "execution_count": 13,
   "id": "64893512-4c8d-4f6f-b162-c79bd116f182",
   "metadata": {},
   "outputs": [],
   "source": [
    "results_df = pd.DataFrame(method_aggregated)\n",
    "results_df = results_df.transpose()"
   ]
  },
  {
   "cell_type": "code",
   "execution_count": 14,
   "id": "058b1989-15b7-4300-9d6c-680d44ee5739",
   "metadata": {},
   "outputs": [
    {
     "data": {
      "text/html": [
       "<div>\n",
       "<style scoped>\n",
       "    .dataframe tbody tr th:only-of-type {\n",
       "        vertical-align: middle;\n",
       "    }\n",
       "\n",
       "    .dataframe tbody tr th {\n",
       "        vertical-align: top;\n",
       "    }\n",
       "\n",
       "    .dataframe thead th {\n",
       "        text-align: right;\n",
       "    }\n",
       "</style>\n",
       "<table border=\"1\" class=\"dataframe\">\n",
       "  <thead>\n",
       "    <tr style=\"text-align: right;\">\n",
       "      <th></th>\n",
       "      <th>SSDR_other</th>\n",
       "      <th>SSDR_drums</th>\n",
       "      <th>SSDR_bass</th>\n",
       "      <th>SSDR_vocals</th>\n",
       "      <th>SRDR_other</th>\n",
       "      <th>SRDR_drums</th>\n",
       "      <th>SRDR_bass</th>\n",
       "      <th>SRDR_vocals</th>\n",
       "      <th>PSNR_other</th>\n",
       "      <th>PSNR_drums</th>\n",
       "      <th>PSNR_bass</th>\n",
       "      <th>PSNR_vocals</th>\n",
       "      <th>CDPAM_dB_other</th>\n",
       "      <th>CDPAM_dB_drums</th>\n",
       "      <th>CDPAM_dB_bass</th>\n",
       "      <th>CDPAM_dB_vocals</th>\n",
       "    </tr>\n",
       "  </thead>\n",
       "  <tbody>\n",
       "    <tr>\n",
       "      <th>danjacobellis/LSDIR_demucs_2xRR</th>\n",
       "      <td>14.005701</td>\n",
       "      <td>18.592121</td>\n",
       "      <td>16.622741</td>\n",
       "      <td>13.037604</td>\n",
       "      <td>6.151923</td>\n",
       "      <td>7.922563</td>\n",
       "      <td>7.667469</td>\n",
       "      <td>5.364625</td>\n",
       "      <td>37.363653</td>\n",
       "      <td>39.946511</td>\n",
       "      <td>40.939164</td>\n",
       "      <td>40.636929</td>\n",
       "      <td>4.712747</td>\n",
       "      <td>4.475863</td>\n",
       "      <td>5.053668</td>\n",
       "      <td>4.761550</td>\n",
       "    </tr>\n",
       "    <tr>\n",
       "      <th>danjacobellis/LSDIR_demucs_10xRR</th>\n",
       "      <td>10.851036</td>\n",
       "      <td>15.918991</td>\n",
       "      <td>15.776052</td>\n",
       "      <td>7.239153</td>\n",
       "      <td>3.399106</td>\n",
       "      <td>6.012086</td>\n",
       "      <td>6.179787</td>\n",
       "      <td>1.107976</td>\n",
       "      <td>34.410055</td>\n",
       "      <td>38.094781</td>\n",
       "      <td>40.295013</td>\n",
       "      <td>36.355948</td>\n",
       "      <td>4.337276</td>\n",
       "      <td>4.143178</td>\n",
       "      <td>4.969634</td>\n",
       "      <td>4.236443</td>\n",
       "    </tr>\n",
       "  </tbody>\n",
       "</table>\n",
       "</div>"
      ],
      "text/plain": [
       "                                  SSDR_other  SSDR_drums  SSDR_bass  \\\n",
       "danjacobellis/LSDIR_demucs_2xRR    14.005701   18.592121  16.622741   \n",
       "danjacobellis/LSDIR_demucs_10xRR   10.851036   15.918991  15.776052   \n",
       "\n",
       "                                  SSDR_vocals  SRDR_other  SRDR_drums  \\\n",
       "danjacobellis/LSDIR_demucs_2xRR     13.037604    6.151923    7.922563   \n",
       "danjacobellis/LSDIR_demucs_10xRR     7.239153    3.399106    6.012086   \n",
       "\n",
       "                                  SRDR_bass  SRDR_vocals  PSNR_other  \\\n",
       "danjacobellis/LSDIR_demucs_2xRR    7.667469     5.364625   37.363653   \n",
       "danjacobellis/LSDIR_demucs_10xRR   6.179787     1.107976   34.410055   \n",
       "\n",
       "                                  PSNR_drums  PSNR_bass  PSNR_vocals  \\\n",
       "danjacobellis/LSDIR_demucs_2xRR    39.946511  40.939164    40.636929   \n",
       "danjacobellis/LSDIR_demucs_10xRR   38.094781  40.295013    36.355948   \n",
       "\n",
       "                                  CDPAM_dB_other  CDPAM_dB_drums  \\\n",
       "danjacobellis/LSDIR_demucs_2xRR         4.712747        4.475863   \n",
       "danjacobellis/LSDIR_demucs_10xRR        4.337276        4.143178   \n",
       "\n",
       "                                  CDPAM_dB_bass  CDPAM_dB_vocals  \n",
       "danjacobellis/LSDIR_demucs_2xRR        5.053668         4.761550  \n",
       "danjacobellis/LSDIR_demucs_10xRR       4.969634         4.236443  "
      ]
     },
     "execution_count": 14,
     "metadata": {},
     "output_type": "execute_result"
    }
   ],
   "source": [
    "results_df"
   ]
  }
 ],
 "metadata": {
  "kernelspec": {
   "display_name": "Python 3 (ipykernel)",
   "language": "python",
   "name": "python3"
  },
  "language_info": {
   "codemirror_mode": {
    "name": "ipython",
    "version": 3
   },
   "file_extension": ".py",
   "mimetype": "text/x-python",
   "name": "python",
   "nbconvert_exporter": "python",
   "pygments_lexer": "ipython3",
   "version": "3.10.12"
  }
 },
 "nbformat": 4,
 "nbformat_minor": 5
}
