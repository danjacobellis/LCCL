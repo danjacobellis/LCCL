{
 "cells": [
  {
   "cell_type": "code",
   "execution_count": null,
   "id": "fb3be548-2f74-488e-a783-20097670ba25",
   "metadata": {},
   "outputs": [
    {
     "name": "stdout",
     "output_type": "stream",
     "text": [
      "--2024-09-15 19:23:57--  https://hf.co/danjacobellis/walloc/resolve/main/RGB_Li_192c_J4_nf8_v1.0.2.pth\n",
      "Resolving hf.co (hf.co)... 44.212.132.255, 34.204.155.59, 34.198.14.237, ...\n",
      "Connecting to hf.co (hf.co)|44.212.132.255|:443... connected.\n",
      "HTTP request sent, awaiting response... 302 Moved Temporarily\n",
      "Location: https://huggingface.co/danjacobellis/walloc/resolve/main/RGB_Li_192c_J4_nf8_v1.0.2.pth [following]\n",
      "--2024-09-15 19:23:57--  https://huggingface.co/danjacobellis/walloc/resolve/main/RGB_Li_192c_J4_nf8_v1.0.2.pth\n",
      "Resolving huggingface.co (huggingface.co)... 99.86.102.9, 99.86.102.115, 99.86.102.128, ...\n",
      "Connecting to huggingface.co (huggingface.co)|99.86.102.9|:443... connected.\n",
      "HTTP request sent, awaiting response... 302 Found\n",
      "Location: https://cdn-lfs-us-1.huggingface.co/repos/f3/ba/f3ba06623731c38247420d7019770a013d176a409abc994df4fee215d214a026/3368b9b93456413a5cb3e125dbdcd9284de70a890543b4dfcf148464df3d517f?response-content-disposition=inline%3B+filename*%3DUTF-8%27%27RGB_Li_192c_J4_nf8_v1.0.2.pth%3B+filename%3D%22RGB_Li_192c_J4_nf8_v1.0.2.pth%22%3B&Expires=1726683838&Policy=eyJTdGF0ZW1lbnQiOlt7IkNvbmRpdGlvbiI6eyJEYXRlTGVzc1RoYW4iOnsiQVdTOkVwb2NoVGltZSI6MTcyNjY4MzgzOH19LCJSZXNvdXJjZSI6Imh0dHBzOi8vY2RuLWxmcy11cy0xLmh1Z2dpbmdmYWNlLmNvL3JlcG9zL2YzL2JhL2YzYmEwNjYyMzczMWMzODI0NzQyMGQ3MDE5NzcwYTAxM2QxNzZhNDA5YWJjOTk0ZGY0ZmVlMjE1ZDIxNGEwMjYvMzM2OGI5YjkzNDU2NDEzYTVjYjNlMTI1ZGJkY2Q5Mjg0ZGU3MGE4OTA1NDNiNGRmY2YxNDg0NjRkZjNkNTE3Zj9yZXNwb25zZS1jb250ZW50LWRpc3Bvc2l0aW9uPSoifV19&Signature=cVwOoNZt3EayeolSCsl-9Ij0emmWvSW6d0jUN%7EGBrZ8aJEVrQ74fDbcwJnCklTU0YxTJCiDjzjryq8oqnB-yEqVAJZESprNL9TYditHLdAoHQKHBpYhBbuAuBW%7E2xwvKfbp9aXn9o6iODQrJJt3gnufMO9VLk-k3r1aRW316sGsterfL4cvXbsToB728784UiUtgC3LWcyIjXe83H2WEcGpOYPorlI8avWYOdCYnHwXhBwUbHMlXoGtid9uDg-9D95WcIXxjStZeTtxWMo%7ESoM7MuNhp3Be5Z4ouhVlVNEdKeEw4n9a%7E2ORR4qQFph3rpqCM70CpyjqCjoaBmJuhzg__&Key-Pair-Id=K24J24Z295AEI9 [following]\n",
      "--2024-09-15 19:23:58--  https://cdn-lfs-us-1.huggingface.co/repos/f3/ba/f3ba06623731c38247420d7019770a013d176a409abc994df4fee215d214a026/3368b9b93456413a5cb3e125dbdcd9284de70a890543b4dfcf148464df3d517f?response-content-disposition=inline%3B+filename*%3DUTF-8%27%27RGB_Li_192c_J4_nf8_v1.0.2.pth%3B+filename%3D%22RGB_Li_192c_J4_nf8_v1.0.2.pth%22%3B&Expires=1726683838&Policy=eyJTdGF0ZW1lbnQiOlt7IkNvbmRpdGlvbiI6eyJEYXRlTGVzc1RoYW4iOnsiQVdTOkVwb2NoVGltZSI6MTcyNjY4MzgzOH19LCJSZXNvdXJjZSI6Imh0dHBzOi8vY2RuLWxmcy11cy0xLmh1Z2dpbmdmYWNlLmNvL3JlcG9zL2YzL2JhL2YzYmEwNjYyMzczMWMzODI0NzQyMGQ3MDE5NzcwYTAxM2QxNzZhNDA5YWJjOTk0ZGY0ZmVlMjE1ZDIxNGEwMjYvMzM2OGI5YjkzNDU2NDEzYTVjYjNlMTI1ZGJkY2Q5Mjg0ZGU3MGE4OTA1NDNiNGRmY2YxNDg0NjRkZjNkNTE3Zj9yZXNwb25zZS1jb250ZW50LWRpc3Bvc2l0aW9uPSoifV19&Signature=cVwOoNZt3EayeolSCsl-9Ij0emmWvSW6d0jUN%7EGBrZ8aJEVrQ74fDbcwJnCklTU0YxTJCiDjzjryq8oqnB-yEqVAJZESprNL9TYditHLdAoHQKHBpYhBbuAuBW%7E2xwvKfbp9aXn9o6iODQrJJt3gnufMO9VLk-k3r1aRW316sGsterfL4cvXbsToB728784UiUtgC3LWcyIjXe83H2WEcGpOYPorlI8avWYOdCYnHwXhBwUbHMlXoGtid9uDg-9D95WcIXxjStZeTtxWMo%7ESoM7MuNhp3Be5Z4ouhVlVNEdKeEw4n9a%7E2ORR4qQFph3rpqCM70CpyjqCjoaBmJuhzg__&Key-Pair-Id=K24J24Z295AEI9\n",
      "Resolving cdn-lfs-us-1.huggingface.co (cdn-lfs-us-1.huggingface.co)... 18.160.156.91, 18.160.156.28, 18.160.156.15, ...\n",
      "Connecting to cdn-lfs-us-1.huggingface.co (cdn-lfs-us-1.huggingface.co)|18.160.156.91|:443... connected.\n",
      "HTTP request sent, awaiting response... 200 OK\n",
      "Length: 262250172 (250M) [application/zip]\n",
      "Saving to: ‘RGB_Li_192c_J4_nf8_v1.0.2.pth’\n",
      "\n",
      "Li_192c_J4_nf8_v1.0  26%[====>               ]  66.14M  2.04MB/s    eta 1m 44s "
     ]
    }
   ],
   "source": [
    "!wget https://hf.co/danjacobellis/walloc/resolve/main/RGB_Li_192c_J4_nf8_v1.0.2.pth"
   ]
  },
  {
   "cell_type": "code",
   "execution_count": 2,
   "id": "6d7db02c-516f-4ddd-ba4a-31b7dcc18526",
   "metadata": {},
   "outputs": [],
   "source": [
    "import io\n",
    "import time\n",
    "import torch\n",
    "import numpy as np\n",
    "import PIL\n",
    "from torchvision.transforms import ToPILImage, PILToTensor\n",
    "from datasets import load_dataset, Image\n",
    "from walloc import walloc\n",
    "\n",
    "class Config: pass"
   ]
  },
  {
   "cell_type": "code",
   "execution_count": 3,
   "id": "389e035a-effe-4599-807b-96c213e5a634",
   "metadata": {},
   "outputs": [],
   "source": [
    "checkpoint = torch.load(\"RGB_Li_192c_J4_nf8_v1.0.2.pth\",map_location=\"cpu\",weights_only=False)\n",
    "codec_config = checkpoint['config']\n",
    "codec = walloc.Codec2D(\n",
    "    channels = codec_config.channels,\n",
    "    J = codec_config.J,\n",
    "    Ne = codec_config.Ne,\n",
    "    Nd = codec_config.Nd,\n",
    "    latent_dim = codec_config.latent_dim,\n",
    "    latent_bits = codec_config.latent_bits,\n",
    "    lightweight_encode = codec_config.lightweight_encode\n",
    ")\n",
    "codec.load_state_dict(checkpoint['model_state_dict'])\n",
    "codec.eval();"
   ]
  },
  {
   "cell_type": "code",
   "execution_count": 4,
   "id": "f156141c-9fed-4893-a143-02abbe802822",
   "metadata": {},
   "outputs": [
    {
     "data": {
      "application/vnd.jupyter.widget-view+json": {
       "model_id": "6b6ba17a6f3246baadf4b1ab2b68d578",
       "version_major": 2,
       "version_minor": 0
      },
      "text/plain": [
       "Downloading readme:   0%|          | 0.00/494 [00:00<?, ?B/s]"
      ]
     },
     "metadata": {},
     "output_type": "display_data"
    },
    {
     "data": {
      "application/vnd.jupyter.widget-view+json": {
       "model_id": "d8e50176150f4512b21e079a90c729a2",
       "version_major": 2,
       "version_minor": 0
      },
      "text/plain": [
       "Downloading data:   0%|          | 0.00/268M [00:00<?, ?B/s]"
      ]
     },
     "metadata": {},
     "output_type": "display_data"
    },
    {
     "data": {
      "application/vnd.jupyter.widget-view+json": {
       "model_id": "8311b7db595047cfb38079709ac181c4",
       "version_major": 2,
       "version_minor": 0
      },
      "text/plain": [
       "Downloading data:   0%|          | 0.00/266M [00:00<?, ?B/s]"
      ]
     },
     "metadata": {},
     "output_type": "display_data"
    },
    {
     "data": {
      "application/vnd.jupyter.widget-view+json": {
       "model_id": "7fbc47f253ae4f6b8c010b219ce60049",
       "version_major": 2,
       "version_minor": 0
      },
      "text/plain": [
       "Generating validation split:   0%|          | 0/250 [00:00<?, ? examples/s]"
      ]
     },
     "metadata": {},
     "output_type": "display_data"
    }
   ],
   "source": [
    "dataset = load_dataset(\"danjacobellis/LSDIR_val\", split='validation')"
   ]
  },
  {
   "cell_type": "code",
   "execution_count": 9,
   "id": "b911f5f0-aff8-4352-b93f-489b4e18c3b2",
   "metadata": {},
   "outputs": [],
   "source": [
    "def walloc_compress(sample):\n",
    "    with torch.no_grad():\n",
    "        img = sample['image']\n",
    "        x = PILToTensor()(img).to(torch.float)\n",
    "        x = (x/255 - 0.5).unsqueeze(0).to(device)\n",
    "        H, W = x.size(2), x.size(3)\n",
    "        x_padded = walloc.pad(x,p=8)\n",
    "\n",
    "        t0 = time.time()\n",
    "        X = codec.wavelet_analysis(x_padded,codec.J)\n",
    "        Y = codec.encoder(X)\n",
    "        webp = walloc.latent_to_pil(Y.to(\"cpu\"),codec.latent_bits, 3)[0]\n",
    "        buff = io.BytesIO()\n",
    "        webp.save(buff, format='WEBP', lossless=True)\n",
    "        webp_bytes = buff.getbuffer()\n",
    "        encode_time = time.time() - t0\n",
    "        \n",
    "        bpp = 8*len(webp_bytes)/(H*W)  \n",
    "        \n",
    "    return {\n",
    "        'compressed': webp_bytes,\n",
    "        'encode_time': encode_time,\n",
    "        'bpp': bpp,\n",
    "    }"
   ]
  },
  {
   "cell_type": "code",
   "execution_count": null,
   "id": "07a4d392-f9b7-4d92-b656-a33ecffdf2d9",
   "metadata": {},
   "outputs": [
    {
     "data": {
      "application/vnd.jupyter.widget-view+json": {
       "model_id": "93d9274ecd00461797dd53a2bcd7b915",
       "version_major": 2,
       "version_minor": 0
      },
      "text/plain": [
       "Map:   0%|          | 0/250 [00:00<?, ? examples/s]"
      ]
     },
     "metadata": {},
     "output_type": "display_data"
    }
   ],
   "source": [
    "device = \"cpu\"\n",
    "codec = codec.to(device)\n",
    "walloc_ds = dataset.map(walloc_compress)\n",
    "walloc_ds = walloc_ds.cast_column('compressed',Image())"
   ]
  },
  {
   "cell_type": "code",
   "execution_count": null,
   "id": "f68f1389-d84d-449c-b9dc-f251a1ee7c8f",
   "metadata": {},
   "outputs": [],
   "source": [
    "walloc_ds[28]['compressed']"
   ]
  }
 ],
 "metadata": {
  "kernelspec": {
   "display_name": "Python 3 (ipykernel)",
   "language": "python",
   "name": "python3"
  },
  "language_info": {
   "codemirror_mode": {
    "name": "ipython",
    "version": 3
   },
   "file_extension": ".py",
   "mimetype": "text/x-python",
   "name": "python",
   "nbconvert_exporter": "python",
   "pygments_lexer": "ipython3",
   "version": "3.9.2"
  }
 },
 "nbformat": 4,
 "nbformat_minor": 5
}
