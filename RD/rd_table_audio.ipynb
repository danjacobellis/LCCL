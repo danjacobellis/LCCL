{
 "cells": [
  {
   "cell_type": "code",
   "execution_count": 1,
   "id": "47453076-df61-49cf-a4a4-092bb71b2fd1",
   "metadata": {},
   "outputs": [],
   "source": [
    "from IPython.display import Markdown, Latex\n",
    "from datasets import load_dataset\n",
    "import numpy as np\n",
    "import pandas as pd"
   ]
  },
  {
   "cell_type": "code",
   "execution_count": 2,
   "id": "5ac7b900-5c22-40c8-bc71-f08f366acdae",
   "metadata": {},
   "outputs": [],
   "source": [
    "methods = [\n",
    "    \"danjacobellis/MUSDB_opus_12kbps\",\n",
    "    \"danjacobellis/MUSDB_Stereo_Li_108c_test2\",\n",
    "    \"danjacobellis/MUSDB_encodec_12kbps\",\n",
    "    \"danjacobellis/MUSDB_Stereo_Li_27c_test2\",\n",
    "    \"danjacobellis/MUSDB_stable_audio_fp16\"\n",
    "]\n",
    "\n",
    "dimensionality_reduction = [\n",
    "    1,\n",
    "    512/108,\n",
    "    5,\n",
    "    512/27,\n",
    "    64,\n",
    "]\n",
    "\n",
    "names = [\n",
    "    'Opus',\n",
    "    'WalloC',\n",
    "    'EnCodec',\n",
    "    'WalloC',\n",
    "    'Stable Audio',\n",
    "]\n",
    "\n",
    "metrics = [\n",
    "    'PSNR',\n",
    "    'SSDR',\n",
    "    'SRDR',\n",
    "]\n",
    "\n",
    "columns = [\n",
    "    'Name',\n",
    "    'Dimensionality Reduction',\n",
    "    'Compression Ratio',\n",
    "    'Encode',\n",
    "    'Decode',\n",
    "] + metrics + ['CDPAM']"
   ]
  },
  {
   "cell_type": "code",
   "execution_count": 3,
   "id": "17273f0d-a1e7-42f4-b395-89ce55bce35f",
   "metadata": {},
   "outputs": [
    {
     "data": {
      "application/vnd.jupyter.widget-view+json": {
       "model_id": "fd2ed439d9004788924d5a722ff57a38",
       "version_major": 2,
       "version_minor": 0
      },
      "text/plain": [
       "Resolving data files:   0%|          | 0/23 [00:00<?, ?it/s]"
      ]
     },
     "metadata": {},
     "output_type": "display_data"
    },
    {
     "data": {
      "application/vnd.jupyter.widget-view+json": {
       "model_id": "857b91ed77e24a95b38fa18f0e5d9f5a",
       "version_major": 2,
       "version_minor": 0
      },
      "text/plain": [
       "Resolving data files:   0%|          | 0/23 [00:00<?, ?it/s]"
      ]
     },
     "metadata": {},
     "output_type": "display_data"
    },
    {
     "data": {
      "application/vnd.jupyter.widget-view+json": {
       "model_id": "90505385c210438783bfd8eddfd6d4a7",
       "version_major": 2,
       "version_minor": 0
      },
      "text/plain": [
       "Resolving data files:   0%|          | 0/23 [00:00<?, ?it/s]"
      ]
     },
     "metadata": {},
     "output_type": "display_data"
    },
    {
     "data": {
      "application/vnd.jupyter.widget-view+json": {
       "model_id": "19378b33653a45b295ba167e6cf0abbd",
       "version_major": 2,
       "version_minor": 0
      },
      "text/plain": [
       "Resolving data files:   0%|          | 0/23 [00:00<?, ?it/s]"
      ]
     },
     "metadata": {},
     "output_type": "display_data"
    },
    {
     "data": {
      "application/vnd.jupyter.widget-view+json": {
       "model_id": "65bff11f74014993828d2cd1e821e3e8",
       "version_major": 2,
       "version_minor": 0
      },
      "text/plain": [
       "Resolving data files:   0%|          | 0/23 [00:00<?, ?it/s]"
      ]
     },
     "metadata": {},
     "output_type": "display_data"
    },
    {
     "data": {
      "application/vnd.jupyter.widget-view+json": {
       "model_id": "1951f51ec6a540b2bcab28d9b098d416",
       "version_major": 2,
       "version_minor": 0
      },
      "text/plain": [
       "Resolving data files:   0%|          | 0/23 [00:00<?, ?it/s]"
      ]
     },
     "metadata": {},
     "output_type": "display_data"
    },
    {
     "data": {
      "application/vnd.jupyter.widget-view+json": {
       "model_id": "b6a35c9d097e4d99b9ee1dd26753c787",
       "version_major": 2,
       "version_minor": 0
      },
      "text/plain": [
       "Resolving data files:   0%|          | 0/23 [00:00<?, ?it/s]"
      ]
     },
     "metadata": {},
     "output_type": "display_data"
    },
    {
     "data": {
      "application/vnd.jupyter.widget-view+json": {
       "model_id": "061e3788d7ff4f7b8d95cac46d814e55",
       "version_major": 2,
       "version_minor": 0
      },
      "text/plain": [
       "Resolving data files:   0%|          | 0/23 [00:00<?, ?it/s]"
      ]
     },
     "metadata": {},
     "output_type": "display_data"
    },
    {
     "data": {
      "application/vnd.jupyter.widget-view+json": {
       "model_id": "c663b483e3f64ee68d88b8fb97da5f7e",
       "version_major": 2,
       "version_minor": 0
      },
      "text/plain": [
       "Resolving data files:   0%|          | 0/23 [00:00<?, ?it/s]"
      ]
     },
     "metadata": {},
     "output_type": "display_data"
    },
    {
     "data": {
      "application/vnd.jupyter.widget-view+json": {
       "model_id": "36864ec0d97847e8af720e6028459662",
       "version_major": 2,
       "version_minor": 0
      },
      "text/plain": [
       "Resolving data files:   0%|          | 0/23 [00:00<?, ?it/s]"
      ]
     },
     "metadata": {},
     "output_type": "display_data"
    },
    {
     "data": {
      "text/markdown": [
       "| Name         |   Dimensionality Reduction |   Compression Ratio |   Encode |   Decode |    PSNR |    SSDR |    SRDR |   CDPAM |\n",
       "|:-------------|---------------------------:|--------------------:|---------:|---------:|--------:|--------:|--------:|--------:|\n",
       "| Opus         |                     1      |            118.542  |  11.5    | 101.783  | 30.3705 | 16.7345 |  5.0343 | 40.3767 |\n",
       "| WalloC       |                     4.7407 |             21.3065 |  77.7947 |  11.1713 | 39.0242 | 33.2625 | 13.8961 | 41.0717 |\n",
       "| EnCodec      |                     5      |            114.131  |   2.7511 |   3.0337 | 31.9516 | 22.6949 |  6.6919 | 47.3817 |\n",
       "| WalloC       |                    18.963  |             76.2823 | 121.26   |  12.1872 | 33.3161 | 22.523  |  8.061  | 36.641  |\n",
       "| Stable Audio |                    64      |             64      |   0.3084 |   0.2998 | 28.4155 | 15.7432 |  2.0318 | 49.7486 |"
      ],
      "text/plain": [
       "<IPython.core.display.Markdown object>"
      ]
     },
     "metadata": {},
     "output_type": "display_data"
    }
   ],
   "source": [
    "data_rows = []\n",
    "\n",
    "for i_method, method in enumerate(methods):\n",
    "    ds = load_dataset(method, split='validation')\n",
    "    row = [names[i_method], dimensionality_reduction[i_method]]\n",
    "    bps_mean = np.mean(ds['bps'])\n",
    "    compression_ratio = 16 / bps_mean\n",
    "    encode_MS_per_second = 2*np.mean(np.array(ds['L'])/np.array(ds['cpu_encode_time'])/1e6)\n",
    "    decode_MS_per_second = 2*np.mean(np.array(ds['L'])/np.array(ds['cpu_decode_time'])/1e6)\n",
    "    row.append(compression_ratio)\n",
    "    row.append(encode_MS_per_second)\n",
    "    row.append(decode_MS_per_second)\n",
    "    for metric in metrics:\n",
    "        mean = np.mean(ds[metric])\n",
    "        row.append(mean)\n",
    "    CDPAM_dB = np.median(-10*np.log10(ds['CDPAM']))\n",
    "    row.append(CDPAM_dB)\n",
    "    data_rows.append(row)\n",
    "\n",
    "df = pd.DataFrame(data_rows, columns=columns)\n",
    "\n",
    "df_rounded = df.round(4)\n",
    "md_table = df_rounded.to_markdown(index=False)\n",
    "display(Markdown(md_table))"
   ]
  },
  {
   "cell_type": "code",
   "execution_count": 4,
   "id": "2f066e91-060f-40db-87ba-369dc48183fe",
   "metadata": {},
   "outputs": [
    {
     "name": "stdout",
     "output_type": "stream",
     "text": [
      "\\begin{tabular}{lrrrrrr}\n",
      "\\toprule\n",
      " & Name & Dimensionality Reduction & Compression Ratio & Encode & Decode & PSNR & SSDR & SRDR & CDPAM \\\\\n",
      "\\midrule\n",
      "\\textbf{0} & Opus & 1 & 119 & 11.5 & 102 & 30.4 & 16.7 & 5.03 & 40.4 \\\\\n",
      "\\textbf{1} & WalloC & 4.74 & 21.3 & 77.8 & 11.2 & 39 & 33.3 & 13.9 & 41.1 \\\\\n",
      "\\textbf{2} & EnCodec & 5 & 114 & 2.75 & 3.03 & 32 & 22.7 & 6.69 & 47.4 \\\\\n",
      "\\textbf{3} & WalloC & 19 & 76.3 & 121 & 12.2 & 33.3 & 22.5 & 8.06 & 36.6 \\\\\n",
      "\\textbf{4} & Stable Audio & 64 & 64 & 0.308 & 0.3 & 28.4 & 15.7 & 2.03 & 49.7 \\\\\n",
      "\\bottomrule\n",
      "\\end{tabular}\n",
      "\n"
     ]
    }
   ],
   "source": [
    "df_rounded = df.round(10)\n",
    "column_format = 'l' + 'rr' * len(metrics)\n",
    "latex_table = df_rounded.to_latex(\n",
    "    index=True,\n",
    "    float_format=\"%.3g\",\n",
    "    column_format=column_format,\n",
    "    multicolumn=True,\n",
    "    multicolumn_format='c',\n",
    "    bold_rows=True\n",
    ")\n",
    "print(latex_table)"
   ]
  }
 ],
 "metadata": {
  "kernelspec": {
   "display_name": "Python 3 (ipykernel)",
   "language": "python",
   "name": "python3"
  },
  "language_info": {
   "codemirror_mode": {
    "name": "ipython",
    "version": 3
   },
   "file_extension": ".py",
   "mimetype": "text/x-python",
   "name": "python",
   "nbconvert_exporter": "python",
   "pygments_lexer": "ipython3",
   "version": "3.10.12"
  }
 },
 "nbformat": 4,
 "nbformat_minor": 5
}
