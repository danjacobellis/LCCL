{
 "cells": [
  {
   "cell_type": "code",
   "execution_count": 1,
   "id": "47453076-df61-49cf-a4a4-092bb71b2fd1",
   "metadata": {},
   "outputs": [],
   "source": [
    "from IPython.display import Markdown, Latex\n",
    "from datasets import load_dataset\n",
    "import numpy as np\n",
    "import pandas as pd"
   ]
  },
  {
   "cell_type": "code",
   "execution_count": 11,
   "id": "5ac7b900-5c22-40c8-bc71-f08f366acdae",
   "metadata": {},
   "outputs": [],
   "source": [
    "methods = [\n",
    "    \"danjacobellis/MUSDB_vss_samples_rr_4x\",\n",
    "    \"danjacobellis/MUSDB_vss_walloc_5x\",\n",
    "    \"danjacobellis/MUSDB_vss_samples_rr_18x\",\n",
    "    \"danjacobellis/MUSDB_vss_walloc_20x\",\n",
    "]\n",
    "\n",
    "dimensiona_reduction = [\n",
    "    4,\n",
    "    512/108,\n",
    "    18,\n",
    "    512/27,\n",
    "]\n",
    "\n",
    "names = [\n",
    "    'Downsample',\n",
    "    'WalloC 5x',\n",
    "    'Downsample',\n",
    "    'WalloC 20x',\n",
    "]\n",
    "\n",
    "metrics = [\n",
    "    'PSNR',\n",
    "    # 'SSDR',\n",
    "    # 'SRDR',\n",
    "    'CDPAM',\n",
    "]\n",
    "\n",
    "columns = [\n",
    "    'Name',\n",
    "    'Dimensionality Reduction',\n",
    "    'Equivalent Fs',\n",
    "] + metrics "
   ]
  },
  {
   "cell_type": "code",
   "execution_count": 12,
   "id": "22b762c8-d04b-435e-a46b-1baf96a47b1e",
   "metadata": {},
   "outputs": [
    {
     "data": {
      "text/plain": [
       "['Name', 'Dimensionality Reduction', 'Equivalent Fs', 'PSNR', 'CDPAM']"
      ]
     },
     "execution_count": 12,
     "metadata": {},
     "output_type": "execute_result"
    }
   ],
   "source": [
    "columns"
   ]
  },
  {
   "cell_type": "code",
   "execution_count": 13,
   "id": "17273f0d-a1e7-42f4-b395-89ce55bce35f",
   "metadata": {},
   "outputs": [
    {
     "data": {
      "text/markdown": [
       "| Name       |   Dimensionality Reduction |   Equivalent Fs |    PSNR |   CDPAM |\n",
       "|:-----------|---------------------------:|----------------:|--------:|--------:|\n",
       "| Downsample |                     4      |        11025    | 31.9733 | 37.3354 |\n",
       "| WalloC 5x  |                     4.7407 |         9302.34 | 34.2437 | 35.5056 |\n",
       "| Downsample |                    18      |         2450    | 31.5943 | 36.6061 |\n",
       "| WalloC 20x |                    18.963  |         2325.59 | 34.2317 | 36.0921 |"
      ],
      "text/plain": [
       "<IPython.core.display.Markdown object>"
      ]
     },
     "metadata": {},
     "output_type": "display_data"
    }
   ],
   "source": [
    "data_rows = []\n",
    "\n",
    "for i_method, method in enumerate(methods):\n",
    "    ds = load_dataset(method, split='validation')\n",
    "    dr = dimensiona_reduction[i_method]\n",
    "    row = [names[i_method], dr, 44100/dr]\n",
    "    for metric in metrics[:-1]:\n",
    "        mean = np.mean(ds[metric])\n",
    "        row.append(mean)\n",
    "    CDPAM_dB = np.mean(-10*np.log10(ds['CDPAM']))\n",
    "    row.append(CDPAM_dB)\n",
    "    data_rows.append(row)\n",
    "\n",
    "df = pd.DataFrame(data_rows, columns=columns)\n",
    "\n",
    "df_rounded = df.round(4)\n",
    "md_table = df_rounded.to_markdown(index=False)\n",
    "display(Markdown(md_table))"
   ]
  },
  {
   "cell_type": "code",
   "execution_count": 14,
   "id": "2f066e91-060f-40db-87ba-369dc48183fe",
   "metadata": {},
   "outputs": [
    {
     "name": "stdout",
     "output_type": "stream",
     "text": [
      "\\begin{tabular}{lrrrr}\n",
      "\\toprule\n",
      " & Name & Dimensionality Reduction & Equivalent Fs & PSNR & CDPAM \\\\\n",
      "\\midrule\n",
      "\\textbf{0} & Downsample & 4 & 1.1e+04 & 32 & 37.3 \\\\\n",
      "\\textbf{1} & WalloC 5x & 4.74 & 9.3e+03 & 34.2 & 35.5 \\\\\n",
      "\\textbf{2} & Downsample & 18 & 2.45e+03 & 31.6 & 36.6 \\\\\n",
      "\\textbf{3} & WalloC 20x & 19 & 2.33e+03 & 34.2 & 36.1 \\\\\n",
      "\\bottomrule\n",
      "\\end{tabular}\n",
      "\n"
     ]
    }
   ],
   "source": [
    "df_rounded = df.round(10)\n",
    "column_format = 'l' + 'rr' * len(metrics)\n",
    "latex_table = df_rounded.to_latex(\n",
    "    index=True,\n",
    "    float_format=\"%.3g\",\n",
    "    column_format=column_format,\n",
    "    multicolumn=True,\n",
    "    multicolumn_format='c',\n",
    "    bold_rows=True\n",
    ")\n",
    "print(latex_table)"
   ]
  }
 ],
 "metadata": {
  "kernelspec": {
   "display_name": "Python 3 (ipykernel)",
   "language": "python",
   "name": "python3"
  },
  "language_info": {
   "codemirror_mode": {
    "name": "ipython",
    "version": 3
   },
   "file_extension": ".py",
   "mimetype": "text/x-python",
   "name": "python",
   "nbconvert_exporter": "python",
   "pygments_lexer": "ipython3",
   "version": "3.10.12"
  }
 },
 "nbformat": 4,
 "nbformat_minor": 5
}
