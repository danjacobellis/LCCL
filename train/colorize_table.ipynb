{
 "cells": [
  {
   "cell_type": "code",
   "execution_count": 1,
   "id": "83d3ee92-316f-441c-9d39-28d80ca1d631",
   "metadata": {},
   "outputs": [],
   "source": [
    "from IPython.display import Markdown, Latex\n",
    "from datasets import load_dataset\n",
    "import numpy as np\n",
    "import pandas as pd"
   ]
  },
  {
   "cell_type": "code",
   "execution_count": 3,
   "id": "9dd51dae-6a66-491d-a654-80cb51e86ad6",
   "metadata": {},
   "outputs": [],
   "source": [
    "methods = [\n",
    "    \"danjacobellis/LSDIR_colorize_pixels_512_p32\",\n",
    "    \"danjacobellis/LSDIR_colorize_pixels_128_p8\"\n",
    "]\n",
    "metrics = [\n",
    "    'time',\n",
    "    'PSNR',\n",
    "    'MSSIM',\n",
    "    'LPIPS_dB',\n",
    "    'DISTS_dB',\n",
    "]\n",
    "types = [\n",
    "    \"Pixels\",\n",
    "    \"Pixels\"\n",
    "]\n",
    "res = [\n",
    "    512,\n",
    "    128\n",
    "]\n",
    "patch = [\n",
    "    32,\n",
    "    8\n",
    "]\n",
    "columns = [\n",
    "    \"type\",\n",
    "    \"resolution\",\n",
    "    \"patch_size\",\n",
    "] + metrics"
   ]
  },
  {
   "cell_type": "code",
   "execution_count": 4,
   "id": "6fb122cb-f4d9-4f2f-8056-96c191dc7560",
   "metadata": {},
   "outputs": [
    {
     "data": {
      "application/vnd.jupyter.widget-view+json": {
       "model_id": "d09677aefed346d581167ee3dc817549",
       "version_major": 2,
       "version_minor": 0
      },
      "text/plain": [
       "README.md:   0%|          | 0.00/710 [00:00<?, ?B/s]"
      ]
     },
     "metadata": {},
     "output_type": "display_data"
    },
    {
     "data": {
      "application/vnd.jupyter.widget-view+json": {
       "model_id": "e8298c331d7c445f9d2f188d999a3167",
       "version_major": 2,
       "version_minor": 0
      },
      "text/plain": [
       "validation-00000-of-00002.parquet:   0%|          | 0.00/341M [00:00<?, ?B/s]"
      ]
     },
     "metadata": {},
     "output_type": "display_data"
    },
    {
     "data": {
      "application/vnd.jupyter.widget-view+json": {
       "model_id": "dd8758627c2648a4849aab2e1c5a6d3a",
       "version_major": 2,
       "version_minor": 0
      },
      "text/plain": [
       "validation-00001-of-00002.parquet:   0%|          | 0.00/339M [00:00<?, ?B/s]"
      ]
     },
     "metadata": {},
     "output_type": "display_data"
    },
    {
     "data": {
      "application/vnd.jupyter.widget-view+json": {
       "model_id": "c69b66139db447baae4c86b55dedcb70",
       "version_major": 2,
       "version_minor": 0
      },
      "text/plain": [
       "Generating validation split:   0%|          | 0/250 [00:00<?, ? examples/s]"
      ]
     },
     "metadata": {},
     "output_type": "display_data"
    }
   ],
   "source": [
    "data_rows = []\n",
    "for im, method in enumerate(methods):\n",
    "    ds = load_dataset(method, split='validation')\n",
    "    row = [types[im],res[im],patch[im]]\n",
    "    for metric in metrics:\n",
    "        mean = np.mean(ds[metric])\n",
    "        row.append(mean)\n",
    "    data_rows.append(row)\n",
    "\n",
    "df = pd.DataFrame(data_rows, columns=columns)"
   ]
  },
  {
   "cell_type": "code",
   "execution_count": 5,
   "id": "a66e33de-bc2a-45c2-866c-6a6c8645dcdd",
   "metadata": {},
   "outputs": [
    {
     "data": {
      "text/html": [
       "<div>\n",
       "<style scoped>\n",
       "    .dataframe tbody tr th:only-of-type {\n",
       "        vertical-align: middle;\n",
       "    }\n",
       "\n",
       "    .dataframe tbody tr th {\n",
       "        vertical-align: top;\n",
       "    }\n",
       "\n",
       "    .dataframe thead th {\n",
       "        text-align: right;\n",
       "    }\n",
       "</style>\n",
       "<table border=\"1\" class=\"dataframe\">\n",
       "  <thead>\n",
       "    <tr style=\"text-align: right;\">\n",
       "      <th></th>\n",
       "      <th>type</th>\n",
       "      <th>resolution</th>\n",
       "      <th>patch_size</th>\n",
       "      <th>time</th>\n",
       "      <th>PSNR</th>\n",
       "      <th>MSSIM</th>\n",
       "      <th>LPIPS_dB</th>\n",
       "      <th>DISTS_dB</th>\n",
       "    </tr>\n",
       "  </thead>\n",
       "  <tbody>\n",
       "    <tr>\n",
       "      <th>0</th>\n",
       "      <td>Pixels</td>\n",
       "      <td>512</td>\n",
       "      <td>32</td>\n",
       "      <td>0.004779</td>\n",
       "      <td>18.504796</td>\n",
       "      <td>0.825925</td>\n",
       "      <td>2.426913</td>\n",
       "      <td>6.225237</td>\n",
       "    </tr>\n",
       "    <tr>\n",
       "      <th>1</th>\n",
       "      <td>Pixels</td>\n",
       "      <td>128</td>\n",
       "      <td>8</td>\n",
       "      <td>0.004850</td>\n",
       "      <td>17.655345</td>\n",
       "      <td>0.713271</td>\n",
       "      <td>1.760317</td>\n",
       "      <td>5.096641</td>\n",
       "    </tr>\n",
       "  </tbody>\n",
       "</table>\n",
       "</div>"
      ],
      "text/plain": [
       "     type  resolution  patch_size      time       PSNR     MSSIM  LPIPS_dB  \\\n",
       "0  Pixels         512          32  0.004779  18.504796  0.825925  2.426913   \n",
       "1  Pixels         128           8  0.004850  17.655345  0.713271  1.760317   \n",
       "\n",
       "   DISTS_dB  \n",
       "0  6.225237  \n",
       "1  5.096641  "
      ]
     },
     "execution_count": 5,
     "metadata": {},
     "output_type": "execute_result"
    }
   ],
   "source": [
    "df"
   ]
  },
  {
   "cell_type": "code",
   "execution_count": null,
   "id": "6081e706-d225-4e0c-b7b6-4ae6fcf3ecb4",
   "metadata": {},
   "outputs": [],
   "source": [
    "ds[52]['image']"
   ]
  },
  {
   "cell_type": "code",
   "execution_count": null,
   "id": "39faee2b-b4cc-4847-ad86-918f0126c4ca",
   "metadata": {},
   "outputs": [],
   "source": [
    "ds[52]['colorized']"
   ]
  },
  {
   "cell_type": "code",
   "execution_count": null,
   "id": "a4685df3-7fdf-4ea4-a0ec-384b9ace5154",
   "metadata": {},
   "outputs": [],
   "source": [
    "ds[64]['image']"
   ]
  },
  {
   "cell_type": "code",
   "execution_count": null,
   "id": "673ffd69-6f84-46d9-927b-2d9e69d19ccb",
   "metadata": {},
   "outputs": [],
   "source": [
    "ds[64]['colorized']"
   ]
  },
  {
   "cell_type": "code",
   "execution_count": null,
   "id": "e7537edb-8ad5-4bd1-ae8e-47a16d2ad7e1",
   "metadata": {},
   "outputs": [],
   "source": [
    "ds[95]['image']"
   ]
  },
  {
   "cell_type": "code",
   "execution_count": null,
   "id": "2e36b9e7-368c-4a40-a72d-83b832d19b3a",
   "metadata": {},
   "outputs": [],
   "source": [
    "ds[95]['colorized']"
   ]
  },
  {
   "cell_type": "code",
   "execution_count": null,
   "id": "411c1415-e1d4-4add-bb6b-adb54a1534a1",
   "metadata": {},
   "outputs": [],
   "source": [
    "ds[105]['image']"
   ]
  },
  {
   "cell_type": "code",
   "execution_count": null,
   "id": "63cb0314-bbe5-4232-827d-5160b1c16dcc",
   "metadata": {},
   "outputs": [],
   "source": [
    "ds[105]['colorized']"
   ]
  }
 ],
 "metadata": {
  "kernelspec": {
   "display_name": "Python 3 (ipykernel)",
   "language": "python",
   "name": "python3"
  },
  "language_info": {
   "codemirror_mode": {
    "name": "ipython",
    "version": 3
   },
   "file_extension": ".py",
   "mimetype": "text/x-python",
   "name": "python",
   "nbconvert_exporter": "python",
   "pygments_lexer": "ipython3",
   "version": "3.10.12"
  }
 },
 "nbformat": 4,
 "nbformat_minor": 5
}
