{
 "cells": [
  {
   "cell_type": "code",
   "execution_count": null,
   "id": "baae57ea-848f-4974-94b3-649d96b578b3",
   "metadata": {},
   "outputs": [],
   "source": [
    "!mkdir task1 && tar -xzf test_task1_imgs.tar.gz -C task1"
   ]
  },
  {
   "cell_type": "code",
   "execution_count": null,
   "id": "89c6e9c8-2aa4-4e28-a315-952e94a1c3da",
   "metadata": {},
   "outputs": [],
   "source": [
    "!mkdir task2 && tar -xzf test_task2_imgs.tar.gz -C task2"
   ]
  },
  {
   "cell_type": "code",
   "execution_count": null,
   "id": "fe42a732-1f9d-44d1-b68d-55b80905e873",
   "metadata": {},
   "outputs": [],
   "source": [
    "!mkdir task3 && tar -xzf test_task3_imgs.tar.gz -C task3"
   ]
  },
  {
   "cell_type": "code",
   "execution_count": 15,
   "id": "5d555461-8af1-4aeb-aee5-f2142191fcb2",
   "metadata": {},
   "outputs": [],
   "source": [
    "import json"
   ]
  },
  {
   "cell_type": "code",
   "execution_count": 16,
   "id": "1e10692a-0543-4513-a0b5-e5c8c79cbf84",
   "metadata": {},
   "outputs": [],
   "source": [
    "with open('test_task_1.json', 'r') as f:\n",
    "    data = json.load(f)"
   ]
  },
  {
   "cell_type": "code",
   "execution_count": 23,
   "id": "2bbc054b-cdec-4167-a517-8ef65d44b224",
   "metadata": {},
   "outputs": [
    {
     "data": {
      "text/plain": [
       "{'set_name': 'test',\n",
       " 'dictionary': ['much',\n",
       "  'image',\n",
       "  'political',\n",
       "  '3',\n",
       "  'season',\n",
       "  'large',\n",
       "  'great',\n",
       "  'house',\n",
       "  'racing',\n",
       "  'driver',\n",
       "  'battle',\n",
       "  'four',\n",
       "  'ret',\n",
       "  'germany',\n",
       "  'still',\n",
       "  'tank',\n",
       "  'national',\n",
       "  'began',\n",
       "  'back',\n",
       "  'championship',\n",
       "  'soviet',\n",
       "  'school',\n",
       "  'now',\n",
       "  'event',\n",
       "  'book',\n",
       "  'use',\n",
       "  'area',\n",
       "  'von',\n",
       "  'king',\n",
       "  'around',\n",
       "  'french',\n",
       "  'system',\n",
       "  'took',\n",
       "  'schiller',\n",
       "  'film',\n",
       "  'march',\n",
       "  'long',\n",
       "  'last',\n",
       "  'varreorc',\n",
       "  'number',\n",
       "  'samoa',\n",
       "  'british',\n",
       "  'line',\n",
       "  'france',\n",
       "  'john',\n",
       "  'power',\n",
       "  'moscow',\n",
       "  'afr',\n",
       "  'order',\n",
       "  'university',\n",
       "  'place',\n",
       "  'country',\n",
       "  'several',\n",
       "  'left',\n",
       "  'group',\n",
       "  'form',\n",
       "  'car',\n",
       "  'result',\n",
       "  'military',\n",
       "  'people',\n",
       "  'high',\n",
       "  'led',\n",
       "  'will',\n",
       "  'even',\n",
       "  'since',\n",
       "  'force',\n",
       "  'family',\n",
       "  'life',\n",
       "  'member',\n",
       "  'like',\n",
       "  'general',\n",
       "  'party',\n",
       "  'series',\n",
       "  'cote',\n",
       "  'united',\n",
       "  'hartford',\n",
       "  'following',\n",
       "  '0',\n",
       "  'another',\n",
       "  'although',\n",
       "  'point',\n",
       "  'american',\n",
       "  'often',\n",
       "  'north',\n",
       "  'international',\n",
       "  'death',\n",
       "  'ctn',\n",
       "  'army',\n",
       "  'service',\n",
       "  'formula',\n",
       "  'won',\n",
       "  'roman',\n",
       "  'grand',\n",
       "  'major',\n",
       "  'right',\n",
       "  'athens',\n",
       "  'south',\n",
       "  'prix',\n",
       "  'end',\n",
       "  'miksik'],\n",
       " 'file_name': '2346109.jpg',\n",
       " 'question': 'What is printed on the top line of the hoodie?',\n",
       " 'image_width': 500,\n",
       " 'dataset': 'VisualGenome/1',\n",
       " 'question_tokens': ['What',\n",
       "  'is',\n",
       "  'printed',\n",
       "  'on',\n",
       "  'the',\n",
       "  'top',\n",
       "  'line',\n",
       "  'of',\n",
       "  'the',\n",
       "  'hoodie',\n",
       "  '?'],\n",
       " 'image_height': 329,\n",
       " 'file_path': 'VisualGenome/1/2346109.jpg',\n",
       " 'question_id': 3}"
      ]
     },
     "execution_count": 23,
     "metadata": {},
     "output_type": "execute_result"
    }
   ],
   "source": [
    "data['data'][0]"
   ]
  }
 ],
 "metadata": {
  "kernelspec": {
   "display_name": "Python 3 (ipykernel)",
   "language": "python",
   "name": "python3"
  },
  "language_info": {
   "codemirror_mode": {
    "name": "ipython",
    "version": 3
   },
   "file_extension": ".py",
   "mimetype": "text/x-python",
   "name": "python",
   "nbconvert_exporter": "python",
   "pygments_lexer": "ipython3",
   "version": "3.10.12"
  }
 },
 "nbformat": 4,
 "nbformat_minor": 5
}
