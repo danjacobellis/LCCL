{
 "cells": [
  {
   "cell_type": "code",
   "execution_count": 1,
   "id": "fb3be548-2f74-488e-a783-20097670ba25",
   "metadata": {},
   "outputs": [
    {
     "name": "stdout",
     "output_type": "stream",
     "text": [
      "--2024-09-23 21:03:41--  https://hf.co/danjacobellis/walloc/resolve/main/RGB_Li_12c_J3_nf8_v1.0.2.pth\n",
      "Resolving hf.co (hf.co)... 44.212.132.255, 34.204.155.59, 34.198.14.237, ...\n",
      "Connecting to hf.co (hf.co)|44.212.132.255|:443... connected.\n",
      "HTTP request sent, awaiting response... 302 Moved Temporarily\n",
      "Location: https://huggingface.co/danjacobellis/walloc/resolve/main/RGB_Li_12c_J3_nf8_v1.0.2.pth [following]\n",
      "--2024-09-23 21:03:41--  https://huggingface.co/danjacobellis/walloc/resolve/main/RGB_Li_12c_J3_nf8_v1.0.2.pth\n",
      "Resolving huggingface.co (huggingface.co)... 108.156.211.95, 108.156.211.90, 108.156.211.51, ...\n",
      "Connecting to huggingface.co (huggingface.co)|108.156.211.95|:443... connected.\n",
      "HTTP request sent, awaiting response... 302 Found\n",
      "Location: https://cdn-lfs-us-1.huggingface.co/repos/f3/ba/f3ba06623731c38247420d7019770a013d176a409abc994df4fee215d214a026/6460e20646745084ddf80e8913df1d9f4c733f5827e65d07889b377e71adc9b5?response-content-disposition=inline%3B+filename*%3DUTF-8%27%27RGB_Li_12c_J3_nf8_v1.0.2.pth%3B+filename%3D%22RGB_Li_12c_J3_nf8_v1.0.2.pth%22%3B&Expires=1727402621&Policy=eyJTdGF0ZW1lbnQiOlt7IkNvbmRpdGlvbiI6eyJEYXRlTGVzc1RoYW4iOnsiQVdTOkVwb2NoVGltZSI6MTcyNzQwMjYyMX19LCJSZXNvdXJjZSI6Imh0dHBzOi8vY2RuLWxmcy11cy0xLmh1Z2dpbmdmYWNlLmNvL3JlcG9zL2YzL2JhL2YzYmEwNjYyMzczMWMzODI0NzQyMGQ3MDE5NzcwYTAxM2QxNzZhNDA5YWJjOTk0ZGY0ZmVlMjE1ZDIxNGEwMjYvNjQ2MGUyMDY0Njc0NTA4NGRkZjgwZTg5MTNkZjFkOWY0YzczM2Y1ODI3ZTY1ZDA3ODg5YjM3N2U3MWFkYzliNT9yZXNwb25zZS1jb250ZW50LWRpc3Bvc2l0aW9uPSoifV19&Signature=eNKoh%7Eih84Xh4J9uuo2f5A0UD7l0Z0CWbLGeP7S0DqELxCSHMAixWkZUiIsNMJYsGzOZkdT6K-z-hEBxzjZjy4YKGxQ7S1rn26VzyOIwZPMFECs1xtF2AldAByJyUCQpFyHv%7ETu3WJZCEzJfWq5MQ2LP8NCBeLAR0C8ArEGamp7WNIk3ZcAlPjaBoVdh7FFvLuZQezSgR%7Eny0b-DQwNLKks6RJ7RlByuswgXa9oEB24cSyKwNQRY93m2IJCj5pI9B-M603w5QjEThxWUoootOC1xBkyKPNQrA36YfmXWC%7Efmc7Zi1NbNRUG54w0zarlp%7ErdmDVNIPcnfJttRl3PACA__&Key-Pair-Id=K24J24Z295AEI9 [following]\n",
      "--2024-09-23 21:03:41--  https://cdn-lfs-us-1.huggingface.co/repos/f3/ba/f3ba06623731c38247420d7019770a013d176a409abc994df4fee215d214a026/6460e20646745084ddf80e8913df1d9f4c733f5827e65d07889b377e71adc9b5?response-content-disposition=inline%3B+filename*%3DUTF-8%27%27RGB_Li_12c_J3_nf8_v1.0.2.pth%3B+filename%3D%22RGB_Li_12c_J3_nf8_v1.0.2.pth%22%3B&Expires=1727402621&Policy=eyJTdGF0ZW1lbnQiOlt7IkNvbmRpdGlvbiI6eyJEYXRlTGVzc1RoYW4iOnsiQVdTOkVwb2NoVGltZSI6MTcyNzQwMjYyMX19LCJSZXNvdXJjZSI6Imh0dHBzOi8vY2RuLWxmcy11cy0xLmh1Z2dpbmdmYWNlLmNvL3JlcG9zL2YzL2JhL2YzYmEwNjYyMzczMWMzODI0NzQyMGQ3MDE5NzcwYTAxM2QxNzZhNDA5YWJjOTk0ZGY0ZmVlMjE1ZDIxNGEwMjYvNjQ2MGUyMDY0Njc0NTA4NGRkZjgwZTg5MTNkZjFkOWY0YzczM2Y1ODI3ZTY1ZDA3ODg5YjM3N2U3MWFkYzliNT9yZXNwb25zZS1jb250ZW50LWRpc3Bvc2l0aW9uPSoifV19&Signature=eNKoh%7Eih84Xh4J9uuo2f5A0UD7l0Z0CWbLGeP7S0DqELxCSHMAixWkZUiIsNMJYsGzOZkdT6K-z-hEBxzjZjy4YKGxQ7S1rn26VzyOIwZPMFECs1xtF2AldAByJyUCQpFyHv%7ETu3WJZCEzJfWq5MQ2LP8NCBeLAR0C8ArEGamp7WNIk3ZcAlPjaBoVdh7FFvLuZQezSgR%7Eny0b-DQwNLKks6RJ7RlByuswgXa9oEB24cSyKwNQRY93m2IJCj5pI9B-M603w5QjEThxWUoootOC1xBkyKPNQrA36YfmXWC%7Efmc7Zi1NbNRUG54w0zarlp%7ErdmDVNIPcnfJttRl3PACA__&Key-Pair-Id=K24J24Z295AEI9\n",
      "Resolving cdn-lfs-us-1.huggingface.co (cdn-lfs-us-1.huggingface.co)... 18.161.156.33, 18.161.156.61, 18.161.156.80, ...\n",
      "Connecting to cdn-lfs-us-1.huggingface.co (cdn-lfs-us-1.huggingface.co)|18.161.156.33|:443... connected.\n",
      "HTTP request sent, awaiting response... 200 OK\n",
      "Length: 240768374 (230M) [application/zip]\n",
      "Saving to: ‘RGB_Li_12c_J3_nf8_v1.0.2.pth’\n",
      "\n",
      "RGB_Li_12c_J3_nf8_v 100%[===================>] 229.61M   110MB/s    in 2.1s    \n",
      "\n",
      "2024-09-23 21:03:44 (110 MB/s) - ‘RGB_Li_12c_J3_nf8_v1.0.2.pth’ saved [240768374/240768374]\n",
      "\n"
     ]
    }
   ],
   "source": [
    "!wget https://hf.co/danjacobellis/walloc/resolve/main/RGB_Li_12c_J3_nf8_v1.0.2.pth"
   ]
  },
  {
   "cell_type": "code",
   "execution_count": 2,
   "id": "36ec9f03-99de-43f2-9276-3aebd3902c48",
   "metadata": {},
   "outputs": [
    {
     "name": "stdout",
     "output_type": "stream",
     "text": [
      "NVIDIA GeForce RTX 4090\n"
     ]
    }
   ],
   "source": [
    "!nvidia-smi --query-gpu=name --format=csv,noheader | head -n 1"
   ]
  },
  {
   "cell_type": "code",
   "execution_count": 2,
   "id": "6d7db02c-516f-4ddd-ba4a-31b7dcc18526",
   "metadata": {},
   "outputs": [],
   "source": [
    "import io\n",
    "import time\n",
    "import torch\n",
    "import numpy as np\n",
    "import PIL\n",
    "from torchvision.transforms import ToPILImage, PILToTensor\n",
    "from datasets import load_dataset, Image\n",
    "from walloc import walloc\n",
    "from piq import LPIPS, DISTS, psnr, multi_scale_ssim\n",
    "\n",
    "class Config: pass"
   ]
  },
  {
   "cell_type": "code",
   "execution_count": 3,
   "id": "389e035a-effe-4599-807b-96c213e5a634",
   "metadata": {},
   "outputs": [],
   "source": [
    "checkpoint = torch.load(\"RGB_Li_12c_J3_nf8_v1.0.2.pth\",map_location=\"cpu\",weights_only=False)\n",
    "codec_config = checkpoint['config']\n",
    "codec = walloc.Codec2D(\n",
    "    channels = codec_config.channels,\n",
    "    J = codec_config.J,\n",
    "    Ne = codec_config.Ne,\n",
    "    Nd = codec_config.Nd,\n",
    "    latent_dim = codec_config.latent_dim,\n",
    "    latent_bits = codec_config.latent_bits,\n",
    "    lightweight_encode = codec_config.lightweight_encode\n",
    ")\n",
    "codec.load_state_dict(checkpoint['model_state_dict'])\n",
    "codec.eval();"
   ]
  },
  {
   "cell_type": "code",
   "execution_count": 4,
   "id": "cfc6e03e-ffcc-443f-be69-f6f75ba737e6",
   "metadata": {},
   "outputs": [
    {
     "name": "stderr",
     "output_type": "stream",
     "text": [
      "/home/dgj335/.local/lib/python3.10/site-packages/torchvision/models/_utils.py:208: UserWarning: The parameter 'pretrained' is deprecated since 0.13 and may be removed in the future, please use 'weights' instead.\n",
      "  warnings.warn(\n",
      "/home/dgj335/.local/lib/python3.10/site-packages/torchvision/models/_utils.py:223: UserWarning: Arguments other than a weight enum or `None` for 'weights' are deprecated since 0.13 and may be removed in the future. The current behavior is equivalent to passing `weights=VGG16_Weights.IMAGENET1K_V1`. You can also use `weights=VGG16_Weights.DEFAULT` to get the most up-to-date weights.\n",
      "  warnings.warn(msg)\n"
     ]
    }
   ],
   "source": [
    "lpips_loss = LPIPS().to(\"cuda\")\n",
    "dists_loss = DISTS().to(\"cuda\")"
   ]
  },
  {
   "cell_type": "code",
   "execution_count": 5,
   "id": "f156141c-9fed-4893-a143-02abbe802822",
   "metadata": {},
   "outputs": [],
   "source": [
    "LSDIR = load_dataset(\"danjacobellis/LSDIR_val\", split='validation')"
   ]
  },
  {
   "cell_type": "code",
   "execution_count": 6,
   "id": "b911f5f0-aff8-4352-b93f-489b4e18c3b2",
   "metadata": {},
   "outputs": [],
   "source": [
    "def walloc_compress(sample):\n",
    "    with torch.no_grad():\n",
    "        img = sample['image']\n",
    "        x = PILToTensor()(img).to(torch.float)\n",
    "        x = (x/255 - 0.5).unsqueeze(0).to(device)\n",
    "        H, W = x.size(2), x.size(3)\n",
    "        x_padded = walloc.pad(x,p=16)\n",
    "\n",
    "        t0 = time.time()\n",
    "        X = codec.wavelet_analysis(x_padded,codec.J)\n",
    "        Y = codec.encoder(X)\n",
    "        webp = walloc.latent_to_pil(Y.to(\"cpu\"),codec.latent_bits, 3)[0]\n",
    "        buff = io.BytesIO()\n",
    "        webp.save(buff, format='WEBP', lossless=True)\n",
    "        webp_bytes = buff.getbuffer()\n",
    "        encode_time = time.time() - t0\n",
    "\n",
    "        t0 = time.time()\n",
    "        Y = walloc.pil_to_latent([PIL.Image.open(buff)], codec.latent_dim, codec.latent_bits, 3).to(device)\n",
    "        X_hat = codec.decoder(Y)\n",
    "        x_hat = codec.wavelet_synthesis(X_hat,codec.J)\n",
    "        x_hat = codec.clamp(x_hat)\n",
    "        decode_time = time.time() - t0\n",
    "        \n",
    "        x_hat = walloc.crop(x_hat, (H,W))\n",
    "        rec = ToPILImage()(x_hat[0] + 0.5)\n",
    "        buff2 = io.BytesIO()\n",
    "        rec.save(buff2, format='WEBP', lossless=True)\n",
    "        rec_webp_bytes = buff2.getbuffer()\n",
    "\n",
    "        bpp = 8*len(webp_bytes)/(H*W)\n",
    "        PSNR = psnr(x+0.5,x_hat+0.5)\n",
    "        MSSIM = multi_scale_ssim(x+0.5,x_hat+0.5)\n",
    "        LPIPS_dB = -10*np.log10(lpips_loss(x.to(\"cuda\")+0.5, x_hat.to(\"cuda\")+0.5).item())\n",
    "        DISTS_dB = -10*np.log10(dists_loss(x.to(\"cuda\")+0.5, x_hat.to(\"cuda\")+0.5).item())        \n",
    "        \n",
    "    return {\n",
    "        'recovered': rec_webp_bytes,\n",
    "        'compressed': webp_bytes,\n",
    "        'encode_time': encode_time,\n",
    "        'decode_time': decode_time,\n",
    "        'bpp': bpp,\n",
    "        'PSNR': PSNR,\n",
    "        'MSSIM': MSSIM,\n",
    "        'LPIPS_dB': LPIPS_dB,\n",
    "        'DISTS_dB': DISTS_dB,\n",
    "    }"
   ]
  },
  {
   "cell_type": "code",
   "execution_count": 7,
   "id": "07a4d392-f9b7-4d92-b656-a33ecffdf2d9",
   "metadata": {},
   "outputs": [
    {
     "data": {
      "application/vnd.jupyter.widget-view+json": {
       "model_id": "e26e3f7d79924c87be70b48a771769ac",
       "version_major": 2,
       "version_minor": 0
      },
      "text/plain": [
       "Map:   0%|          | 0/250 [00:00<?, ? examples/s]"
      ]
     },
     "metadata": {},
     "output_type": "display_data"
    }
   ],
   "source": [
    "device = \"cuda\"\n",
    "codec = codec.to(device)\n",
    "gpu = LSDIR.map(walloc_compress)\n",
    "gpu = gpu.cast_column('recovered',Image())\n",
    "gpu = gpu.cast_column('compressed',Image())"
   ]
  },
  {
   "cell_type": "code",
   "execution_count": 8,
   "id": "8ed7b5ec-3124-470f-86b4-359c2389e9e6",
   "metadata": {},
   "outputs": [],
   "source": [
    "def walloc_compress_cpu(sample):\n",
    "    with torch.no_grad():\n",
    "        img = sample['image']\n",
    "        x = PILToTensor()(img).to(torch.float)\n",
    "        x = (x/255 - 0.5).unsqueeze(0).to(device)\n",
    "        H, W = x.size(2), x.size(3)\n",
    "        x_padded = walloc.pad(x,p=8)\n",
    "\n",
    "        t0 = time.time()\n",
    "        X = codec.wavelet_analysis(x_padded,codec.J)\n",
    "        Y = codec.encoder(X)\n",
    "        webp = walloc.latent_to_pil(Y.to(\"cpu\"),codec.latent_bits, 3)[0]\n",
    "        buff = io.BytesIO()\n",
    "        webp.save(buff, format='WEBP', lossless=True)\n",
    "        webp_bytes = buff.getbuffer()\n",
    "        encode_time = time.time() - t0\n",
    "\n",
    "        t0 = time.time()\n",
    "        Y = walloc.pil_to_latent([PIL.Image.open(buff)], codec.latent_dim, codec.latent_bits, 3).to(device)\n",
    "        X_hat = codec.decoder(Y)\n",
    "        x_hat = codec.wavelet_synthesis(X_hat,codec.J)\n",
    "        x_hat = codec.clamp(x_hat)\n",
    "        decode_time = time.time() - t0\n",
    "                \n",
    "    return {\n",
    "        'cpu_encode_time': encode_time,\n",
    "        'cpu_decode_time': decode_time,\n",
    "    }"
   ]
  },
  {
   "cell_type": "code",
   "execution_count": 9,
   "id": "c5ddb0a9-70c7-46c4-b8bd-83aa7eb73268",
   "metadata": {},
   "outputs": [
    {
     "data": {
      "application/vnd.jupyter.widget-view+json": {
       "model_id": "fff82534342d4f47b474fd9eb822f2a1",
       "version_major": 2,
       "version_minor": 0
      },
      "text/plain": [
       "Map:   0%|          | 0/250 [00:00<?, ? examples/s]"
      ]
     },
     "metadata": {},
     "output_type": "display_data"
    }
   ],
   "source": [
    "device = \"cpu\"\n",
    "codec = codec.to(device)\n",
    "cpu = LSDIR.map(walloc_compress_cpu)\n",
    "combined = gpu.add_column('cpu_encode_time',cpu['cpu_encode_time'])\n",
    "combined = combined.add_column('cpu_decode_time',cpu['cpu_decode_time'])"
   ]
  },
  {
   "cell_type": "code",
   "execution_count": 10,
   "id": "e77d2fd0-f5b5-45b8-a386-65db975d376f",
   "metadata": {},
   "outputs": [],
   "source": [
    "metrics = [\n",
    "     'encode_time',\n",
    "     'decode_time',\n",
    "     'bpp',\n",
    "     'PSNR',\n",
    "     'MSSIM',\n",
    "     'LPIPS_dB',\n",
    "     'DISTS_dB', \n",
    "     'cpu_encode_time',\n",
    "     'cpu_decode_time',\n",
    "]"
   ]
  },
  {
   "cell_type": "code",
   "execution_count": 11,
   "id": "d1baaf00-9378-40ab-95d0-ef8f3e1d9245",
   "metadata": {},
   "outputs": [
    {
     "name": "stdout",
     "output_type": "stream",
     "text": [
      "encode_time: 0.03576316738128662\n",
      "decode_time: 0.008054869651794434\n",
      "bpp: 0.6819637504217378\n",
      "PSNR: 27.452449684143065\n",
      "MSSIM: 0.9699939274787903\n",
      "LPIPS_dB: 6.513075175518463\n",
      "DISTS_dB: 13.851437656052818\n",
      "cpu_encode_time: 0.05944069290161133\n",
      "cpu_decode_time: 2.847661691665649\n"
     ]
    }
   ],
   "source": [
    "for metric in metrics:\n",
    "    μ = np.mean(combined[metric])\n",
    "    print(f\"{metric}: {μ}\")"
   ]
  },
  {
   "cell_type": "code",
   "execution_count": 12,
   "id": "93ece6d3-6373-457d-8077-1bfcde46543e",
   "metadata": {},
   "outputs": [
    {
     "data": {
      "application/vnd.jupyter.widget-view+json": {
       "model_id": "aafddc4b9e91458fa686f9786f32cf96",
       "version_major": 2,
       "version_minor": 0
      },
      "text/plain": [
       "Uploading the dataset shards:   0%|          | 0/2 [00:00<?, ?it/s]"
      ]
     },
     "metadata": {},
     "output_type": "display_data"
    },
    {
     "data": {
      "application/vnd.jupyter.widget-view+json": {
       "model_id": "467160d9cdc54bf091e4f395e0a3fbe6",
       "version_major": 2,
       "version_minor": 0
      },
      "text/plain": [
       "Map:   0%|          | 0/125 [00:00<?, ? examples/s]"
      ]
     },
     "metadata": {},
     "output_type": "display_data"
    },
    {
     "data": {
      "application/vnd.jupyter.widget-view+json": {
       "model_id": "272853b74a24412b86114ee75b6867c7",
       "version_major": 2,
       "version_minor": 0
      },
      "text/plain": [
       "Creating parquet from Arrow format:   0%|          | 0/2 [00:00<?, ?ba/s]"
      ]
     },
     "metadata": {},
     "output_type": "display_data"
    },
    {
     "data": {
      "application/vnd.jupyter.widget-view+json": {
       "model_id": "7fc34124f6f548ed8e777c39a39405f5",
       "version_major": 2,
       "version_minor": 0
      },
      "text/plain": [
       "Map:   0%|          | 0/125 [00:00<?, ? examples/s]"
      ]
     },
     "metadata": {},
     "output_type": "display_data"
    },
    {
     "data": {
      "application/vnd.jupyter.widget-view+json": {
       "model_id": "655c431b0ff64a5fa7169577ede137f1",
       "version_major": 2,
       "version_minor": 0
      },
      "text/plain": [
       "Creating parquet from Arrow format:   0%|          | 0/2 [00:00<?, ?ba/s]"
      ]
     },
     "metadata": {},
     "output_type": "display_data"
    },
    {
     "data": {
      "text/plain": [
       "CommitInfo(commit_url='https://huggingface.co/datasets/danjacobellis/RGB_Li_12c_J3_nf8/commit/b40347b64bb170059fc6fd144be922257a1284e3', commit_message='Upload dataset', commit_description='', oid='b40347b64bb170059fc6fd144be922257a1284e3', pr_url=None, pr_revision=None, pr_num=None)"
      ]
     },
     "execution_count": 12,
     "metadata": {},
     "output_type": "execute_result"
    }
   ],
   "source": [
    "combined.push_to_hub(\"danjacobellis/RGB_Li_12c_J3_nf8\",split='validation')"
   ]
  }
 ],
 "metadata": {
  "kernelspec": {
   "display_name": "Python 3 (ipykernel)",
   "language": "python",
   "name": "python3"
  },
  "language_info": {
   "codemirror_mode": {
    "name": "ipython",
    "version": 3
   },
   "file_extension": ".py",
   "mimetype": "text/x-python",
   "name": "python",
   "nbconvert_exporter": "python",
   "pygments_lexer": "ipython3",
   "version": "3.10.12"
  }
 },
 "nbformat": 4,
 "nbformat_minor": 5
}
