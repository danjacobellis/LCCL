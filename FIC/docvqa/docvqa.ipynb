{
 "cells": [
  {
   "cell_type": "code",
   "execution_count": null,
   "id": "2daee4a1-81f2-49dd-ac88-ac908cc8fc62",
   "metadata": {},
   "outputs": [
    {
     "name": "stdout",
     "output_type": "stream",
     "text": [
      "--2024-09-14 19:48:49--  https://datasets.cvc.uab.es/rrc/DocVQA/Task1/spdocvqa_images.tar.gz\n",
      "Resolving datasets.cvc.uab.es (datasets.cvc.uab.es)... 158.109.8.18\n",
      "Connecting to datasets.cvc.uab.es (datasets.cvc.uab.es)|158.109.8.18|:443... connected.\n",
      "WARNING: cannot verify datasets.cvc.uab.es's certificate, issued by ‘CN=GEANT OV RSA CA 4,O=GEANT Vereniging,C=NL’:\n",
      "  Unable to locally verify the issuer's authority.\n",
      "HTTP request sent, awaiting response... 200 OK\n",
      "Length: 8580231801 (8.0G) [application/x-gzip]\n",
      "Saving to: ‘spdocvqa_images.tar.gz’\n",
      "\n",
      "spdocvqa_images.tar   0%[                    ]  16.87M   308KB/s    eta 5h 33m "
     ]
    }
   ],
   "source": [
    "!wget -c https://datasets.cvc.uab.es/rrc/DocVQA/Task1/spdocvqa_images.tar.gz --no-check-certificate"
   ]
  }
 ],
 "metadata": {
  "kernelspec": {
   "display_name": "Python 3 (ipykernel)",
   "language": "python",
   "name": "python3"
  },
  "language_info": {
   "codemirror_mode": {
    "name": "ipython",
    "version": 3
   },
   "file_extension": ".py",
   "mimetype": "text/x-python",
   "name": "python",
   "nbconvert_exporter": "python",
   "pygments_lexer": "ipython3",
   "version": "3.10.12"
  }
 },
 "nbformat": 4,
 "nbformat_minor": 5
}
