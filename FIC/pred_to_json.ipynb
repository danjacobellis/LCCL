{
 "cells": [
  {
   "cell_type": "code",
   "execution_count": 1,
   "id": "e8f64a74-c3f5-41d0-bb26-2c9c53104835",
   "metadata": {},
   "outputs": [],
   "source": [
    "import json\n",
    "import pandas as pd\n",
    "import numpy as np\n",
    "from datasets import load_dataset, Dataset"
   ]
  },
  {
   "cell_type": "code",
   "execution_count": 17,
   "id": "739f7505-c31f-44c9-bfc0-842789feade4",
   "metadata": {},
   "outputs": [],
   "source": [
    "ds = load_dataset(\"danjacobellis/docvqa_paligemma896\",split='test')\n",
    "question_ids = ds['questionId']"
   ]
  },
  {
   "cell_type": "code",
   "execution_count": 16,
   "id": "5cff9be5-54d4-40d7-821e-24a08fc327ec",
   "metadata": {},
   "outputs": [],
   "source": [
    "for rr in ['1x', '4x', '16x']:\n",
    "    predictions = ds[f'preds_{rr}']\n",
    "    submission_data = [{'questionId': qid, 'answer': ans} for qid, ans in zip(question_ids, predictions)]\n",
    "    with open(f'pixels_{rr}.json', 'w') as outfile:\n",
    "        json.dump(submission_data, outfile)"
   ]
  },
  {
   "cell_type": "markdown",
   "id": "d2a3cb0a-15e9-4324-bbf8-5c4cf121334a",
   "metadata": {},
   "source": [
    "https://rrc.cvc.uab.es/?com=contestant"
   ]
  },
  {
   "cell_type": "code",
   "execution_count": 36,
   "id": "2671e0e8-658e-40eb-a393-cf166d3b2a53",
   "metadata": {},
   "outputs": [
    {
     "name": "stdout",
     "output_type": "stream",
     "text": [
      "0.8413126450243332\n",
      "0.8095888924511818\n",
      "0.3941939240236093\n"
     ]
    }
   ],
   "source": [
    "for rr in ['1x', '4x', '16x']:\n",
    "    scores = []\n",
    "    with open(f\"pixels_{rr}.csv\", 'r') as file:\n",
    "        for line in file:\n",
    "            parts = line.split(';')\n",
    "            if len(parts) > 2:\n",
    "                try:\n",
    "                    score = float(parts[2])\n",
    "                    scores.append(score)\n",
    "                except ValueError:\n",
    "                    continue\n",
    "    print(np.mean(scores))"
   ]
  },
  {
   "cell_type": "markdown",
   "id": "d3c98f01-9bb3-4297-9778-21b707ee57dd",
   "metadata": {},
   "source": [
    "---"
   ]
  },
  {
   "cell_type": "code",
   "execution_count": 2,
   "id": "742a4d2c-fff7-4cbc-8528-817c3638a953",
   "metadata": {},
   "outputs": [
    {
     "data": {
      "application/vnd.jupyter.widget-view+json": {
       "model_id": "8b445721199a4b8f9433f65658f94724",
       "version_major": 2,
       "version_minor": 0
      },
      "text/plain": [
       "Downloading readme:   0%|          | 0.00/468 [00:00<?, ?B/s]"
      ]
     },
     "metadata": {},
     "output_type": "display_data"
    },
    {
     "data": {
      "application/vnd.jupyter.widget-view+json": {
       "model_id": "5c964fc4fb4a46bbbed4176866b7e3ba",
       "version_major": 2,
       "version_minor": 0
      },
      "text/plain": [
       "Downloading data:   0%|          | 0.00/436M [00:00<?, ?B/s]"
      ]
     },
     "metadata": {},
     "output_type": "display_data"
    },
    {
     "data": {
      "application/vnd.jupyter.widget-view+json": {
       "model_id": "0b14f14aaf1b4e72867cf7b8d0087dfd",
       "version_major": 2,
       "version_minor": 0
      },
      "text/plain": [
       "Downloading data:   0%|          | 0.00/474M [00:00<?, ?B/s]"
      ]
     },
     "metadata": {},
     "output_type": "display_data"
    },
    {
     "data": {
      "application/vnd.jupyter.widget-view+json": {
       "model_id": "665f6baacee74c4db903e62ce28bde79",
       "version_major": 2,
       "version_minor": 0
      },
      "text/plain": [
       "Downloading data:   0%|          | 0.00/481M [00:00<?, ?B/s]"
      ]
     },
     "metadata": {},
     "output_type": "display_data"
    },
    {
     "data": {
      "application/vnd.jupyter.widget-view+json": {
       "model_id": "926478353c3c469d89351521093f63c1",
       "version_major": 2,
       "version_minor": 0
      },
      "text/plain": [
       "Downloading data:   0%|          | 0.00/466M [00:00<?, ?B/s]"
      ]
     },
     "metadata": {},
     "output_type": "display_data"
    },
    {
     "data": {
      "application/vnd.jupyter.widget-view+json": {
       "model_id": "84bdff64e69a45c5be607cba9ab3621b",
       "version_major": 2,
       "version_minor": 0
      },
      "text/plain": [
       "Downloading data:   0%|          | 0.00/468M [00:00<?, ?B/s]"
      ]
     },
     "metadata": {},
     "output_type": "display_data"
    },
    {
     "data": {
      "application/vnd.jupyter.widget-view+json": {
       "model_id": "201e39cb7df949af91b74745a6233e4f",
       "version_major": 2,
       "version_minor": 0
      },
      "text/plain": [
       "Downloading data:   0%|          | 0.00/462M [00:00<?, ?B/s]"
      ]
     },
     "metadata": {},
     "output_type": "display_data"
    },
    {
     "data": {
      "application/vnd.jupyter.widget-view+json": {
       "model_id": "82c5a0c508a5419ebf6243538b59b4b2",
       "version_major": 2,
       "version_minor": 0
      },
      "text/plain": [
       "Downloading data:   0%|          | 0.00/460M [00:00<?, ?B/s]"
      ]
     },
     "metadata": {},
     "output_type": "display_data"
    },
    {
     "data": {
      "application/vnd.jupyter.widget-view+json": {
       "model_id": "ff14f23b864a458b9d6de76c885f6df9",
       "version_major": 2,
       "version_minor": 0
      },
      "text/plain": [
       "Downloading data:   0%|          | 0.00/462M [00:00<?, ?B/s]"
      ]
     },
     "metadata": {},
     "output_type": "display_data"
    },
    {
     "data": {
      "application/vnd.jupyter.widget-view+json": {
       "model_id": "1c98b9e7310740e2a618997799e6ac7c",
       "version_major": 2,
       "version_minor": 0
      },
      "text/plain": [
       "Generating test split:   0%|          | 0/5188 [00:00<?, ? examples/s]"
      ]
     },
     "metadata": {},
     "output_type": "display_data"
    }
   ],
   "source": [
    "ds = load_dataset(\"danjacobellis/docvqa_walloc_16x\",split='test')\n",
    "question_ids = ds['questionId']"
   ]
  },
  {
   "cell_type": "code",
   "execution_count": 4,
   "id": "599946a4-ea43-4221-96aa-48145187c0c9",
   "metadata": {},
   "outputs": [],
   "source": [
    "predictions = ds[f'preds_16x']\n",
    "submission_data = [{'questionId': qid, 'answer': ans} for qid, ans in zip(question_ids, predictions)]\n",
    "with open(f'walloc_16x.json', 'w') as outfile:\n",
    "    json.dump(submission_data, outfile)"
   ]
  },
  {
   "cell_type": "code",
   "execution_count": 5,
   "id": "5c649db3-7bf7-4bf3-8392-7bccaaabe32b",
   "metadata": {},
   "outputs": [
    {
     "data": {
      "application/vnd.jupyter.widget-view+json": {
       "model_id": "b324e44488824338a72acdf2d63cecc4",
       "version_major": 2,
       "version_minor": 0
      },
      "text/plain": [
       "Downloading readme:   0%|          | 0.00/467 [00:00<?, ?B/s]"
      ]
     },
     "metadata": {},
     "output_type": "display_data"
    },
    {
     "data": {
      "application/vnd.jupyter.widget-view+json": {
       "model_id": "d8fae5c72f1a43f2ae106c1ceb372f55",
       "version_major": 2,
       "version_minor": 0
      },
      "text/plain": [
       "Downloading data:   0%|          | 0.00/448M [00:00<?, ?B/s]"
      ]
     },
     "metadata": {},
     "output_type": "display_data"
    },
    {
     "data": {
      "application/vnd.jupyter.widget-view+json": {
       "model_id": "56112efd372c46ff84c4553d7df0b7d4",
       "version_major": 2,
       "version_minor": 0
      },
      "text/plain": [
       "Downloading data:   0%|          | 0.00/488M [00:00<?, ?B/s]"
      ]
     },
     "metadata": {},
     "output_type": "display_data"
    },
    {
     "data": {
      "application/vnd.jupyter.widget-view+json": {
       "model_id": "6f747c3058a84c71bca1bb6eaf02f013",
       "version_major": 2,
       "version_minor": 0
      },
      "text/plain": [
       "Downloading data:   0%|          | 0.00/525M [00:00<?, ?B/s]"
      ]
     },
     "metadata": {},
     "output_type": "display_data"
    },
    {
     "data": {
      "application/vnd.jupyter.widget-view+json": {
       "model_id": "48e8d0cada5e4cd8ba17a9e430937f6f",
       "version_major": 2,
       "version_minor": 0
      },
      "text/plain": [
       "Downloading data:   0%|          | 0.00/500M [00:00<?, ?B/s]"
      ]
     },
     "metadata": {},
     "output_type": "display_data"
    },
    {
     "data": {
      "application/vnd.jupyter.widget-view+json": {
       "model_id": "859e364e0bdc4a82907b5bec31f5c500",
       "version_major": 2,
       "version_minor": 0
      },
      "text/plain": [
       "Downloading data:   0%|          | 0.00/495M [00:00<?, ?B/s]"
      ]
     },
     "metadata": {},
     "output_type": "display_data"
    },
    {
     "data": {
      "application/vnd.jupyter.widget-view+json": {
       "model_id": "e82e13c7b33b441998d16e832e9be575",
       "version_major": 2,
       "version_minor": 0
      },
      "text/plain": [
       "Downloading data:   0%|          | 0.00/483M [00:00<?, ?B/s]"
      ]
     },
     "metadata": {},
     "output_type": "display_data"
    },
    {
     "data": {
      "application/vnd.jupyter.widget-view+json": {
       "model_id": "b939d6feea464c978f313b336dd63790",
       "version_major": 2,
       "version_minor": 0
      },
      "text/plain": [
       "Downloading data:   0%|          | 0.00/489M [00:00<?, ?B/s]"
      ]
     },
     "metadata": {},
     "output_type": "display_data"
    },
    {
     "data": {
      "application/vnd.jupyter.widget-view+json": {
       "model_id": "baf9a673bb2d4eec90b2e15849b452f7",
       "version_major": 2,
       "version_minor": 0
      },
      "text/plain": [
       "Downloading data:   0%|          | 0.00/503M [00:00<?, ?B/s]"
      ]
     },
     "metadata": {},
     "output_type": "display_data"
    },
    {
     "data": {
      "application/vnd.jupyter.widget-view+json": {
       "model_id": "63e8f8ce32ba4aed883ea02db870562e",
       "version_major": 2,
       "version_minor": 0
      },
      "text/plain": [
       "Generating test split:   0%|          | 0/5188 [00:00<?, ? examples/s]"
      ]
     },
     "metadata": {},
     "output_type": "display_data"
    }
   ],
   "source": [
    "ds = load_dataset(\"danjacobellis/docvqa_walloc_4x\",split='test')\n",
    "question_ids = ds['questionId']"
   ]
  },
  {
   "cell_type": "code",
   "execution_count": 6,
   "id": "38b236d8-c1e7-4c42-b293-4df43eb26aa4",
   "metadata": {},
   "outputs": [],
   "source": [
    "predictions = ds[f'preds_4x']\n",
    "submission_data = [{'questionId': qid, 'answer': ans} for qid, ans in zip(question_ids, predictions)]\n",
    "with open(f'walloc_4x.json', 'w') as outfile:\n",
    "    json.dump(submission_data, outfile)"
   ]
  },
  {
   "cell_type": "code",
   "execution_count": 7,
   "id": "fa722500-5c5d-4086-8b43-c3f3133e3e98",
   "metadata": {},
   "outputs": [
    {
     "name": "stdout",
     "output_type": "stream",
     "text": [
      "0.8418534061355447\n",
      "0.8114634758132588\n"
     ]
    }
   ],
   "source": [
    "for rr in ['4x', '16x']:\n",
    "    scores = []\n",
    "    with open(f\"walloc_{rr}.csv\", 'r') as file:\n",
    "        for line in file:\n",
    "            parts = line.split(';')\n",
    "            if len(parts) > 2:\n",
    "                try:\n",
    "                    score = float(parts[2])\n",
    "                    scores.append(score)\n",
    "                except ValueError:\n",
    "                    continue\n",
    "    print(np.mean(scores))"
   ]
  }
 ],
 "metadata": {
  "kernelspec": {
   "display_name": "Python 3 (ipykernel)",
   "language": "python",
   "name": "python3"
  },
  "language_info": {
   "codemirror_mode": {
    "name": "ipython",
    "version": 3
   },
   "file_extension": ".py",
   "mimetype": "text/x-python",
   "name": "python",
   "nbconvert_exporter": "python",
   "pygments_lexer": "ipython3",
   "version": "3.10.12"
  }
 },
 "nbformat": 4,
 "nbformat_minor": 5
}
