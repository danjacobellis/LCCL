{
 "cells": [
  {
   "cell_type": "code",
   "execution_count": 1,
   "id": "83d3ee92-316f-441c-9d39-28d80ca1d631",
   "metadata": {},
   "outputs": [],
   "source": [
    "from IPython.display import Markdown, Latex\n",
    "from datasets import load_dataset\n",
    "import numpy as np\n",
    "import pandas as pd"
   ]
  },
  {
   "cell_type": "code",
   "execution_count": 11,
   "id": "9dd51dae-6a66-491d-a654-80cb51e86ad6",
   "metadata": {},
   "outputs": [],
   "source": [
    "methods = [\n",
    "    \"danjacobellis/LSDIR_colorize_pixels_512_p32\"\n",
    "]\n",
    "metrics = [\n",
    "    'time',\n",
    "    'PSNR',\n",
    "    'MSSIM',\n",
    "    'LPIPS_dB',\n",
    "    'DISTS_dB',\n",
    "]\n",
    "types = [\n",
    "    \"Pixels\"\n",
    "]\n",
    "res = [\n",
    "    512\n",
    "]\n",
    "patch = [\n",
    "    32\n",
    "]\n",
    "columns = [\n",
    "    \"type\",\n",
    "    \"resolution\",\n",
    "    \"patch_size\",\n",
    "] + metrics"
   ]
  },
  {
   "cell_type": "code",
   "execution_count": 12,
   "id": "6fb122cb-f4d9-4f2f-8056-96c191dc7560",
   "metadata": {},
   "outputs": [],
   "source": [
    "data_rows = []\n",
    "for im, method in enumerate(methods):\n",
    "    ds = load_dataset(method, split='validation')\n",
    "    row = [types[im],res[im],patch[im]]\n",
    "    for metric in metrics:\n",
    "        mean = np.mean(ds[metric])\n",
    "        row.append(mean)\n",
    "    data_rows.append(row)\n",
    "\n",
    "df = pd.DataFrame(data_rows, columns=columns)"
   ]
  },
  {
   "cell_type": "code",
   "execution_count": 13,
   "id": "a66e33de-bc2a-45c2-866c-6a6c8645dcdd",
   "metadata": {},
   "outputs": [
    {
     "data": {
      "text/html": [
       "<div>\n",
       "<style scoped>\n",
       "    .dataframe tbody tr th:only-of-type {\n",
       "        vertical-align: middle;\n",
       "    }\n",
       "\n",
       "    .dataframe tbody tr th {\n",
       "        vertical-align: top;\n",
       "    }\n",
       "\n",
       "    .dataframe thead th {\n",
       "        text-align: right;\n",
       "    }\n",
       "</style>\n",
       "<table border=\"1\" class=\"dataframe\">\n",
       "  <thead>\n",
       "    <tr style=\"text-align: right;\">\n",
       "      <th></th>\n",
       "      <th>type</th>\n",
       "      <th>resolution</th>\n",
       "      <th>patch_size</th>\n",
       "      <th>time</th>\n",
       "      <th>PSNR</th>\n",
       "      <th>MSSIM</th>\n",
       "      <th>LPIPS_dB</th>\n",
       "      <th>DISTS_dB</th>\n",
       "    </tr>\n",
       "  </thead>\n",
       "  <tbody>\n",
       "    <tr>\n",
       "      <th>0</th>\n",
       "      <td>Pixels</td>\n",
       "      <td>512</td>\n",
       "      <td>32</td>\n",
       "      <td>0.004779</td>\n",
       "      <td>18.504796</td>\n",
       "      <td>0.825925</td>\n",
       "      <td>2.426913</td>\n",
       "      <td>6.225237</td>\n",
       "    </tr>\n",
       "  </tbody>\n",
       "</table>\n",
       "</div>"
      ],
      "text/plain": [
       "     type  resolution  patch_size      time       PSNR     MSSIM  LPIPS_dB  \\\n",
       "0  Pixels         512          32  0.004779  18.504796  0.825925  2.426913   \n",
       "\n",
       "   DISTS_dB  \n",
       "0  6.225237  "
      ]
     },
     "execution_count": 13,
     "metadata": {},
     "output_type": "execute_result"
    }
   ],
   "source": [
    "df"
   ]
  }
 ],
 "metadata": {
  "kernelspec": {
   "display_name": "Python 3 (ipykernel)",
   "language": "python",
   "name": "python3"
  },
  "language_info": {
   "codemirror_mode": {
    "name": "ipython",
    "version": 3
   },
   "file_extension": ".py",
   "mimetype": "text/x-python",
   "name": "python",
   "nbconvert_exporter": "python",
   "pygments_lexer": "ipython3",
   "version": "3.10.12"
  }
 },
 "nbformat": 4,
 "nbformat_minor": 5
}
