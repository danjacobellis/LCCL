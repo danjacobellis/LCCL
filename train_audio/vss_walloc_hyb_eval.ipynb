{
 "cells": [
  {
   "cell_type": "code",
   "execution_count": null,
   "id": "5b02aa43-3406-45ad-836e-32598eddcc05",
   "metadata": {},
   "outputs": [],
   "source": [
    "!wget https://hf.co/danjacobellis/walloc/resolve/main/Stereo_Li_108c_test2.pth"
   ]
  },
  {
   "cell_type": "code",
   "execution_count": null,
   "id": "b886bdf7-0810-455d-8337-b2730da6444f",
   "metadata": {},
   "outputs": [],
   "source": [
    "!wget https://huggingface.co/danjacobellis/LCCL/resolve/main/vss_walloc_5x.pth"
   ]
  },
  {
   "cell_type": "code",
   "execution_count": 1,
   "id": "b575600f-e76e-4098-8b05-86bbee490c63",
   "metadata": {},
   "outputs": [],
   "source": [
    "import io\n",
    "import torch\n",
    "import torchaudio\n",
    "import torchvision\n",
    "import numpy as np\n",
    "from datasets import load_dataset\n",
    "from walloc import walloc\n",
    "from IPython.display import display, Audio, Image, update_display, HTML\n",
    "from torchvision.transforms import ToPILImage\n",
    "from fastprogress.fastprogress import master_bar, progress_bar\n",
    "from ioae import IsotropicOobleckAutoencoder\n",
    "from spauq.core.metrics import spauq_eval\n",
    "from einops import rearrange\n",
    "import cdpam\n",
    "class Config: pass"
   ]
  },
  {
   "cell_type": "code",
   "execution_count": 2,
   "id": "9ebf30ce-6206-42d9-b8b8-db7c6e62f056",
   "metadata": {},
   "outputs": [],
   "source": [
    "def compress(x_valid, codec):\n",
    "    compressed_data = codec.encoder(codec.wavelet_analysis(x_valid / 2, J=codec.J))\n",
    "    return compressed_data\n",
    "\n",
    "def decompress(compressed_data, codec):\n",
    "    decompressed_data = 2*codec.clamp(codec.post(codec.wavelet_synthesis(codec.decoder(compressed_data), codec.J)))\n",
    "    return decompressed_data"
   ]
  },
  {
   "cell_type": "code",
   "execution_count": 3,
   "id": "c7f258bd-068c-455b-b854-631de4a5e3ff",
   "metadata": {},
   "outputs": [
    {
     "name": "stderr",
     "output_type": "stream",
     "text": [
      "/home/dgj335/.local/lib/python3.10/site-packages/cdpam/cdpam.py:45: FutureWarning: You are using `torch.load` with `weights_only=False` (the current default value), which uses the default pickle module implicitly. It is possible to construct malicious pickle data which will execute arbitrary code during unpickling (See https://github.com/pytorch/pytorch/blob/main/SECURITY.md#untrusted-models for more details). In a future release, the default value for `weights_only` will be flipped to `True`. This limits the functions that could be executed during unpickling. Arbitrary objects will no longer be allowed to be loaded via this mode unless they are explicitly allowlisted by the user via `torch.serialization.add_safe_globals`. We recommend you start setting `weights_only=True` for any use case where you don't have full control of the loaded file. Please open an issue on GitHub for any issues related to this experimental feature.\n",
      "  state = torch.load(modfolder,map_location=\"cpu\")['state']\n",
      "/home/dgj335/.local/lib/python3.10/site-packages/torch/nn/utils/weight_norm.py:134: FutureWarning: `torch.nn.utils.weight_norm` is deprecated in favor of `torch.nn.utils.parametrizations.weight_norm`.\n",
      "  WeightNorm.apply(module, name, dim)\n"
     ]
    },
    {
     "data": {
      "text/plain": [
       "6.71166"
      ]
     },
     "execution_count": 3,
     "metadata": {},
     "output_type": "execute_result"
    }
   ],
   "source": [
    "device = \"cuda\"\n",
    "\n",
    "cdpam_loss = cdpam.CDPAM()\n",
    "\n",
    "codec_checkpoint = torch.load(\"Stereo_Li_108c_test2.pth\",map_location=\"cpu\",weights_only=False)\n",
    "codec_config = codec_checkpoint['config']\n",
    "codec = walloc.Codec1D(\n",
    "    channels = codec_config.channels,\n",
    "    J = codec_config.J,\n",
    "    Ne = codec_config.Ne,\n",
    "    Nd = codec_config.Nd,\n",
    "    latent_dim = codec_config.latent_dim,\n",
    "    latent_bits = codec_config.latent_bits,\n",
    "    lightweight_encode = codec_config.lightweight_encode,\n",
    "    post_filter = codec_config.post_filter\n",
    ").to(device)\n",
    "codec.load_state_dict(codec_checkpoint['model_state_dict'])\n",
    "codec.eval();\n",
    "\n",
    "checkpoint = torch.load(\"log_cuda_2.pth\",map_location=\"cpu\",weights_only=False)\n",
    "config = checkpoint['config']\n",
    "model = IsotropicOobleckAutoencoder(\n",
    "    channels=codec_config.latent_dim,\n",
    "    patch_size=config.patch_size,\n",
    "    embed_dim=config.embed_dim,\n",
    "    depth=config.depth,\n",
    ").to(device)\n",
    "model.load_state_dict(checkpoint['model_state_dict'])\n",
    "codec.load_state_dict(checkpoint['codec_state_dict']) # post filter\n",
    "model.eval()\n",
    "sum(p.numel() for p in model.parameters())/1e6"
   ]
  },
  {
   "cell_type": "code",
   "execution_count": 4,
   "id": "caca760e-9293-4509-b159-e3fc78268bc6",
   "metadata": {},
   "outputs": [],
   "source": [
    "valid_dataset = load_dataset(\"danjacobellis/musdb18hq_vss\",split='validation')"
   ]
  },
  {
   "cell_type": "code",
   "execution_count": 5,
   "id": "659a836c-0a3b-4f03-abc3-3f8a1b835fe5",
   "metadata": {},
   "outputs": [],
   "source": [
    "resample_down = torchaudio.transforms.Resample(\n",
    "    orig_freq=44100,\n",
    "    new_freq=44100 // config.aux_rr\n",
    ").to(device)\n",
    "resample_up = torchaudio.transforms.Resample(\n",
    "    orig_freq=44100 // config.aux_rr,\n",
    "    new_freq=44100\n",
    ").to(device)"
   ]
  },
  {
   "cell_type": "code",
   "execution_count": 6,
   "id": "b4b14a6a-0d51-4c90-ac53-b9c395cdfd79",
   "metadata": {},
   "outputs": [],
   "source": [
    "def eval_vss(sample):\n",
    "    with torch.no_grad():\n",
    "        xb, fs = torchaudio.load(sample['audio_mix']['bytes'])\n",
    "        vb, fs = torchaudio.load(sample['audio_vocal']['bytes'])\n",
    "        B = xb.shape[-1]//config.length_samples\n",
    "        x = torch.zeros((B,2,config.length_samples))\n",
    "        v = torch.zeros((B,2,config.length_samples))\n",
    "        for i_frame in range(B):\n",
    "            i_start = i_frame*config.length_samples\n",
    "            i_end = (i_frame+1)*config.length_samples\n",
    "            x[i_frame,:,:] = xb[:,i_start:i_end]\n",
    "            v[i_frame,:,:] = vb[:,i_start:i_end]\n",
    "        x = x.to(device)\n",
    "        v = v.to(device)\n",
    "        xc = compress(resample_down(x), codec)\n",
    "        pred = model(xc)\n",
    "        v_hat = resample_up(decompress(pred,codec))\n",
    "    \n",
    "        v = rearrange(v, 'B C L -> C (B L)')/2\n",
    "        v_hat = rearrange(v_hat, 'B C L -> C (B L)')/2\n",
    "        \n",
    "        PSNR = -10*np.log10(torch.nn.functional.mse_loss(v,v_hat).item())\n",
    "        SDR = spauq_eval(v.cpu(),v_hat.cpu(),fs=fs)\n",
    "        SSDR = SDR['SSR']\n",
    "        SRDR = SDR['SRR']\n",
    "        cdpam = cdpam_loss.forward(v,v_hat).mean().item()\n",
    "    \n",
    "        return {\n",
    "            'PSNR': PSNR,\n",
    "            'SSDR': SSDR,\n",
    "            'SRDR': SRDR,\n",
    "            'CDPAM': cdpam\n",
    "        }"
   ]
  },
  {
   "cell_type": "code",
   "execution_count": 7,
   "id": "f9fb6e2c-4804-49b3-95dc-c22da3d87bee",
   "metadata": {},
   "outputs": [
    {
     "data": {
      "application/vnd.jupyter.widget-view+json": {
       "model_id": "f3949372244842aea004e048c01244d7",
       "version_major": 2,
       "version_minor": 0
      },
      "text/plain": [
       "Map:   0%|          | 0/235 [00:00<?, ? examples/s]"
      ]
     },
     "metadata": {},
     "output_type": "display_data"
    },
    {
     "name": "stderr",
     "output_type": "stream",
     "text": [
      "/home/dgj335/.local/lib/python3.10/site-packages/spauq/core/preprocessing.py:325: UserWarning: No forgive_mode specified, defaulting to `none`\n",
      "  warnings.warn(\n"
     ]
    }
   ],
   "source": [
    "eval_results = valid_dataset.map(eval_vss)\n",
    "eval_only = eval_results.remove_columns(['audio_mix', 'audio_vocal', 'path_mix'])"
   ]
  },
  {
   "cell_type": "code",
   "execution_count": 9,
   "id": "71a809a7-fd4b-4f39-9f55-c055d81e0b44",
   "metadata": {},
   "outputs": [
    {
     "name": "stdout",
     "output_type": "stream",
     "text": [
      "34.017833531460866\n",
      "3.257686698211142\n",
      "-16.567763249392744\n",
      "35.43240171074247\n"
     ]
    }
   ],
   "source": [
    "print(np.mean(eval_only['PSNR']))\n",
    "print(np.mean(eval_only['SSDR']))\n",
    "print(np.mean(eval_only['SRDR']))\n",
    "print(np.mean(-10*np.log10(eval_only['CDPAM'])))"
   ]
  },
  {
   "cell_type": "code",
   "execution_count": null,
   "id": "7686c077-ed51-4f5c-850c-235ce3c155c2",
   "metadata": {},
   "outputs": [],
   "source": [
    "# eval_only.push_to_hub(\"danjacobellis/MUSDB_vss_walloc_5x\",split='validation')"
   ]
  }
 ],
 "metadata": {
  "kernelspec": {
   "display_name": "Python 3 (ipykernel)",
   "language": "python",
   "name": "python3"
  },
  "language_info": {
   "codemirror_mode": {
    "name": "ipython",
    "version": 3
   },
   "file_extension": ".py",
   "mimetype": "text/x-python",
   "name": "python",
   "nbconvert_exporter": "python",
   "pygments_lexer": "ipython3",
   "version": "3.10.12"
  }
 },
 "nbformat": 4,
 "nbformat_minor": 5
}
