{
 "cells": [
  {
   "cell_type": "code",
   "execution_count": null,
   "id": "6e5369da-f14e-4091-967e-cedc7a7ccaa0",
   "metadata": {},
   "outputs": [],
   "source": [
    "!python3 -m pip install -U git+https://github.com/facebookresearch/demucs#egg=demucs"
   ]
  },
  {
   "cell_type": "code",
   "execution_count": 1,
   "id": "448d5158-5bfa-4f21-8651-f9e0234b8f38",
   "metadata": {},
   "outputs": [],
   "source": [
    "import torch\n",
    "import numpy as np\n",
    "import torchaudio\n",
    "import tempfile\n",
    "from cdpam import CDPAM\n",
    "from demucs.separate import Separator\n",
    "from IPython.display import Audio\n",
    "from datasets import load_dataset\n",
    "from walloc import walloc\n",
    "from spauq.core.metrics import spauq_eval\n",
    "from fastprogress.fastprogress import progress_bar\n",
    "class Config: pass"
   ]
  },
  {
   "cell_type": "code",
   "execution_count": 2,
   "id": "263cece1-6297-43e2-93a8-b3209723c080",
   "metadata": {},
   "outputs": [
    {
     "name": "stderr",
     "output_type": "stream",
     "text": [
      "/home/dgj335/.local/lib/python3.10/site-packages/cdpam/cdpam.py:45: FutureWarning: You are using `torch.load` with `weights_only=False` (the current default value), which uses the default pickle module implicitly. It is possible to construct malicious pickle data which will execute arbitrary code during unpickling (See https://github.com/pytorch/pytorch/blob/main/SECURITY.md#untrusted-models for more details). In a future release, the default value for `weights_only` will be flipped to `True`. This limits the functions that could be executed during unpickling. Arbitrary objects will no longer be allowed to be loaded via this mode unless they are explicitly allowlisted by the user via `torch.serialization.add_safe_globals`. We recommend you start setting `weights_only=True` for any use case where you don't have full control of the loaded file. Please open an issue on GitHub for any issues related to this experimental feature.\n",
      "  state = torch.load(modfolder,map_location=\"cpu\")['state']\n"
     ]
    },
    {
     "data": {
      "application/vnd.jupyter.widget-view+json": {
       "model_id": "b28a646436254f4aae5c9ceded318dad",
       "version_major": 2,
       "version_minor": 0
      },
      "text/plain": [
       "Resolving data files:   0%|          | 0/41 [00:00<?, ?it/s]"
      ]
     },
     "metadata": {},
     "output_type": "display_data"
    },
    {
     "data": {
      "application/vnd.jupyter.widget-view+json": {
       "model_id": "463238a692d5459087d61fc629b4d4bd",
       "version_major": 2,
       "version_minor": 0
      },
      "text/plain": [
       "Resolving data files:   0%|          | 0/22 [00:00<?, ?it/s]"
      ]
     },
     "metadata": {},
     "output_type": "display_data"
    },
    {
     "data": {
      "application/vnd.jupyter.widget-view+json": {
       "model_id": "eda3efe878664117bbc5c411c190f02e",
       "version_major": 2,
       "version_minor": 0
      },
      "text/plain": [
       "Resolving data files:   0%|          | 0/41 [00:00<?, ?it/s]"
      ]
     },
     "metadata": {},
     "output_type": "display_data"
    },
    {
     "data": {
      "application/vnd.jupyter.widget-view+json": {
       "model_id": "1caa56c4b389477a871a865d871fb20d",
       "version_major": 2,
       "version_minor": 0
      },
      "text/plain": [
       "Resolving data files:   0%|          | 0/22 [00:00<?, ?it/s]"
      ]
     },
     "metadata": {},
     "output_type": "display_data"
    }
   ],
   "source": [
    "device = \"cuda\"\n",
    "separator = Separator()\n",
    "cdpam_loss = CDPAM()\n",
    "MUSDB = load_dataset(\"danjacobellis/musdb18HQ\", split='validation')"
   ]
  },
  {
   "cell_type": "code",
   "execution_count": 3,
   "id": "927b458d-dd37-4fa5-8650-8b665033e898",
   "metadata": {},
   "outputs": [],
   "source": [
    "def pad(audio, p=2**16):\n",
    "    B,C,L = audio.shape\n",
    "    padding_size = (p - (L % p)) % p\n",
    "    if padding_size > 0:\n",
    "        audio = torch.nn.functional.pad(audio, (0, padding_size), mode='constant', value=0)\n",
    "    return audio"
   ]
  },
  {
   "cell_type": "code",
   "execution_count": 4,
   "id": "af12eefe-0925-4458-9577-760f3fa10d5e",
   "metadata": {},
   "outputs": [
    {
     "data": {
      "text/html": [
       "\n",
       "<style>\n",
       "    /* Turns off some styling */\n",
       "    progress {\n",
       "        /* gets rid of default border in Firefox and Opera. */\n",
       "        border: none;\n",
       "        /* Needs to be in here for Safari polyfill so background images work as expected. */\n",
       "        background-size: auto;\n",
       "    }\n",
       "    progress:not([value]), progress:not([value])::-webkit-progress-bar {\n",
       "        background: repeating-linear-gradient(45deg, #7e7e7e, #7e7e7e 10px, #5c5c5c 10px, #5c5c5c 20px);\n",
       "    }\n",
       "    .progress-bar-interrupted, .progress-bar-interrupted::-webkit-progress-bar {\n",
       "        background: #F44336;\n",
       "    }\n",
       "</style>\n"
      ],
      "text/plain": [
       "<IPython.core.display.HTML object>"
      ]
     },
     "metadata": {},
     "output_type": "display_data"
    },
    {
     "data": {
      "text/html": [
       "\n",
       "    <div>\n",
       "      <progress value='50' class='' max='50' style='width:300px; height:20px; vertical-align: middle;'></progress>\n",
       "      100.00% [50/50 41:16&lt;00:00]\n",
       "    </div>\n",
       "    "
      ],
      "text/plain": [
       "<IPython.core.display.HTML object>"
      ]
     },
     "metadata": {},
     "output_type": "display_data"
    },
    {
     "name": "stderr",
     "output_type": "stream",
     "text": [
      "/home/dgj335/.local/lib/python3.10/site-packages/spauq/core/preprocessing.py:325: UserWarning: No forgive_mode specified, defaulting to `none`\n",
      "  warnings.warn(\n"
     ]
    }
   ],
   "source": [
    "max_duration=44100*180\n",
    "SSDR = []\n",
    "SRDR = []\n",
    "PSNR = []\n",
    "CDPAM_dB = []\n",
    "res_red = torchaudio.transforms.Resample(44100, 44100*3//32).to(device)\n",
    "res_inc = torchaudio.transforms.Resample(44100*3//32, 44100).to(device)\n",
    "with torch.no_grad():\n",
    "    for i_sample in progress_bar(range(0, len(MUSDB), 5)):\n",
    "        SSDR.append([])\n",
    "        SRDR.append([])\n",
    "        PSNR.append([])\n",
    "        CDPAM_dB.append([])\n",
    "        y = []\n",
    "        for i_instr in range(5):\n",
    "            sample = MUSDB[i_sample+i_instr]\n",
    "            instr = sample['instrument']\n",
    "            x, fs = torchaudio.load(sample['audio']['bytes'])\n",
    "            x = x[:,:max_duration]\n",
    "            L = x.shape[-1]\n",
    "            x_padded = pad(x.unsqueeze(0), 2**16).to(device)\n",
    "            if i_instr == 0:\n",
    "                mix = res_inc(res_red(x_padded[0]))\n",
    "                pred = separator.separate_tensor(mix)\n",
    "            else:\n",
    "                ℓ = min(x_padded.shape[-1], pred[1][instr].shape[-1])\n",
    "                SDR = spauq_eval(\n",
    "                    reference=x_padded[0,:,:ℓ].to(\"cpu\"),\n",
    "                    estimate=pred[1][instr][:,:ℓ].to(\"cpu\"),\n",
    "                    fs = fs\n",
    "                )\n",
    "                psnr = 20*np.log10(2) - 10*np.log10(torch.nn.functional.mse_loss(\n",
    "                    x_padded[0,:,:ℓ],\n",
    "                    pred[1][instr][:,:ℓ]\n",
    "                ).item())\n",
    "                cdpam = cdpam_loss.forward(\n",
    "                    wav_in=x_padded[0,:,:ℓ],\n",
    "                    wav_out=pred[1][instr][:,:ℓ]\n",
    "                )\n",
    "                SSDR[-1].append(SDR['SSR'])\n",
    "                SRDR[-1].append(SDR['SRR'])\n",
    "                PSNR[-1].append(psnr)\n",
    "                CDPAM_dB[-1].append(-np.log10(cdpam.mean().item()))\n",
    "SSDR = torch.tensor(SSDR)\n",
    "SRDR = torch.tensor(SRDR)\n",
    "PSNR = torch.tensor(PSNR)\n",
    "CDPAM_dB = torch.tensor(CDPAM_dB)"
   ]
  },
  {
   "cell_type": "code",
   "execution_count": 5,
   "id": "256997e0-c8a7-4dfc-acfe-e54e0f7612f3",
   "metadata": {},
   "outputs": [
    {
     "data": {
      "text/plain": [
       "tensor([10.7048, 16.1996, 14.7049,  6.9663], dtype=torch.float64)"
      ]
     },
     "execution_count": 5,
     "metadata": {},
     "output_type": "execute_result"
    }
   ],
   "source": [
    "SSDR.mean(dim=0)"
   ]
  },
  {
   "cell_type": "code",
   "execution_count": 6,
   "id": "05e9618f-6e25-47a1-9c04-765c5a3729d1",
   "metadata": {},
   "outputs": [
    {
     "data": {
      "text/plain": [
       "tensor([ 2.1989,  5.6262, -1.1340, -6.8242], dtype=torch.float64)"
      ]
     },
     "execution_count": 6,
     "metadata": {},
     "output_type": "execute_result"
    }
   ],
   "source": [
    "SRDR.mean(dim=0)"
   ]
  },
  {
   "cell_type": "code",
   "execution_count": 7,
   "id": "42b08e6d-7b6a-4e8d-a07e-e1d415c5a013",
   "metadata": {},
   "outputs": [
    {
     "data": {
      "text/plain": [
       "tensor([35.0393, 37.3224, 40.3817, 37.3505], dtype=torch.float64)"
      ]
     },
     "execution_count": 7,
     "metadata": {},
     "output_type": "execute_result"
    }
   ],
   "source": [
    "PSNR.mean(dim=0)"
   ]
  },
  {
   "cell_type": "code",
   "execution_count": 8,
   "id": "61cae8c4-908d-45ef-9fd4-3f0979220922",
   "metadata": {},
   "outputs": [
    {
     "data": {
      "text/plain": [
       "tensor([4.3560, 4.1265, 4.9312, 4.2757], dtype=torch.float64)"
      ]
     },
     "execution_count": 8,
     "metadata": {},
     "output_type": "execute_result"
    }
   ],
   "source": [
    "CDPAM_dB.mean(dim=0)"
   ]
  },
  {
   "cell_type": "code",
   "execution_count": 9,
   "id": "2b13d21f-3697-4219-b3cf-04651c43220e",
   "metadata": {},
   "outputs": [
    {
     "data": {
      "text/plain": [
       "tensor(12.1439, dtype=torch.float64)"
      ]
     },
     "execution_count": 9,
     "metadata": {},
     "output_type": "execute_result"
    }
   ],
   "source": [
    "SSDR.mean()"
   ]
  },
  {
   "cell_type": "code",
   "execution_count": 10,
   "id": "85c98f2b-8c52-4a0e-81e3-56b6ea9d0be6",
   "metadata": {},
   "outputs": [
    {
     "data": {
      "text/plain": [
       "tensor(-0.0333, dtype=torch.float64)"
      ]
     },
     "execution_count": 10,
     "metadata": {},
     "output_type": "execute_result"
    }
   ],
   "source": [
    "SRDR.mean()"
   ]
  },
  {
   "cell_type": "code",
   "execution_count": 11,
   "id": "d0e65a1d-8772-45b2-b37e-c45922e8dba6",
   "metadata": {},
   "outputs": [
    {
     "data": {
      "text/plain": [
       "tensor(37.5235, dtype=torch.float64)"
      ]
     },
     "execution_count": 11,
     "metadata": {},
     "output_type": "execute_result"
    }
   ],
   "source": [
    "PSNR.mean()"
   ]
  },
  {
   "cell_type": "code",
   "execution_count": 12,
   "id": "932780d5-d50f-42de-989c-14b8f4b18a98",
   "metadata": {},
   "outputs": [
    {
     "data": {
      "text/plain": [
       "tensor(4.4224, dtype=torch.float64)"
      ]
     },
     "execution_count": 12,
     "metadata": {},
     "output_type": "execute_result"
    }
   ],
   "source": [
    "CDPAM_dB.mean()"
   ]
  }
 ],
 "metadata": {
  "kernelspec": {
   "display_name": "Python 3 (ipykernel)",
   "language": "python",
   "name": "python3"
  },
  "language_info": {
   "codemirror_mode": {
    "name": "ipython",
    "version": 3
   },
   "file_extension": ".py",
   "mimetype": "text/x-python",
   "name": "python",
   "nbconvert_exporter": "python",
   "pygments_lexer": "ipython3",
   "version": "3.10.12"
  }
 },
 "nbformat": 4,
 "nbformat_minor": 5
}
