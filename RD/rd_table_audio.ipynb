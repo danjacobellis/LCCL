{
 "cells": [
  {
   "cell_type": "code",
   "execution_count": 1,
   "id": "47453076-df61-49cf-a4a4-092bb71b2fd1",
   "metadata": {},
   "outputs": [],
   "source": [
    "from IPython.display import Markdown, Latex\n",
    "from datasets import load_dataset\n",
    "import numpy as np\n",
    "import pandas as pd"
   ]
  },
  {
   "cell_type": "code",
   "execution_count": 2,
   "id": "5ac7b900-5c22-40c8-bc71-f08f366acdae",
   "metadata": {},
   "outputs": [],
   "source": [
    "methods = [\n",
    "    \"danjacobellis/MUSDB_opus_12kbps\",\n",
    "    \"danjacobellis/MUSDB_Stereo_Li_192c_J8_nf8\",\n",
    "    \"danjacobellis/MUSDB_encodec_12kbps\",\n",
    "    \"danjacobellis/MUSDB_Stereo_Li_48c_J8_nf8\",\n",
    "    \"danjacobellis/MUSDB_stable_audio_fp16\"\n",
    "]\n",
    "\n",
    "dimensionality_reduction = [\n",
    "    1,\n",
    "    32/12,\n",
    "    5,\n",
    "    32/3,\n",
    "    64,\n",
    "]\n",
    "\n",
    "names = [\n",
    "    'Opus',\n",
    "    'WalloC',\n",
    "    'EnCodec',\n",
    "    'WalloC',\n",
    "    'Stable Audio',\n",
    "]\n",
    "\n",
    "metrics = [\n",
    "    'PSNR',\n",
    "    'SSDR',\n",
    "    'SRDR',\n",
    "]\n",
    "\n",
    "columns = [\n",
    "    'Name',\n",
    "    'Dimensionality Reduction',\n",
    "    'Compression Ratio',\n",
    "    'Encode',\n",
    "    'Decode',\n",
    "] + metrics + ['CDPAM']"
   ]
  },
  {
   "cell_type": "code",
   "execution_count": 3,
   "id": "17273f0d-a1e7-42f4-b395-89ce55bce35f",
   "metadata": {},
   "outputs": [
    {
     "data": {
      "application/vnd.jupyter.widget-view+json": {
       "model_id": "a9537b3425cd49b4af422b9fcb68540e",
       "version_major": 2,
       "version_minor": 0
      },
      "text/plain": [
       "Resolving data files:   0%|          | 0/23 [00:00<?, ?it/s]"
      ]
     },
     "metadata": {},
     "output_type": "display_data"
    },
    {
     "data": {
      "application/vnd.jupyter.widget-view+json": {
       "model_id": "cb51cea5f3bd439299a616431e9cf3da",
       "version_major": 2,
       "version_minor": 0
      },
      "text/plain": [
       "Resolving data files:   0%|          | 0/23 [00:00<?, ?it/s]"
      ]
     },
     "metadata": {},
     "output_type": "display_data"
    },
    {
     "name": "stderr",
     "output_type": "stream",
     "text": [
      "/tmp/ipykernel_525206/1111162417.py:16: RuntimeWarning: divide by zero encountered in log10\n",
      "  CDPAM_dB = np.median(-10*np.log10(ds['CDPAM']))\n"
     ]
    },
    {
     "data": {
      "application/vnd.jupyter.widget-view+json": {
       "model_id": "ed648f190618420891efed20353add84",
       "version_major": 2,
       "version_minor": 0
      },
      "text/plain": [
       "Resolving data files:   0%|          | 0/23 [00:00<?, ?it/s]"
      ]
     },
     "metadata": {},
     "output_type": "display_data"
    },
    {
     "data": {
      "application/vnd.jupyter.widget-view+json": {
       "model_id": "1fd690bf5945470da3060ac1496c2d85",
       "version_major": 2,
       "version_minor": 0
      },
      "text/plain": [
       "Resolving data files:   0%|          | 0/23 [00:00<?, ?it/s]"
      ]
     },
     "metadata": {},
     "output_type": "display_data"
    },
    {
     "data": {
      "application/vnd.jupyter.widget-view+json": {
       "model_id": "0c70215d6d1c4f8c8abd751ce9e7de47",
       "version_major": 2,
       "version_minor": 0
      },
      "text/plain": [
       "Resolving data files:   0%|          | 0/23 [00:00<?, ?it/s]"
      ]
     },
     "metadata": {},
     "output_type": "display_data"
    },
    {
     "data": {
      "application/vnd.jupyter.widget-view+json": {
       "model_id": "729d5c7f5cb34064ad5efd0fa6628613",
       "version_major": 2,
       "version_minor": 0
      },
      "text/plain": [
       "Resolving data files:   0%|          | 0/23 [00:00<?, ?it/s]"
      ]
     },
     "metadata": {},
     "output_type": "display_data"
    },
    {
     "data": {
      "application/vnd.jupyter.widget-view+json": {
       "model_id": "7fe60d30fcc742cc9315372e2be1c385",
       "version_major": 2,
       "version_minor": 0
      },
      "text/plain": [
       "Resolving data files:   0%|          | 0/23 [00:00<?, ?it/s]"
      ]
     },
     "metadata": {},
     "output_type": "display_data"
    },
    {
     "data": {
      "application/vnd.jupyter.widget-view+json": {
       "model_id": "d54e28317ee74ebb931c7f480a52f6c1",
       "version_major": 2,
       "version_minor": 0
      },
      "text/plain": [
       "Resolving data files:   0%|          | 0/23 [00:00<?, ?it/s]"
      ]
     },
     "metadata": {},
     "output_type": "display_data"
    },
    {
     "data": {
      "application/vnd.jupyter.widget-view+json": {
       "model_id": "e69761c7259c41ddb018ece6c987e533",
       "version_major": 2,
       "version_minor": 0
      },
      "text/plain": [
       "Downloading readme:   0%|          | 0.00/901 [00:00<?, ?B/s]"
      ]
     },
     "metadata": {},
     "output_type": "display_data"
    },
    {
     "data": {
      "application/vnd.jupyter.widget-view+json": {
       "model_id": "8de83e060dde406a8abd799408cf3e04",
       "version_major": 2,
       "version_minor": 0
      },
      "text/plain": [
       "Resolving data files:   0%|          | 0/23 [00:00<?, ?it/s]"
      ]
     },
     "metadata": {},
     "output_type": "display_data"
    },
    {
     "data": {
      "application/vnd.jupyter.widget-view+json": {
       "model_id": "03115d7d28584008b8525dc38c492012",
       "version_major": 2,
       "version_minor": 0
      },
      "text/plain": [
       "Resolving data files:   0%|          | 0/23 [00:00<?, ?it/s]"
      ]
     },
     "metadata": {},
     "output_type": "display_data"
    },
    {
     "data": {
      "application/vnd.jupyter.widget-view+json": {
       "model_id": "813f3d852dfd400ba331414dc1cda850",
       "version_major": 2,
       "version_minor": 0
      },
      "text/plain": [
       "Downloading data:   0%|          | 0/23 [00:00<?, ?files/s]"
      ]
     },
     "metadata": {},
     "output_type": "display_data"
    },
    {
     "data": {
      "application/vnd.jupyter.widget-view+json": {
       "model_id": "9fc3f388b1b34113af6735148128f867",
       "version_major": 2,
       "version_minor": 0
      },
      "text/plain": [
       "Generating validation split:   0%|          | 0/250 [00:00<?, ? examples/s]"
      ]
     },
     "metadata": {},
     "output_type": "display_data"
    },
    {
     "data": {
      "text/markdown": [
       "| Name         |   Dimensionality Reduction |   Compression Ratio |   Encode |   Decode |    PSNR |    SSDR |    SRDR |   CDPAM |\n",
       "|:-------------|---------------------------:|--------------------:|---------:|---------:|--------:|--------:|--------:|--------:|\n",
       "| Opus         |                     1      |            120.426  |  11.5483 |  91.808  | 38.6752 | 20.5199 |  5.3936 | 42.5932 |\n",
       "| WalloC       |                     2.6667 |             18.0084 |  29.3051 |   6.9085 | 45.1197 | 32.9227 | 12.6936 | 46.9636 |\n",
       "| EnCodec      |                     5      |            116.274  |   2.9412 |   3.1309 | 40.7408 | 24.6244 |  7.2678 | 48.891  |\n",
       "| WalloC       |                    10.6667 |             59.2196 |  41.9312 |   7.5381 | 33.1436 | 27.5395 |  7.4112 | 43.1933 |\n",
       "| Stable Audio |                    64      |             63.5474 |   0.3284 |   0.3118 | 37.8695 | 19.4883 |  3.523  | 51.9254 |"
      ],
      "text/plain": [
       "<IPython.core.display.Markdown object>"
      ]
     },
     "metadata": {},
     "output_type": "display_data"
    }
   ],
   "source": [
    "data_rows = []\n",
    "\n",
    "for i_method, method in enumerate(methods):\n",
    "    ds = load_dataset(method, split='validation')\n",
    "    row = [names[i_method], dimensionality_reduction[i_method]]\n",
    "    bps_mean = np.mean(ds['bps'])\n",
    "    compression_ratio = 16 / bps_mean\n",
    "    encode_MS_per_second = 2*np.mean(np.array(ds['L'])/np.array(ds['cpu_encode_time'])/1e6)\n",
    "    decode_MS_per_second = 2*np.mean(np.array(ds['L'])/np.array(ds['cpu_decode_time'])/1e6)\n",
    "    row.append(compression_ratio)\n",
    "    row.append(encode_MS_per_second)\n",
    "    row.append(decode_MS_per_second)\n",
    "    for metric in metrics:\n",
    "        mean = np.mean(ds[metric])\n",
    "        row.append(mean)\n",
    "    CDPAM_dB = np.median(-10*np.log10(ds['CDPAM']))\n",
    "    row.append(CDPAM_dB)\n",
    "    data_rows.append(row)\n",
    "\n",
    "df = pd.DataFrame(data_rows, columns=columns)\n",
    "\n",
    "df_rounded = df.round(4)\n",
    "md_table = df_rounded.to_markdown(index=False)\n",
    "display(Markdown(md_table))"
   ]
  },
  {
   "cell_type": "code",
   "execution_count": 4,
   "id": "2f066e91-060f-40db-87ba-369dc48183fe",
   "metadata": {},
   "outputs": [
    {
     "name": "stdout",
     "output_type": "stream",
     "text": [
      "\\begin{tabular}{lrrrrrr}\n",
      "\\toprule\n",
      " & Name & Dimensionality Reduction & Compression Ratio & Encode & Decode & PSNR & SSDR & SRDR & CDPAM \\\\\n",
      "\\midrule\n",
      "\\textbf{0} & Opus & 1 & 120 & 11.5 & 91.8 & 38.7 & 20.5 & 5.39 & 42.6 \\\\\n",
      "\\textbf{1} & WalloC & 2.67 & 18 & 29.3 & 6.91 & 45.1 & 32.9 & 12.7 & 47 \\\\\n",
      "\\textbf{2} & EnCodec & 5 & 116 & 2.94 & 3.13 & 40.7 & 24.6 & 7.27 & 48.9 \\\\\n",
      "\\textbf{3} & WalloC & 10.7 & 59.2 & 41.9 & 7.54 & 33.1 & 27.5 & 7.41 & 43.2 \\\\\n",
      "\\textbf{4} & Stable Audio & 64 & 63.5 & 0.328 & 0.312 & 37.9 & 19.5 & 3.52 & 51.9 \\\\\n",
      "\\bottomrule\n",
      "\\end{tabular}\n",
      "\n"
     ]
    }
   ],
   "source": [
    "df_rounded = df.round(10)\n",
    "column_format = 'l' + 'rr' * len(metrics)\n",
    "latex_table = df_rounded.to_latex(\n",
    "    index=True,\n",
    "    float_format=\"%.3g\",\n",
    "    column_format=column_format,\n",
    "    multicolumn=True,\n",
    "    multicolumn_format='c',\n",
    "    bold_rows=True\n",
    ")\n",
    "print(latex_table)"
   ]
  }
 ],
 "metadata": {
  "kernelspec": {
   "display_name": "Python 3 (ipykernel)",
   "language": "python",
   "name": "python3"
  },
  "language_info": {
   "codemirror_mode": {
    "name": "ipython",
    "version": 3
   },
   "file_extension": ".py",
   "mimetype": "text/x-python",
   "name": "python",
   "nbconvert_exporter": "python",
   "pygments_lexer": "ipython3",
   "version": "3.10.12"
  }
 },
 "nbformat": 4,
 "nbformat_minor": 5
}
