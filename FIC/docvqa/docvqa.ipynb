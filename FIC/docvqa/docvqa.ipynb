{
 "cells": [
  {
   "cell_type": "code",
   "execution_count": null,
   "id": "2daee4a1-81f2-49dd-ac88-ac908cc8fc62",
   "metadata": {},
   "outputs": [],
   "source": [
    "!wget -c https://datasets.cvc.uab.es/rrc/DocVQA/Task1/spdocvqa_images.tar.gz --no-check-certificate"
   ]
  },
  {
   "cell_type": "code",
   "execution_count": null,
   "id": "52e29859-3079-4d20-bb34-1d2b415be6ce",
   "metadata": {},
   "outputs": [],
   "source": [
    "!wget https://datasets.cvc.uab.es/rrc/DocVQA/Task1/spdocvqa_qas.zip --no-check-certificate"
   ]
  },
  {
   "cell_type": "code",
   "execution_count": null,
   "id": "203dd492-629d-45d3-bd80-7f7b4d1d7ccb",
   "metadata": {},
   "outputs": [],
   "source": [
    "!mkdir spdocvqa_images && tar -xzf spdocvqa_images.tar.gz -C spdocvqa_images"
   ]
  },
  {
   "cell_type": "code",
   "execution_count": null,
   "id": "e6b74da4-a3a4-4da8-98fb-a6adcd326bf5",
   "metadata": {},
   "outputs": [],
   "source": [
    "!unzip spdocvqa_qas.zip"
   ]
  },
  {
   "cell_type": "code",
   "execution_count": 1,
   "id": "30004618-da62-471a-bc6a-ebf8287c4239",
   "metadata": {},
   "outputs": [],
   "source": [
    "import io\n",
    "import PIL\n",
    "import json\n",
    "from datasets import Dataset, Image\n",
    "from glob import glob"
   ]
  },
  {
   "cell_type": "code",
   "execution_count": 2,
   "id": "df11bc9d-ff75-4895-a7c6-ae5ee44b3b67",
   "metadata": {},
   "outputs": [],
   "source": [
    "splits = [\n",
    "    'train',\n",
    "    'validation',\n",
    "    'test',\n",
    "]\n",
    "label_files = [\n",
    "    'train_v1.0_withQT.json',\n",
    "    'val_v1.0_withQT.json',\n",
    "    'test_v1.0.json',\n",
    "]\n",
    "docvqa = []\n",
    "for i_split, split in enumerate(splits):\n",
    "    path = []\n",
    "    question = []\n",
    "    questionId = []\n",
    "    answer = []\n",
    "    with open(label_files[i_split], 'r') as f:\n",
    "        split_info = json.load(f)\n",
    "    data = split_info['data']\n",
    "    for sample in data:\n",
    "        path.append(\"spdocvqa_images/\" + sample['image'].split(\"/\")[1])\n",
    "        question.append(sample['question'])\n",
    "        questionId.append(sample['questionId'])\n",
    "        if i_split == 2:\n",
    "            answer.append([\"Test server is available at rrc.cvc.uab.es\"])\n",
    "        else:\n",
    "            answer.append(sample['answers'])\n",
    "    docvqa.append(Dataset.from_dict({\n",
    "        'path':path,\n",
    "        'question':question,\n",
    "        'questionId':questionId,\n",
    "        'answer':answer\n",
    "    }))"
   ]
  },
  {
   "cell_type": "code",
   "execution_count": 3,
   "id": "a3c0692e-9d8c-46c5-b96c-51be6c30888c",
   "metadata": {},
   "outputs": [],
   "source": [
    "def load_image(sample):\n",
    "    with open(sample['path'], 'rb') as f:\n",
    "        buff = io.BytesIO(f.read()).getbuffer()\n",
    "    return {\n",
    "        'image': buff\n",
    "    }"
   ]
  },
  {
   "cell_type": "code",
   "execution_count": 4,
   "id": "bf297106-18a8-4bcc-8994-9b82285f8c26",
   "metadata": {},
   "outputs": [],
   "source": [
    "for i_split, split in enumerate(splits):\n",
    "    docvqa[i_split] = docvqa[i_split].map(load_image, writer_batch_size=1024, cache_file_name=f\"{split}.cache\")\n",
    "    docvqa[i_split] = docvqa[i_split].cast_column('image', Image())"
   ]
  },
  {
   "cell_type": "code",
   "execution_count": null,
   "id": "3f48db5b-0913-4cbd-bc5a-7df07f35433a",
   "metadata": {},
   "outputs": [
    {
     "data": {
      "application/vnd.jupyter.widget-view+json": {
       "model_id": "5f319f5e0f834eb387c133b9b05c730d",
       "version_major": 2,
       "version_minor": 0
      },
      "text/plain": [
       "Uploading the dataset shards:   0%|          | 0/57 [00:00<?, ?it/s]"
      ]
     },
     "metadata": {},
     "output_type": "display_data"
    },
    {
     "data": {
      "application/vnd.jupyter.widget-view+json": {
       "model_id": "ab0d28103e494f65a3dde56d15687de2",
       "version_major": 2,
       "version_minor": 0
      },
      "text/plain": [
       "Map:   0%|          | 0/693 [00:00<?, ? examples/s]"
      ]
     },
     "metadata": {},
     "output_type": "display_data"
    },
    {
     "data": {
      "application/vnd.jupyter.widget-view+json": {
       "model_id": "f5c2462a3aa147b694c1fd9a0897a5f7",
       "version_major": 2,
       "version_minor": 0
      },
      "text/plain": [
       "Creating parquet from Arrow format:   0%|          | 0/7 [00:00<?, ?ba/s]"
      ]
     },
     "metadata": {},
     "output_type": "display_data"
    },
    {
     "data": {
      "application/vnd.jupyter.widget-view+json": {
       "model_id": "3569cdeb562d4ddb90146078f2e5dbb9",
       "version_major": 2,
       "version_minor": 0
      },
      "text/plain": [
       "Map:   0%|          | 0/693 [00:00<?, ? examples/s]"
      ]
     },
     "metadata": {},
     "output_type": "display_data"
    },
    {
     "data": {
      "application/vnd.jupyter.widget-view+json": {
       "model_id": "f739065a8e674f64bde5d0559d540556",
       "version_major": 2,
       "version_minor": 0
      },
      "text/plain": [
       "Creating parquet from Arrow format:   0%|          | 0/7 [00:00<?, ?ba/s]"
      ]
     },
     "metadata": {},
     "output_type": "display_data"
    }
   ],
   "source": [
    "for i_split, split in enumerate(splits):\n",
    "    docvqa[i_split].push_to_hub(\"danjacobellis/docvqa\", split=split)"
   ]
  }
 ],
 "metadata": {
  "kernelspec": {
   "display_name": "Python 3 (ipykernel)",
   "language": "python",
   "name": "python3"
  },
  "language_info": {
   "codemirror_mode": {
    "name": "ipython",
    "version": 3
   },
   "file_extension": ".py",
   "mimetype": "text/x-python",
   "name": "python",
   "nbconvert_exporter": "python",
   "pygments_lexer": "ipython3",
   "version": "3.10.12"
  }
 },
 "nbformat": 4,
 "nbformat_minor": 5
}
