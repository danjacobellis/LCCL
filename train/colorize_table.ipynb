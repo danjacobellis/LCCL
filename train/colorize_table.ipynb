{
 "cells": [
  {
   "cell_type": "code",
   "execution_count": 1,
   "id": "83d3ee92-316f-441c-9d39-28d80ca1d631",
   "metadata": {},
   "outputs": [],
   "source": [
    "from IPython.display import Markdown, Latex\n",
    "from datasets import load_dataset\n",
    "import numpy as np\n",
    "import pandas as pd"
   ]
  },
  {
   "cell_type": "code",
   "execution_count": 2,
   "id": "9dd51dae-6a66-491d-a654-80cb51e86ad6",
   "metadata": {},
   "outputs": [],
   "source": [
    "methods = [\n",
    "    \"danjacobellis/LSDIR_colorize_pixels_128_p8\",\n",
    "    # \"danjacobellis/LSDIR_colorize_walloc_x4_128_p8\",\n",
    "    # \"danjacobellis/LSDIR_colorize_walloc_x16_128_p16\",\n",
    "    \"danjacobellis/LSDIR_colorize_pixels_256_p16\",\n",
    "    \"danjacobellis/LSDIR_colorize_walloc_x4_256_p16\",\n",
    "    \"danjacobellis/LSDIR_colorize_walloc_x16_256_p16\",\n",
    "    \"danjacobellis/LSDIR_colorize_pixels_512_p32\",\n",
    "    \"danjacobellis/LSDIR_colorize_walloc_x4_512_p32\",\n",
    "    \"danjacobellis/LSDIR_colorize_walloc_x16_512_p32\"\n",
    "]\n",
    "metrics = [\n",
    "    'time',\n",
    "    'cpu_time',\n",
    "    'gpu_mem',\n",
    "    'PSNR',\n",
    "    'MSSIM',\n",
    "    'LPIPS_dB',\n",
    "    'DISTS_dB',\n",
    "]\n",
    "types = [\n",
    "    \"Pixels\",\n",
    "    # \"WaLLoC (4x)\",\n",
    "    # \"WaLLoC (16x)\",\n",
    "    \"Pixels\",\n",
    "    \"WaLLoC (4x)\",\n",
    "    \"WaLLoC (16x)\",\n",
    "    \"Pixels\",\n",
    "    \"WaLLoC (4x)\",\n",
    "    \"WaLLoC (16x)\",\n",
    "\n",
    "]\n",
    "res = [\n",
    "    128,\n",
    "    # 128,\n",
    "    # 128,\n",
    "    256,\n",
    "    256,\n",
    "    256,\n",
    "    512,\n",
    "    512,\n",
    "    512,\n",
    "]\n",
    "patch = [\n",
    "    8,\n",
    "    # 8,\n",
    "    # 8,\n",
    "    16,\n",
    "    16,\n",
    "    16,\n",
    "    32,\n",
    "    32,\n",
    "    32\n",
    "]\n",
    "columns = [\n",
    "    \"type\",\n",
    "    \"resolution\",\n",
    "    \"patch_size\",\n",
    "] + metrics"
   ]
  },
  {
   "cell_type": "code",
   "execution_count": 3,
   "id": "6fb122cb-f4d9-4f2f-8056-96c191dc7560",
   "metadata": {},
   "outputs": [
    {
     "data": {
      "application/vnd.jupyter.widget-view+json": {
       "model_id": "5586986e97d44d64aae8636cea3df7fe",
       "version_major": 2,
       "version_minor": 0
      },
      "text/plain": [
       "README.md:   0%|          | 0.00/965 [00:00<?, ?B/s]"
      ]
     },
     "metadata": {},
     "output_type": "display_data"
    },
    {
     "data": {
      "application/vnd.jupyter.widget-view+json": {
       "model_id": "707d03e2df394e7da68589a3a2ba2c74",
       "version_major": 2,
       "version_minor": 0
      },
      "text/plain": [
       "validation-00000-of-00002.parquet:   0%|          | 0.00/370M [00:00<?, ?B/s]"
      ]
     },
     "metadata": {},
     "output_type": "display_data"
    },
    {
     "data": {
      "application/vnd.jupyter.widget-view+json": {
       "model_id": "7ba8c226f602436ea9067fea6ca164cb",
       "version_major": 2,
       "version_minor": 0
      },
      "text/plain": [
       "validation-00001-of-00002.parquet:   0%|          | 0.00/368M [00:00<?, ?B/s]"
      ]
     },
     "metadata": {},
     "output_type": "display_data"
    },
    {
     "data": {
      "application/vnd.jupyter.widget-view+json": {
       "model_id": "2263531f620b428c83b2316a82376701",
       "version_major": 2,
       "version_minor": 0
      },
      "text/plain": [
       "Generating validation split:   0%|          | 0/250 [00:00<?, ? examples/s]"
      ]
     },
     "metadata": {},
     "output_type": "display_data"
    }
   ],
   "source": [
    "data_rows = []\n",
    "for im, method in enumerate(methods):\n",
    "    ds = load_dataset(method, split='validation')\n",
    "    row = [types[im],res[im],patch[im]]\n",
    "    for metric in metrics:\n",
    "        mean = np.mean(ds[metric])\n",
    "        row.append(mean)\n",
    "    data_rows.append(row)\n",
    "\n",
    "df = pd.DataFrame(data_rows, columns=columns)"
   ]
  },
  {
   "cell_type": "code",
   "execution_count": 4,
   "id": "a66e33de-bc2a-45c2-866c-6a6c8645dcdd",
   "metadata": {},
   "outputs": [
    {
     "data": {
      "text/html": [
       "<div>\n",
       "<style scoped>\n",
       "    .dataframe tbody tr th:only-of-type {\n",
       "        vertical-align: middle;\n",
       "    }\n",
       "\n",
       "    .dataframe tbody tr th {\n",
       "        vertical-align: top;\n",
       "    }\n",
       "\n",
       "    .dataframe thead th {\n",
       "        text-align: right;\n",
       "    }\n",
       "</style>\n",
       "<table border=\"1\" class=\"dataframe\">\n",
       "  <thead>\n",
       "    <tr style=\"text-align: right;\">\n",
       "      <th></th>\n",
       "      <th>type</th>\n",
       "      <th>resolution</th>\n",
       "      <th>patch_size</th>\n",
       "      <th>time</th>\n",
       "      <th>cpu_time</th>\n",
       "      <th>gpu_mem</th>\n",
       "      <th>PSNR</th>\n",
       "      <th>MSSIM</th>\n",
       "      <th>LPIPS_dB</th>\n",
       "      <th>DISTS_dB</th>\n",
       "    </tr>\n",
       "  </thead>\n",
       "  <tbody>\n",
       "    <tr>\n",
       "      <th>0</th>\n",
       "      <td>Pixels</td>\n",
       "      <td>128</td>\n",
       "      <td>8</td>\n",
       "      <td>0.004370</td>\n",
       "      <td>0.010508</td>\n",
       "      <td>8226.070331</td>\n",
       "      <td>17.655345</td>\n",
       "      <td>0.713271</td>\n",
       "      <td>1.760317</td>\n",
       "      <td>5.096641</td>\n",
       "    </tr>\n",
       "    <tr>\n",
       "      <th>1</th>\n",
       "      <td>Pixels</td>\n",
       "      <td>256</td>\n",
       "      <td>16</td>\n",
       "      <td>0.004618</td>\n",
       "      <td>0.010785</td>\n",
       "      <td>8228.150706</td>\n",
       "      <td>18.336289</td>\n",
       "      <td>0.805834</td>\n",
       "      <td>2.329059</td>\n",
       "      <td>5.995810</td>\n",
       "    </tr>\n",
       "    <tr>\n",
       "      <th>2</th>\n",
       "      <td>WaLLoC (4x)</td>\n",
       "      <td>256</td>\n",
       "      <td>16</td>\n",
       "      <td>0.004223</td>\n",
       "      <td>0.009549</td>\n",
       "      <td>8284.790587</td>\n",
       "      <td>18.378464</td>\n",
       "      <td>0.816831</td>\n",
       "      <td>2.469780</td>\n",
       "      <td>6.149699</td>\n",
       "    </tr>\n",
       "    <tr>\n",
       "      <th>3</th>\n",
       "      <td>Pixels</td>\n",
       "      <td>512</td>\n",
       "      <td>32</td>\n",
       "      <td>0.004806</td>\n",
       "      <td>0.011288</td>\n",
       "      <td>8226.045166</td>\n",
       "      <td>18.504796</td>\n",
       "      <td>0.825925</td>\n",
       "      <td>2.426913</td>\n",
       "      <td>6.225237</td>\n",
       "    </tr>\n",
       "    <tr>\n",
       "      <th>4</th>\n",
       "      <td>WaLLoC (4x)</td>\n",
       "      <td>512</td>\n",
       "      <td>32</td>\n",
       "      <td>0.004276</td>\n",
       "      <td>0.011300</td>\n",
       "      <td>8297.373499</td>\n",
       "      <td>18.398811</td>\n",
       "      <td>0.827451</td>\n",
       "      <td>2.456711</td>\n",
       "      <td>6.224286</td>\n",
       "    </tr>\n",
       "    <tr>\n",
       "      <th>5</th>\n",
       "      <td>WaLLoC (16x)</td>\n",
       "      <td>512</td>\n",
       "      <td>32</td>\n",
       "      <td>0.004272</td>\n",
       "      <td>0.011457</td>\n",
       "      <td>8297.373499</td>\n",
       "      <td>18.851549</td>\n",
       "      <td>0.843759</td>\n",
       "      <td>2.834188</td>\n",
       "      <td>6.601486</td>\n",
       "    </tr>\n",
       "  </tbody>\n",
       "</table>\n",
       "</div>"
      ],
      "text/plain": [
       "           type  resolution  patch_size      time  cpu_time      gpu_mem  \\\n",
       "0        Pixels         128           8  0.004370  0.010508  8226.070331   \n",
       "1        Pixels         256          16  0.004618  0.010785  8228.150706   \n",
       "2   WaLLoC (4x)         256          16  0.004223  0.009549  8284.790587   \n",
       "3        Pixels         512          32  0.004806  0.011288  8226.045166   \n",
       "4   WaLLoC (4x)         512          32  0.004276  0.011300  8297.373499   \n",
       "5  WaLLoC (16x)         512          32  0.004272  0.011457  8297.373499   \n",
       "\n",
       "        PSNR     MSSIM  LPIPS_dB  DISTS_dB  \n",
       "0  17.655345  0.713271  1.760317  5.096641  \n",
       "1  18.336289  0.805834  2.329059  5.995810  \n",
       "2  18.378464  0.816831  2.469780  6.149699  \n",
       "3  18.504796  0.825925  2.426913  6.225237  \n",
       "4  18.398811  0.827451  2.456711  6.224286  \n",
       "5  18.851549  0.843759  2.834188  6.601486  "
      ]
     },
     "execution_count": 4,
     "metadata": {},
     "output_type": "execute_result"
    }
   ],
   "source": [
    "df"
   ]
  },
  {
   "cell_type": "code",
   "execution_count": null,
   "id": "6081e706-d225-4e0c-b7b6-4ae6fcf3ecb4",
   "metadata": {},
   "outputs": [],
   "source": [
    "ds[52]['image']"
   ]
  },
  {
   "cell_type": "code",
   "execution_count": null,
   "id": "39faee2b-b4cc-4847-ad86-918f0126c4ca",
   "metadata": {},
   "outputs": [],
   "source": [
    "ds[52]['colorized']"
   ]
  },
  {
   "cell_type": "code",
   "execution_count": null,
   "id": "a4685df3-7fdf-4ea4-a0ec-384b9ace5154",
   "metadata": {},
   "outputs": [],
   "source": [
    "ds[64]['image']"
   ]
  },
  {
   "cell_type": "code",
   "execution_count": null,
   "id": "673ffd69-6f84-46d9-927b-2d9e69d19ccb",
   "metadata": {},
   "outputs": [],
   "source": [
    "ds[64]['colorized']"
   ]
  },
  {
   "cell_type": "code",
   "execution_count": null,
   "id": "e7537edb-8ad5-4bd1-ae8e-47a16d2ad7e1",
   "metadata": {},
   "outputs": [],
   "source": [
    "ds[95]['image']"
   ]
  },
  {
   "cell_type": "code",
   "execution_count": null,
   "id": "2e36b9e7-368c-4a40-a72d-83b832d19b3a",
   "metadata": {},
   "outputs": [],
   "source": [
    "ds[95]['colorized']"
   ]
  },
  {
   "cell_type": "code",
   "execution_count": null,
   "id": "411c1415-e1d4-4add-bb6b-adb54a1534a1",
   "metadata": {},
   "outputs": [],
   "source": [
    "ds[105]['image']"
   ]
  },
  {
   "cell_type": "code",
   "execution_count": null,
   "id": "63cb0314-bbe5-4232-827d-5160b1c16dcc",
   "metadata": {},
   "outputs": [],
   "source": [
    "ds[105]['colorized']"
   ]
  }
 ],
 "metadata": {
  "kernelspec": {
   "display_name": "Python 3 (ipykernel)",
   "language": "python",
   "name": "python3"
  },
  "language_info": {
   "codemirror_mode": {
    "name": "ipython",
    "version": 3
   },
   "file_extension": ".py",
   "mimetype": "text/x-python",
   "name": "python",
   "nbconvert_exporter": "python",
   "pygments_lexer": "ipython3",
   "version": "3.10.12"
  }
 },
 "nbformat": 4,
 "nbformat_minor": 5
}
