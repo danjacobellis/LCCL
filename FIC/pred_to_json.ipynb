{
 "cells": [
  {
   "cell_type": "code",
   "execution_count": 34,
   "id": "e8f64a74-c3f5-41d0-bb26-2c9c53104835",
   "metadata": {},
   "outputs": [],
   "source": [
    "import json\n",
    "import pandas as pd\n",
    "import numpy as np\n",
    "from datasets import load_dataset, Dataset"
   ]
  },
  {
   "cell_type": "code",
   "execution_count": 17,
   "id": "739f7505-c31f-44c9-bfc0-842789feade4",
   "metadata": {},
   "outputs": [],
   "source": [
    "ds = load_dataset(\"danjacobellis/docvqa_paligemma896\",split='test')\n",
    "question_ids = ds['questionId']"
   ]
  },
  {
   "cell_type": "code",
   "execution_count": 16,
   "id": "5cff9be5-54d4-40d7-821e-24a08fc327ec",
   "metadata": {},
   "outputs": [],
   "source": [
    "for rr in ['1x', '4x', '16x']:\n",
    "    predictions = ds[f'preds_{rr}']\n",
    "    submission_data = [{'questionId': qid, 'answer': ans} for qid, ans in zip(question_ids, predictions)]\n",
    "    with open(f'pixels_{rr}.json', 'w') as outfile:\n",
    "        json.dump(submission_data, outfile)"
   ]
  },
  {
   "cell_type": "markdown",
   "id": "d2a3cb0a-15e9-4324-bbf8-5c4cf121334a",
   "metadata": {},
   "source": [
    "https://rrc.cvc.uab.es/?com=contestant"
   ]
  },
  {
   "cell_type": "code",
   "execution_count": 36,
   "id": "2671e0e8-658e-40eb-a393-cf166d3b2a53",
   "metadata": {},
   "outputs": [
    {
     "name": "stdout",
     "output_type": "stream",
     "text": [
      "0.8413126450243332\n",
      "0.8095888924511818\n",
      "0.3941939240236093\n"
     ]
    }
   ],
   "source": [
    "for rr in ['1x', '4x', '16x']:\n",
    "    scores = []\n",
    "    with open(f\"pixels_{rr}.csv\", 'r') as file:\n",
    "        for line in file:\n",
    "            parts = line.split(';')\n",
    "            if len(parts) > 2:\n",
    "                try:\n",
    "                    score = float(parts[2])\n",
    "                    scores.append(score)\n",
    "                except ValueError:\n",
    "                    continue\n",
    "    print(np.mean(scores))"
   ]
  }
 ],
 "metadata": {
  "kernelspec": {
   "display_name": "Python 3 (ipykernel)",
   "language": "python",
   "name": "python3"
  },
  "language_info": {
   "codemirror_mode": {
    "name": "ipython",
    "version": 3
   },
   "file_extension": ".py",
   "mimetype": "text/x-python",
   "name": "python",
   "nbconvert_exporter": "python",
   "pygments_lexer": "ipython3",
   "version": "3.10.12"
  }
 },
 "nbformat": 4,
 "nbformat_minor": 5
}
