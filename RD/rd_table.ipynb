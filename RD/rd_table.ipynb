{
 "cells": [
  {
   "cell_type": "code",
   "execution_count": 1,
   "id": "47453076-df61-49cf-a4a4-092bb71b2fd1",
   "metadata": {},
   "outputs": [],
   "source": [
    "from IPython.display import Markdown, Latex\n",
    "from datasets import load_dataset\n",
    "import numpy as np\n",
    "import pandas as pd"
   ]
  },
  {
   "cell_type": "code",
   "execution_count": 2,
   "id": "5ac7b900-5c22-40c8-bc71-f08f366acdae",
   "metadata": {},
   "outputs": [],
   "source": [
    "methods = [\n",
    "    \"danjacobellis/CompVis-stable-diffusion-v1-4_fp16\",\n",
    "    \"danjacobellis/CompVis-stable-diffusion-v1-4_nf4\",\n",
    "    \"danjacobellis/stabilityai-stable-diffusion-3-medium-diffusers_fp16\",\n",
    "    \"danjacobellis/stabilityai-stable-diffusion-3-medium-diffusers_nf4\",\n",
    "    \"danjacobellis/RGB_Li_27c_J3_nf4_v1.0.2\",\n",
    "]\n",
    "\n",
    "names = [\n",
    "    'Stable Diffusion 1.4 (fp16)',\n",
    "    'Stable Diffusion 1.4 (nf4)',\n",
    "    'Stable Diffusion 3 (fp16)',\n",
    "    'Stable Diffusion 3 (nf4)',\n",
    "    'WaLLoC',\n",
    "]"
   ]
  },
  {
   "cell_type": "code",
   "execution_count": 3,
   "id": "adca3947-12a1-4278-86f4-091af6da9085",
   "metadata": {},
   "outputs": [],
   "source": [
    "metrics = [\n",
    "    'encode_time',\n",
    "    'decode_time',\n",
    "    'bpp',\n",
    "    'PSNR',\n",
    "    'MSSIM',\n",
    "    'LPIPS_dB',\n",
    "    'DISTS_dB'\n",
    "]"
   ]
  },
  {
   "cell_type": "code",
   "execution_count": 4,
   "id": "17273f0d-a1e7-42f4-b395-89ce55bce35f",
   "metadata": {},
   "outputs": [],
   "source": [
    "# Prepare multi-level columns for mean and median\n",
    "col_tuples = []\n",
    "for metric in metrics:\n",
    "    col_tuples.append((metric, 'mean'))\n",
    "    col_tuples.append((metric, 'median'))\n",
    "\n",
    "columns = pd.MultiIndex.from_tuples(col_tuples)\n",
    "data_rows = []\n",
    "\n",
    "for i_method, method in enumerate(methods):\n",
    "    ds = load_dataset(method, split='validation')\n",
    "    row = []\n",
    "    for metric in metrics:\n",
    "        mean = np.mean(ds[metric])\n",
    "        median = np.median(ds[metric])\n",
    "        row.extend([mean, median])\n",
    "    data_rows.append(row)\n",
    "\n",
    "df = pd.DataFrame(data_rows, index=names, columns=columns)"
   ]
  },
  {
   "cell_type": "code",
   "execution_count": 14,
   "id": "2f066e91-060f-40db-87ba-369dc48183fe",
   "metadata": {},
   "outputs": [
    {
     "data": {
      "text/markdown": [
       "|                             |   ('encode_time', 'mean') |   ('encode_time', 'median') |   ('decode_time', 'mean') |   ('decode_time', 'median') |   ('bpp', 'mean') |   ('bpp', 'median') |   ('PSNR', 'mean') |   ('PSNR', 'median') |   ('MSSIM', 'mean') |   ('MSSIM', 'median') |   ('LPIPS_dB', 'mean') |   ('LPIPS_dB', 'median') |   ('DISTS_dB', 'mean') |   ('DISTS_dB', 'median') |\n",
       "|:----------------------------|--------------------------:|----------------------------:|--------------------------:|----------------------------:|------------------:|--------------------:|-------------------:|---------------------:|--------------------:|----------------------:|-----------------------:|-------------------------:|-----------------------:|-------------------------:|\n",
       "| Stable Diffusion 1.4 (fp16) |                     0.022 |                       0.022 |                     0.017 |                       0.017 |             1     |               1     |             19.428 |               18.982 |               0.811 |                 0.825 |                  6.679 |                    6.557 |                 12.242 |                   12.144 |\n",
       "| Stable Diffusion 1.4 (nf4)  |                     0.176 |                       0.156 |                     0.019 |                       0.019 |             0.226 |               0.231 |             17.029 |               16.855 |               0.768 |                 0.776 |                  4.86  |                    4.786 |                  9.488 |                    9.494 |\n",
       "| Stable Diffusion 3 (fp16)   |                     0.019 |                       0.021 |                     0.017 |                       0.017 |             4     |               4     |             20.88  |               19.879 |               0.84  |                 0.841 |                  8.325 |                    7.845 |                 13.846 |                   13.383 |\n",
       "| Stable Diffusion 3 (nf4)    |                     0.192 |                       0.173 |                     0.02  |                       0.02  |             0.454 |               0.462 |             17.051 |               17.01  |               0.716 |                 0.727 |                  3.082 |                    3.091 |                  7.228 |                    7.259 |\n",
       "| WaLLoC                      |                     0.066 |                       0.066 |                     0.013 |                       0.012 |             1.146 |               1.157 |             29.676 |               29.82  |               0.978 |                 0.981 |                  7.638 |                    7.683 |                 15.032 |                   15.081 |"
      ],
      "text/plain": [
       "<IPython.core.display.Markdown object>"
      ]
     },
     "metadata": {},
     "output_type": "display_data"
    }
   ],
   "source": [
    "df_rounded = df.round(3)\n",
    "md_table = df_rounded.to_markdown()\n",
    "display(Markdown(md_table))"
   ]
  },
  {
   "cell_type": "code",
   "execution_count": 18,
   "id": "1d6426e8-6844-4b48-a7a2-6ff183f779be",
   "metadata": {},
   "outputs": [
    {
     "name": "stdout",
     "output_type": "stream",
     "text": [
      "\\begin{tabular}{lrrrrrrrrrrrrrr}\n",
      "\\toprule\n",
      " & \\multicolumn{2}{c}{encode_time} & \\multicolumn{2}{c}{decode_time} & \\multicolumn{2}{c}{bpp} & \\multicolumn{2}{c}{PSNR} & \\multicolumn{2}{c}{MSSIM} & \\multicolumn{2}{c}{LPIPS_dB} & \\multicolumn{2}{c}{DISTS_dB} \\\\\n",
      " & mean & median & mean & median & mean & median & mean & median & mean & median & mean & median & mean & median \\\\\n",
      "\\midrule\n",
      "\\textbf{Stable Diffusion 1.4 (fp16)} & 0.022 & 0.022 & 0.017 & 0.017 & 1.000 & 1.000 & 19.428 & 18.982 & 0.811 & 0.825 & 6.679 & 6.557 & 12.242 & 12.144 \\\\\n",
      "\\textbf{Stable Diffusion 1.4 (nf4)} & 0.176 & 0.156 & 0.019 & 0.019 & 0.226 & 0.231 & 17.029 & 16.855 & 0.768 & 0.776 & 4.860 & 4.786 & 9.488 & 9.494 \\\\\n",
      "\\textbf{Stable Diffusion 3 (fp16)} & 0.019 & 0.021 & 0.017 & 0.017 & 4.000 & 4.000 & 20.880 & 19.879 & 0.840 & 0.841 & 8.325 & 7.845 & 13.846 & 13.383 \\\\\n",
      "\\textbf{Stable Diffusion 3 (nf4)} & 0.192 & 0.173 & 0.020 & 0.020 & 0.454 & 0.462 & 17.051 & 17.010 & 0.716 & 0.727 & 3.082 & 3.091 & 7.228 & 7.259 \\\\\n",
      "\\textbf{WaLLoC} & 0.066 & 0.066 & 0.013 & 0.012 & 1.146 & 1.157 & 29.676 & 29.820 & 0.978 & 0.981 & 7.638 & 7.683 & 15.032 & 15.081 \\\\\n",
      "\\bottomrule\n",
      "\\end{tabular}\n",
      "\n"
     ]
    }
   ],
   "source": [
    "df_rounded = df.round(3)\n",
    "column_format = 'l' + 'rr' * len(metrics)\n",
    "latex_table = df_rounded.to_latex(\n",
    "    index=True,\n",
    "    float_format=\"%.3f\",\n",
    "    column_format=column_format,\n",
    "    multicolumn=True,\n",
    "    multicolumn_format='c',\n",
    "    bold_rows=True\n",
    ")\n",
    "print(latex_table)"
   ]
  },
  {
   "cell_type": "code",
   "execution_count": null,
   "id": "7dc6a544-0254-4347-b579-5f83838bd9f0",
   "metadata": {},
   "outputs": [],
   "source": []
  }
 ],
 "metadata": {
  "kernelspec": {
   "display_name": "Python 3 (ipykernel)",
   "language": "python",
   "name": "python3"
  },
  "language_info": {
   "codemirror_mode": {
    "name": "ipython",
    "version": 3
   },
   "file_extension": ".py",
   "mimetype": "text/x-python",
   "name": "python",
   "nbconvert_exporter": "python",
   "pygments_lexer": "ipython3",
   "version": "3.10.12"
  }
 },
 "nbformat": 4,
 "nbformat_minor": 5
}
