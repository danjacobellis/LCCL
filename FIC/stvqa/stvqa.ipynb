{
 "cells": [
  {
   "cell_type": "code",
   "execution_count": null,
   "id": "d75c08ed-0a38-4a8f-9a75-8ed229f27b21",
   "metadata": {},
   "outputs": [],
   "source": [
    "!wget -c https://datasets.cvc.uab.es/rrc/ST-VQA.tar.gz --no-check-certificate"
   ]
  },
  {
   "cell_type": "code",
   "execution_count": null,
   "id": "3559caac-2fff-4f44-8a38-de8c38546f2c",
   "metadata": {},
   "outputs": [],
   "source": [
    "!wget https://datasets.cvc.uab.es/rrc/train_task_1.json --no-check-certificate"
   ]
  },
  {
   "cell_type": "code",
   "execution_count": null,
   "id": "b9087723-d7b1-4b72-b78d-d993aea464cc",
   "metadata": {},
   "outputs": [],
   "source": [
    "!wget https://datasets.cvc.uab.es/rrc/train_task_2.json --no-check-certificate"
   ]
  },
  {
   "cell_type": "code",
   "execution_count": null,
   "id": "398b79d4-08ea-4bf7-a541-cf266934c2f4",
   "metadata": {},
   "outputs": [],
   "source": [
    "!wget https://datasets.cvc.uab.es/rrc/train_task_3.json --no-check-certificate"
   ]
  },
  {
   "cell_type": "code",
   "execution_count": null,
   "id": "4a9cf45b-a0d4-4a93-899e-e015d355c791",
   "metadata": {},
   "outputs": [],
   "source": [
    "!wget -c https://datasets.cvc.uab.es/rrc/test_task1_imgs.tar.gz --no-check-certificate"
   ]
  },
  {
   "cell_type": "code",
   "execution_count": null,
   "id": "e0bb49db-61d8-46ab-99b6-b55677c31f0b",
   "metadata": {},
   "outputs": [],
   "source": [
    "!wget -c https://datasets.cvc.uab.es/rrc/test_task2_imgs.tar.gz --no-check-certificate"
   ]
  },
  {
   "cell_type": "code",
   "execution_count": null,
   "id": "cd74dc0f-e3cd-481f-bb4c-90e0adc336e6",
   "metadata": {},
   "outputs": [],
   "source": [
    "!wget -c https://datasets.cvc.uab.es/rrc/test_task3_imgs.tar.gz --no-check-certificate"
   ]
  },
  {
   "cell_type": "code",
   "execution_count": null,
   "id": "11dfd07f-b568-4c3c-8b4a-5b686aa5f867",
   "metadata": {},
   "outputs": [],
   "source": [
    "!wget https://datasets.cvc.uab.es/rrc/test_task_1.json --no-check-certificate"
   ]
  },
  {
   "cell_type": "code",
   "execution_count": null,
   "id": "e0b1e62c-db6a-4225-b4a6-6be74ea0243b",
   "metadata": {},
   "outputs": [],
   "source": [
    "!wget https://datasets.cvc.uab.es/rrc/test_task_2.json --no-check-certificate"
   ]
  },
  {
   "cell_type": "code",
   "execution_count": null,
   "id": "058027eb-c29a-41c0-86ce-3f61963af9cc",
   "metadata": {},
   "outputs": [],
   "source": [
    "!wget https://datasets.cvc.uab.es/rrc/test_task_3.json --no-check-certificate"
   ]
  },
  {
   "cell_type": "code",
   "execution_count": null,
   "id": "e7c5ee65-bf01-4cb7-844d-1b2e07164cd0",
   "metadata": {},
   "outputs": [],
   "source": [
    "!mkdir ST-VQA && tar -xzf ST-VQA.tar.gz -C ST-VQA"
   ]
  },
  {
   "cell_type": "code",
   "execution_count": null,
   "id": "baae57ea-848f-4974-94b3-649d96b578b3",
   "metadata": {},
   "outputs": [],
   "source": [
    "!mkdir test_task1_imgs && tar -xzf test_task1_imgs.tar.gz -C test_task1_imgs"
   ]
  },
  {
   "cell_type": "code",
   "execution_count": null,
   "id": "89c6e9c8-2aa4-4e28-a315-952e94a1c3da",
   "metadata": {},
   "outputs": [],
   "source": [
    "!mkdir test_task2_imgs && tar -xzf test_task2_imgs.tar.gz -C test_task2_imgs"
   ]
  },
  {
   "cell_type": "code",
   "execution_count": null,
   "id": "fe42a732-1f9d-44d1-b68d-55b80905e873",
   "metadata": {},
   "outputs": [],
   "source": [
    "!mkdir test_task3_imgs && tar -xzf test_task3_imgs.tar.gz -C test_task3_imgs"
   ]
  },
  {
   "cell_type": "code",
   "execution_count": 1,
   "id": "1e6bd288-ee75-45d8-b348-565682bea6b7",
   "metadata": {},
   "outputs": [],
   "source": [
    "import io\n",
    "import os\n",
    "import PIL\n",
    "import json\n",
    "from datasets import Dataset, Image\n",
    "from glob import glob"
   ]
  },
  {
   "cell_type": "code",
   "execution_count": 2,
   "id": "28596879-5689-4d48-baee-4cf56eaa9d3d",
   "metadata": {},
   "outputs": [],
   "source": [
    "splits = [\n",
    "    'train',\n",
    "    'test'\n",
    "]"
   ]
  },
  {
   "cell_type": "markdown",
   "id": "e3e5b44a-50d8-4bc8-a3f8-3f49a70e0be7",
   "metadata": {},
   "source": [
    "## Task 1"
   ]
  },
  {
   "cell_type": "code",
   "execution_count": 3,
   "id": "54215d2c-6e8c-497b-9891-806eefa64a4c",
   "metadata": {},
   "outputs": [],
   "source": [
    "task = 1\n",
    "stvqa_task1 = []\n",
    "for i_split, split in enumerate(splits):\n",
    "    path = []\n",
    "    question = []\n",
    "    dictionary = []\n",
    "    answer = []\n",
    "    with open(f\"{split}_task_{task}.json\", 'r') as f:\n",
    "        data = json.load(f)['data']\n",
    "    for sample in data:\n",
    "        if i_split == 0:\n",
    "            path.append(f\"ST-VQA/{sample['file_path']}\")\n",
    "        else:\n",
    "            path.append(f\"test_task{task}_imgs/{sample['file_path']}\")\n",
    "        question.append(sample['question'])\n",
    "        dictionary.append(sample['dictionary'])\n",
    "        if i_split == 1:\n",
    "            answer.append([\"Test server is available at rrc.cvc.uab.es\"])\n",
    "        else:\n",
    "            answer.append(sample['answers'])\n",
    "    stvqa_task1.append(Dataset.from_dict({\n",
    "        'path':path,\n",
    "        'question':question,\n",
    "        'dictionary':dictionary,\n",
    "        'answer':answer\n",
    "    }))"
   ]
  },
  {
   "cell_type": "code",
   "execution_count": 4,
   "id": "61f26243-0ed2-4f29-b4c7-05364e45c8a0",
   "metadata": {},
   "outputs": [],
   "source": [
    "def load_image(sample):\n",
    "    with open(sample['path'], 'rb') as f:\n",
    "        buff = io.BytesIO(f.read()).getbuffer()\n",
    "    return {\n",
    "        'image': buff\n",
    "    }"
   ]
  },
  {
   "cell_type": "code",
   "execution_count": 5,
   "id": "954e38b9-bf1a-4aff-af3f-5cb3bdd65aec",
   "metadata": {},
   "outputs": [
    {
     "data": {
      "application/vnd.jupyter.widget-view+json": {
       "model_id": "ae359bf22b924281801249883084c529",
       "version_major": 2,
       "version_minor": 0
      },
      "text/plain": [
       "Uploading the dataset shards:   0%|          | 0/6 [00:00<?, ?it/s]"
      ]
     },
     "metadata": {},
     "output_type": "display_data"
    },
    {
     "data": {
      "application/vnd.jupyter.widget-view+json": {
       "model_id": "2911f2db3bab4230b97189894fd4d720",
       "version_major": 2,
       "version_minor": 0
      },
      "text/plain": [
       "Map:   0%|          | 0/4346 [00:00<?, ? examples/s]"
      ]
     },
     "metadata": {},
     "output_type": "display_data"
    },
    {
     "data": {
      "application/vnd.jupyter.widget-view+json": {
       "model_id": "c40c74dcc34b4b1283d0fc311ca26e6c",
       "version_major": 2,
       "version_minor": 0
      },
      "text/plain": [
       "Creating parquet from Arrow format:   0%|          | 0/44 [00:00<?, ?ba/s]"
      ]
     },
     "metadata": {},
     "output_type": "display_data"
    },
    {
     "data": {
      "application/vnd.jupyter.widget-view+json": {
       "model_id": "18b1383ad5a147fab697e5925d4df860",
       "version_major": 2,
       "version_minor": 0
      },
      "text/plain": [
       "Map:   0%|          | 0/4346 [00:00<?, ? examples/s]"
      ]
     },
     "metadata": {},
     "output_type": "display_data"
    },
    {
     "data": {
      "application/vnd.jupyter.widget-view+json": {
       "model_id": "518bbea0cd354440927bed969b453e6f",
       "version_major": 2,
       "version_minor": 0
      },
      "text/plain": [
       "Creating parquet from Arrow format:   0%|          | 0/44 [00:00<?, ?ba/s]"
      ]
     },
     "metadata": {},
     "output_type": "display_data"
    },
    {
     "data": {
      "application/vnd.jupyter.widget-view+json": {
       "model_id": "f3d4e982c98a48a2bb0e4832d110ee11",
       "version_major": 2,
       "version_minor": 0
      },
      "text/plain": [
       "Map:   0%|          | 0/4346 [00:00<?, ? examples/s]"
      ]
     },
     "metadata": {},
     "output_type": "display_data"
    },
    {
     "data": {
      "application/vnd.jupyter.widget-view+json": {
       "model_id": "50377d099beb498e896df3905f629cb1",
       "version_major": 2,
       "version_minor": 0
      },
      "text/plain": [
       "Creating parquet from Arrow format:   0%|          | 0/44 [00:00<?, ?ba/s]"
      ]
     },
     "metadata": {},
     "output_type": "display_data"
    },
    {
     "data": {
      "application/vnd.jupyter.widget-view+json": {
       "model_id": "42de1141874146d8a09322b39d269de2",
       "version_major": 2,
       "version_minor": 0
      },
      "text/plain": [
       "Map:   0%|          | 0/4346 [00:00<?, ? examples/s]"
      ]
     },
     "metadata": {},
     "output_type": "display_data"
    },
    {
     "data": {
      "application/vnd.jupyter.widget-view+json": {
       "model_id": "e22e44f98ff1417ca94cefb137502a3f",
       "version_major": 2,
       "version_minor": 0
      },
      "text/plain": [
       "Creating parquet from Arrow format:   0%|          | 0/44 [00:00<?, ?ba/s]"
      ]
     },
     "metadata": {},
     "output_type": "display_data"
    },
    {
     "data": {
      "application/vnd.jupyter.widget-view+json": {
       "model_id": "86311691d43e46c3811db23c906b433b",
       "version_major": 2,
       "version_minor": 0
      },
      "text/plain": [
       "Map:   0%|          | 0/4345 [00:00<?, ? examples/s]"
      ]
     },
     "metadata": {},
     "output_type": "display_data"
    },
    {
     "data": {
      "application/vnd.jupyter.widget-view+json": {
       "model_id": "2d0717ff40e542438d7d9d6a0f921aaf",
       "version_major": 2,
       "version_minor": 0
      },
      "text/plain": [
       "Creating parquet from Arrow format:   0%|          | 0/44 [00:00<?, ?ba/s]"
      ]
     },
     "metadata": {},
     "output_type": "display_data"
    },
    {
     "data": {
      "application/vnd.jupyter.widget-view+json": {
       "model_id": "af502694a2c84ea6bcaba332f514f151",
       "version_major": 2,
       "version_minor": 0
      },
      "text/plain": [
       "Map:   0%|          | 0/4345 [00:00<?, ? examples/s]"
      ]
     },
     "metadata": {},
     "output_type": "display_data"
    },
    {
     "data": {
      "application/vnd.jupyter.widget-view+json": {
       "model_id": "5a7f519f87d0429d9922026898c1df5a",
       "version_major": 2,
       "version_minor": 0
      },
      "text/plain": [
       "Creating parquet from Arrow format:   0%|          | 0/44 [00:00<?, ?ba/s]"
      ]
     },
     "metadata": {},
     "output_type": "display_data"
    },
    {
     "data": {
      "application/vnd.jupyter.widget-view+json": {
       "model_id": "7ae8d3f341d649038c94cd23cf8d62de",
       "version_major": 2,
       "version_minor": 0
      },
      "text/plain": [
       "Map:   0%|          | 0/4102 [00:00<?, ? examples/s]"
      ]
     },
     "metadata": {},
     "output_type": "display_data"
    },
    {
     "data": {
      "application/vnd.jupyter.widget-view+json": {
       "model_id": "4f7eb1a9244e4ab8b041b4e14f7e45c9",
       "version_major": 2,
       "version_minor": 0
      },
      "text/plain": [
       "Uploading the dataset shards:   0%|          | 0/1 [00:00<?, ?it/s]"
      ]
     },
     "metadata": {},
     "output_type": "display_data"
    },
    {
     "data": {
      "application/vnd.jupyter.widget-view+json": {
       "model_id": "d4d8e566e9064e7487a96995c6fa5060",
       "version_major": 2,
       "version_minor": 0
      },
      "text/plain": [
       "Map:   0%|          | 0/4102 [00:00<?, ? examples/s]"
      ]
     },
     "metadata": {},
     "output_type": "display_data"
    },
    {
     "data": {
      "application/vnd.jupyter.widget-view+json": {
       "model_id": "c3d245b0bf8c4778a38bb5b4d911ce05",
       "version_major": 2,
       "version_minor": 0
      },
      "text/plain": [
       "Creating parquet from Arrow format:   0%|          | 0/42 [00:00<?, ?ba/s]"
      ]
     },
     "metadata": {},
     "output_type": "display_data"
    },
    {
     "data": {
      "application/vnd.jupyter.widget-view+json": {
       "model_id": "b0f28b19f87e4de4b6d805440031b07f",
       "version_major": 2,
       "version_minor": 0
      },
      "text/plain": [
       "README.md:   0%|          | 0.00/440 [00:00<?, ?B/s]"
      ]
     },
     "metadata": {},
     "output_type": "display_data"
    }
   ],
   "source": [
    "for i_split, split in enumerate(splits):\n",
    "    ds = stvqa_task1[i_split].map(load_image, writer_batch_size=64, cache_file_name=f\"{task}{split}.cache\")\n",
    "    ds = ds.cast_column('image', Image())\n",
    "    ds.push_to_hub(\"danjacobellis/stvqa_task1\", split=split)"
   ]
  }
 ],
 "metadata": {
  "kernelspec": {
   "display_name": "Python 3 (ipykernel)",
   "language": "python",
   "name": "python3"
  },
  "language_info": {
   "codemirror_mode": {
    "name": "ipython",
    "version": 3
   },
   "file_extension": ".py",
   "mimetype": "text/x-python",
   "name": "python",
   "nbconvert_exporter": "python",
   "pygments_lexer": "ipython3",
   "version": "3.10.12"
  }
 },
 "nbformat": 4,
 "nbformat_minor": 5
}
