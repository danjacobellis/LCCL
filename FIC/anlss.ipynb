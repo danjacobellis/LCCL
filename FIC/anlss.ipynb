{
 "cells": [
  {
   "cell_type": "code",
   "execution_count": 3,
   "id": "5aaf88e0-21e1-4c52-96cf-871b3a87bbc7",
   "metadata": {},
   "outputs": [],
   "source": [
    "from anls_star import anls_score"
   ]
  },
  {
   "cell_type": "code",
   "execution_count": 18,
   "id": "de4b74a5-0480-4aa1-a672-efd3f8ffa60b",
   "metadata": {},
   "outputs": [],
   "source": [
    "pred = \"within the next 2-3 weeks\"\n",
    "y = [\n",
    "    \"within the next 2-3 weeks\",\n",
    "    \"2-3 weeks\",\n",
    "    \"next 2-3 weeks\"\n",
    "]"
   ]
  },
  {
   "cell_type": "code",
   "execution_count": 19,
   "id": "703bfc60-3b37-48ef-b82c-95aefa6a4431",
   "metadata": {},
   "outputs": [
    {
     "data": {
      "text/plain": [
       "1.0"
      ]
     },
     "execution_count": 19,
     "metadata": {},
     "output_type": "execute_result"
    }
   ],
   "source": [
    "score, closest_gt = anls_score(gt, pred, return_gt=True)"
   ]
  },
  {
   "cell_type": "code",
   "execution_count": null,
   "id": "9f7f4813-971f-4611-bec8-c66f119f0c75",
   "metadata": {},
   "outputs": [],
   "source": []
  },
  {
   "cell_type": "code",
   "execution_count": 16,
   "id": "66e7908b-f91d-4811-b546-87f4f5e4a64b",
   "metadata": {},
   "outputs": [],
   "source": [
    "anls = anls_score(\"within the next 2-3 weeks\", \"within the next 2-3 weeks\")"
   ]
  }
 ],
 "metadata": {
  "kernelspec": {
   "display_name": "Python 3 (ipykernel)",
   "language": "python",
   "name": "python3"
  },
  "language_info": {
   "codemirror_mode": {
    "name": "ipython",
    "version": 3
   },
   "file_extension": ".py",
   "mimetype": "text/x-python",
   "name": "python",
   "nbconvert_exporter": "python",
   "pygments_lexer": "ipython3",
   "version": "3.10.12"
  }
 },
 "nbformat": 4,
 "nbformat_minor": 5
}
