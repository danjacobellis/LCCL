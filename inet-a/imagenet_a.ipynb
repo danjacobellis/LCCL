{
 "cells": [
  {
   "cell_type": "code",
   "execution_count": null,
   "id": "e01b8d0a-5a9f-4cb5-8376-554b04e1d49f",
   "metadata": {},
   "outputs": [],
   "source": [
    "!wget https://people.eecs.berkeley.edu/~hendrycks/imagenet-a.tar"
   ]
  },
  {
   "cell_type": "code",
   "execution_count": null,
   "id": "09dd0357-c320-4ad4-a590-7eda2d6a5276",
   "metadata": {},
   "outputs": [],
   "source": [
    "!tar -xf imagenet-a.tar"
   ]
  },
  {
   "cell_type": "code",
   "execution_count": null,
   "id": "e6a45083-8731-41cf-957a-f6a403a2e7ca",
   "metadata": {},
   "outputs": [],
   "source": [
    "!wget https://huggingface.co/datasets/ILSVRC/imagenet-1k/resolve/main/classes.py"
   ]
  },
  {
   "cell_type": "code",
   "execution_count": 40,
   "id": "331d92c9-8b5b-4942-9c8d-d84f084c7df4",
   "metadata": {},
   "outputs": [],
   "source": [
    "from glob import glob\n",
    "from classes import IMAGENET2012_CLASSES"
   ]
  },
  {
   "cell_type": "code",
   "execution_count": 41,
   "id": "67d2ddf7-4544-4ab4-ab8c-07718ef08448",
   "metadata": {},
   "outputs": [],
   "source": [
    "id_to_index = {wnid: idx for idx, wnid in enumerate(IMAGENET2012_CLASSES.keys())}"
   ]
  },
  {
   "cell_type": "code",
   "execution_count": 43,
   "id": "5e13535f-27ef-411d-85a1-f13613b2a0d6",
   "metadata": {},
   "outputs": [],
   "source": [
    "for file in glob(\"imagenet-a/n*/*.[jJ]*\"):\n",
    "    _, class_label, _ = file.split(\"/\")\n",
    "    y = id_to_index.get(class_label)\n",
    "    break"
   ]
  },
  {
   "cell_type": "code",
   "execution_count": 44,
   "id": "bb219e4d-98c5-4f82-a527-f1f426788f0f",
   "metadata": {},
   "outputs": [
    {
     "data": {
      "text/plain": [
       "'feather boa, boa'"
      ]
     },
     "execution_count": 44,
     "metadata": {},
     "output_type": "execute_result"
    }
   ],
   "source": [
    "IMAGENET2012_CLASSES[class_label]"
   ]
  },
  {
   "cell_type": "code",
   "execution_count": 46,
   "id": "bb9d83b5-da61-4a40-b527-7c30b9bbe6d5",
   "metadata": {},
   "outputs": [
    {
     "data": {
      "text/plain": [
       "552"
      ]
     },
     "execution_count": 46,
     "metadata": {},
     "output_type": "execute_result"
    }
   ],
   "source": [
    "y"
   ]
  },
  {
   "cell_type": "code",
   "execution_count": 47,
   "id": "9c47a1cf-0e83-48d2-ba32-48e2efc6924d",
   "metadata": {},
   "outputs": [],
   "source": [
    "from datasets import load_dataset"
   ]
  },
  {
   "cell_type": "code",
   "execution_count": 48,
   "id": "eceac4df-01ef-4d4d-8352-a5b79a080886",
   "metadata": {},
   "outputs": [
    {
     "name": "stderr",
     "output_type": "stream",
     "text": [
      "/home/dgj335/.local/lib/python3.10/site-packages/datasets/load.py:1486: FutureWarning: The repository for imagenet-1k contains custom code which must be executed to correctly load the dataset. You can inspect the repository content at https://hf.co/datasets/imagenet-1k\n",
      "You can avoid this message in future by passing the argument `trust_remote_code=True`.\n",
      "Passing `trust_remote_code=True` will be mandatory to load this dataset from the next major release of `datasets`.\n",
      "  warnings.warn(\n"
     ]
    },
    {
     "data": {
      "application/vnd.jupyter.widget-view+json": {
       "model_id": "40891c57dcff43d3bceb22e2ea0564c8",
       "version_major": 2,
       "version_minor": 0
      },
      "text/plain": [
       "Loading dataset shards:   0%|          | 0/257 [00:00<?, ?it/s]"
      ]
     },
     "metadata": {},
     "output_type": "display_data"
    },
    {
     "data": {
      "application/vnd.jupyter.widget-view+json": {
       "model_id": "b9f6139f53264d2e994303f0dd8de506",
       "version_major": 2,
       "version_minor": 0
      },
      "text/plain": [
       "Loading dataset shards:   0%|          | 0/25 [00:00<?, ?it/s]"
      ]
     },
     "metadata": {},
     "output_type": "display_data"
    }
   ],
   "source": [
    "ds = load_dataset(\"imagenet-1k\")"
   ]
  },
  {
   "cell_type": "code",
   "execution_count": 52,
   "id": "6bd0029d-4ace-4160-9922-3863978c8474",
   "metadata": {},
   "outputs": [],
   "source": [
    "class_labels = ds['train'].features['label']"
   ]
  },
  {
   "cell_type": "code",
   "execution_count": 53,
   "id": "d05c0a28-5acb-4b9e-b6e3-99add5c11345",
   "metadata": {},
   "outputs": [
    {
     "data": {
      "text/plain": [
       "'feather boa, boa'"
      ]
     },
     "execution_count": 53,
     "metadata": {},
     "output_type": "execute_result"
    }
   ],
   "source": [
    "class_labels.int2str(552)"
   ]
  }
 ],
 "metadata": {
  "kernelspec": {
   "display_name": "Python 3 (ipykernel)",
   "language": "python",
   "name": "python3"
  },
  "language_info": {
   "codemirror_mode": {
    "name": "ipython",
    "version": 3
   },
   "file_extension": ".py",
   "mimetype": "text/x-python",
   "name": "python",
   "nbconvert_exporter": "python",
   "pygments_lexer": "ipython3",
   "version": "3.10.12"
  }
 },
 "nbformat": 4,
 "nbformat_minor": 5
}
