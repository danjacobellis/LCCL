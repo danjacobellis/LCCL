{
 "cells": [
  {
   "cell_type": "code",
   "execution_count": 1,
   "id": "d75c08ed-0a38-4a8f-9a75-8ed229f27b21",
   "metadata": {},
   "outputs": [
    {
     "name": "stdout",
     "output_type": "stream",
     "text": [
      "--2024-09-17 08:37:00--  https://datasets.cvc.uab.es/rrc/ST-VQA.tar.gz\n",
      "Resolving datasets.cvc.uab.es (datasets.cvc.uab.es)... 158.109.8.18\n",
      "Connecting to datasets.cvc.uab.es (datasets.cvc.uab.es)|158.109.8.18|:443... connected.\n",
      "WARNING: cannot verify datasets.cvc.uab.es's certificate, issued by ‘CN=GEANT OV RSA CA 4,O=GEANT Vereniging,C=NL’:\n",
      "  Unable to locally verify the issuer's authority.\n",
      "HTTP request sent, awaiting response... 200 OK\n",
      "Length: 2022947497 (1.9G) [application/x-gzip]\n",
      "Saving to: ‘ST-VQA.tar.gz’\n",
      "\n",
      "ST-VQA.tar.gz       100%[===================>]   1.88G  4.56MB/s    in 26m 51s \n",
      "\n",
      "2024-09-17 09:03:51 (1.20 MB/s) - ‘ST-VQA.tar.gz’ saved [2022947497/2022947497]\n",
      "\n"
     ]
    }
   ],
   "source": [
    "!wget -c https://datasets.cvc.uab.es/rrc/ST-VQA.tar.gz --no-check-certificate"
   ]
  },
  {
   "cell_type": "code",
   "execution_count": 3,
   "id": "3559caac-2fff-4f44-8a38-de8c38546f2c",
   "metadata": {},
   "outputs": [
    {
     "name": "stdout",
     "output_type": "stream",
     "text": [
      "--2024-09-17 09:34:43--  https://datasets.cvc.uab.es/rrc/train_task_1.json\n",
      "Resolving datasets.cvc.uab.es (datasets.cvc.uab.es)... 158.109.8.18\n",
      "Connecting to datasets.cvc.uab.es (datasets.cvc.uab.es)|158.109.8.18|:443... connected.\n",
      "WARNING: cannot verify datasets.cvc.uab.es's certificate, issued by ‘CN=GEANT OV RSA CA 4,O=GEANT Vereniging,C=NL’:\n",
      "  Unable to locally verify the issuer's authority.\n",
      "HTTP request sent, awaiting response... 200 OK\n",
      "Length: 34277742 (33M) [application/json]\n",
      "Saving to: ‘train_task_1.json’\n",
      "\n",
      "train_task_1.json   100%[===================>]  32.69M  3.45MB/s    in 19s     \n",
      "\n",
      "2024-09-17 09:35:03 (1.69 MB/s) - ‘train_task_1.json’ saved [34277742/34277742]\n",
      "\n"
     ]
    }
   ],
   "source": [
    "!wget https://datasets.cvc.uab.es/rrc/train_task_1.json --no-check-certificate"
   ]
  },
  {
   "cell_type": "code",
   "execution_count": 4,
   "id": "b9087723-d7b1-4b72-b78d-d993aea464cc",
   "metadata": {},
   "outputs": [
    {
     "name": "stdout",
     "output_type": "stream",
     "text": [
      "--2024-09-17 09:35:15--  https://datasets.cvc.uab.es/rrc/train_task_2.json\n",
      "Resolving datasets.cvc.uab.es (datasets.cvc.uab.es)... 158.109.8.18\n",
      "Connecting to datasets.cvc.uab.es (datasets.cvc.uab.es)|158.109.8.18|:443... connected.\n",
      "WARNING: cannot verify datasets.cvc.uab.es's certificate, issued by ‘CN=GEANT OV RSA CA 4,O=GEANT Vereniging,C=NL’:\n",
      "  Unable to locally verify the issuer's authority.\n",
      "HTTP request sent, awaiting response... 200 OK\n",
      "Length: 9824677 (9.4M) [application/json]\n",
      "Saving to: ‘train_task_2.json’\n",
      "\n",
      "train_task_2.json   100%[===================>]   9.37M  1.70MB/s    in 12s     \n",
      "\n",
      "2024-09-17 09:35:28 (788 KB/s) - ‘train_task_2.json’ saved [9824677/9824677]\n",
      "\n"
     ]
    }
   ],
   "source": [
    "!wget https://datasets.cvc.uab.es/rrc/train_task_2.json --no-check-certificate"
   ]
  },
  {
   "cell_type": "code",
   "execution_count": 5,
   "id": "398b79d4-08ea-4bf7-a541-cf266934c2f4",
   "metadata": {},
   "outputs": [
    {
     "name": "stdout",
     "output_type": "stream",
     "text": [
      "--2024-09-17 09:35:30--  https://datasets.cvc.uab.es/rrc/train_task_3.json\n",
      "Resolving datasets.cvc.uab.es (datasets.cvc.uab.es)... 158.109.8.18\n",
      "Connecting to datasets.cvc.uab.es (datasets.cvc.uab.es)|158.109.8.18|:443... connected.\n",
      "WARNING: cannot verify datasets.cvc.uab.es's certificate, issued by ‘CN=GEANT OV RSA CA 4,O=GEANT Vereniging,C=NL’:\n",
      "  Unable to locally verify the issuer's authority.\n",
      "HTTP request sent, awaiting response... 200 OK\n",
      "Length: 9531717 (9.1M) [application/json]\n",
      "Saving to: ‘train_task_3.json’\n",
      "\n",
      "train_task_3.json   100%[===================>]   9.09M  1.29MB/s    in 14s     \n",
      "\n",
      "2024-09-17 09:35:44 (680 KB/s) - ‘train_task_3.json’ saved [9531717/9531717]\n",
      "\n"
     ]
    }
   ],
   "source": [
    "!wget https://datasets.cvc.uab.es/rrc/train_task_3.json --no-check-certificate"
   ]
  },
  {
   "cell_type": "code",
   "execution_count": 6,
   "id": "4a9cf45b-a0d4-4a93-899e-e015d355c791",
   "metadata": {},
   "outputs": [
    {
     "name": "stdout",
     "output_type": "stream",
     "text": [
      "--2024-09-17 09:35:47--  https://datasets.cvc.uab.es/rrc/test_task1_imgs.tar.gz\n",
      "Resolving datasets.cvc.uab.es (datasets.cvc.uab.es)... 158.109.8.18\n",
      "Connecting to datasets.cvc.uab.es (datasets.cvc.uab.es)|158.109.8.18|:443... connected.\n",
      "WARNING: cannot verify datasets.cvc.uab.es's certificate, issued by ‘CN=GEANT OV RSA CA 4,O=GEANT Vereniging,C=NL’:\n",
      "  Unable to locally verify the issuer's authority.\n",
      "HTTP request sent, awaiting response... 200 OK\n",
      "Length: 327826791 (313M) [application/x-gzip]\n",
      "Saving to: ‘test_task1_imgs.tar.gz’\n",
      "\n",
      "test_task1_imgs.tar 100%[===================>] 312.64M   870KB/s    in 3m 57s  \n",
      "\n",
      "2024-09-17 09:39:45 (1.32 MB/s) - ‘test_task1_imgs.tar.gz’ saved [327826791/327826791]\n",
      "\n"
     ]
    }
   ],
   "source": [
    "!wget -c https://datasets.cvc.uab.es/rrc/test_task1_imgs.tar.gz --no-check-certificate"
   ]
  },
  {
   "cell_type": "code",
   "execution_count": 7,
   "id": "e0bb49db-61d8-46ab-99b6-b55677c31f0b",
   "metadata": {},
   "outputs": [
    {
     "name": "stdout",
     "output_type": "stream",
     "text": [
      "--2024-09-17 09:44:21--  https://datasets.cvc.uab.es/rrc/test_task2_imgs.tar.gz\n",
      "Resolving datasets.cvc.uab.es (datasets.cvc.uab.es)... 158.109.8.18\n",
      "Connecting to datasets.cvc.uab.es (datasets.cvc.uab.es)|158.109.8.18|:443... connected.\n",
      "WARNING: cannot verify datasets.cvc.uab.es's certificate, issued by ‘CN=GEANT OV RSA CA 4,O=GEANT Vereniging,C=NL’:\n",
      "  Unable to locally verify the issuer's authority.\n",
      "HTTP request sent, awaiting response... 200 OK\n",
      "Length: 327962719 (313M) [application/x-gzip]\n",
      "Saving to: ‘test_task2_imgs.tar.gz’\n",
      "\n",
      "test_task2_imgs.tar 100%[===================>] 312.77M  6.27MB/s    in 77s     \n",
      "\n",
      "2024-09-17 09:45:38 (4.08 MB/s) - ‘test_task2_imgs.tar.gz’ saved [327962719/327962719]\n",
      "\n"
     ]
    }
   ],
   "source": [
    "!wget -c https://datasets.cvc.uab.es/rrc/test_task2_imgs.tar.gz --no-check-certificate"
   ]
  },
  {
   "cell_type": "code",
   "execution_count": 8,
   "id": "cd74dc0f-e3cd-481f-bb4c-90e0adc336e6",
   "metadata": {},
   "outputs": [
    {
     "name": "stdout",
     "output_type": "stream",
     "text": [
      "--2024-09-17 09:46:10--  https://datasets.cvc.uab.es/rrc/test_task3_imgs.tar.gz\n",
      "Resolving datasets.cvc.uab.es (datasets.cvc.uab.es)... 158.109.8.18\n",
      "Connecting to datasets.cvc.uab.es (datasets.cvc.uab.es)|158.109.8.18|:443... connected.\n",
      "WARNING: cannot verify datasets.cvc.uab.es's certificate, issued by ‘CN=GEANT OV RSA CA 4,O=GEANT Vereniging,C=NL’:\n",
      "  Unable to locally verify the issuer's authority.\n",
      "HTTP request sent, awaiting response... 200 OK\n",
      "Length: 324401443 (309M) [application/x-gzip]\n",
      "Saving to: ‘test_task3_imgs.tar.gz’\n",
      "\n",
      "test_task3_imgs.tar 100%[===================>] 309.37M  4.10MB/s    in 80s     \n",
      "\n",
      "2024-09-17 09:47:31 (3.85 MB/s) - ‘test_task3_imgs.tar.gz’ saved [324401443/324401443]\n",
      "\n"
     ]
    }
   ],
   "source": [
    "!wget -c https://datasets.cvc.uab.es/rrc/test_task3_imgs.tar.gz --no-check-certificate"
   ]
  },
  {
   "cell_type": "code",
   "execution_count": 9,
   "id": "11dfd07f-b568-4c3c-8b4a-5b686aa5f867",
   "metadata": {},
   "outputs": [
    {
     "name": "stdout",
     "output_type": "stream",
     "text": [
      "--2024-09-17 09:49:24--  https://datasets.cvc.uab.es/rrc/test_task_1.json\n",
      "Resolving datasets.cvc.uab.es (datasets.cvc.uab.es)... 158.109.8.18\n",
      "Connecting to datasets.cvc.uab.es (datasets.cvc.uab.es)|158.109.8.18|:443... connected.\n",
      "WARNING: cannot verify datasets.cvc.uab.es's certificate, issued by ‘CN=GEANT OV RSA CA 4,O=GEANT Vereniging,C=NL’:\n",
      "  Unable to locally verify the issuer's authority.\n",
      "HTTP request sent, awaiting response... 200 OK\n",
      "Length: 5275277 (5.0M) [application/json]\n",
      "Saving to: ‘test_task_1.json’\n",
      "\n",
      "test_task_1.json    100%[===================>]   5.03M   839KB/s    in 11s     \n",
      "\n",
      "2024-09-17 09:49:36 (483 KB/s) - ‘test_task_1.json’ saved [5275277/5275277]\n",
      "\n"
     ]
    }
   ],
   "source": [
    "!wget https://datasets.cvc.uab.es/rrc/test_task_1.json --no-check-certificate"
   ]
  },
  {
   "cell_type": "markdown",
   "id": "bac78d6c-b00b-4238-9323-0b15a22c362a",
   "metadata": {},
   "source": [
    "---"
   ]
  },
  {
   "cell_type": "code",
   "execution_count": null,
   "id": "baae57ea-848f-4974-94b3-649d96b578b3",
   "metadata": {},
   "outputs": [],
   "source": [
    "!mkdir task1 && tar -xzf test_task1_imgs.tar.gz -C task1"
   ]
  },
  {
   "cell_type": "code",
   "execution_count": null,
   "id": "89c6e9c8-2aa4-4e28-a315-952e94a1c3da",
   "metadata": {},
   "outputs": [],
   "source": [
    "!mkdir task2 && tar -xzf test_task2_imgs.tar.gz -C task2"
   ]
  },
  {
   "cell_type": "code",
   "execution_count": null,
   "id": "fe42a732-1f9d-44d1-b68d-55b80905e873",
   "metadata": {},
   "outputs": [],
   "source": [
    "!mkdir task3 && tar -xzf test_task3_imgs.tar.gz -C task3"
   ]
  },
  {
   "cell_type": "code",
   "execution_count": 15,
   "id": "5d555461-8af1-4aeb-aee5-f2142191fcb2",
   "metadata": {},
   "outputs": [],
   "source": [
    "import json"
   ]
  },
  {
   "cell_type": "code",
   "execution_count": 16,
   "id": "1e10692a-0543-4513-a0b5-e5c8c79cbf84",
   "metadata": {},
   "outputs": [],
   "source": [
    "with open('test_task_1.json', 'r') as f:\n",
    "    data = json.load(f)"
   ]
  },
  {
   "cell_type": "code",
   "execution_count": 23,
   "id": "2bbc054b-cdec-4167-a517-8ef65d44b224",
   "metadata": {},
   "outputs": [
    {
     "data": {
      "text/plain": [
       "{'set_name': 'test',\n",
       " 'dictionary': ['much',\n",
       "  'image',\n",
       "  'political',\n",
       "  '3',\n",
       "  'season',\n",
       "  'large',\n",
       "  'great',\n",
       "  'house',\n",
       "  'racing',\n",
       "  'driver',\n",
       "  'battle',\n",
       "  'four',\n",
       "  'ret',\n",
       "  'germany',\n",
       "  'still',\n",
       "  'tank',\n",
       "  'national',\n",
       "  'began',\n",
       "  'back',\n",
       "  'championship',\n",
       "  'soviet',\n",
       "  'school',\n",
       "  'now',\n",
       "  'event',\n",
       "  'book',\n",
       "  'use',\n",
       "  'area',\n",
       "  'von',\n",
       "  'king',\n",
       "  'around',\n",
       "  'french',\n",
       "  'system',\n",
       "  'took',\n",
       "  'schiller',\n",
       "  'film',\n",
       "  'march',\n",
       "  'long',\n",
       "  'last',\n",
       "  'varreorc',\n",
       "  'number',\n",
       "  'samoa',\n",
       "  'british',\n",
       "  'line',\n",
       "  'france',\n",
       "  'john',\n",
       "  'power',\n",
       "  'moscow',\n",
       "  'afr',\n",
       "  'order',\n",
       "  'university',\n",
       "  'place',\n",
       "  'country',\n",
       "  'several',\n",
       "  'left',\n",
       "  'group',\n",
       "  'form',\n",
       "  'car',\n",
       "  'result',\n",
       "  'military',\n",
       "  'people',\n",
       "  'high',\n",
       "  'led',\n",
       "  'will',\n",
       "  'even',\n",
       "  'since',\n",
       "  'force',\n",
       "  'family',\n",
       "  'life',\n",
       "  'member',\n",
       "  'like',\n",
       "  'general',\n",
       "  'party',\n",
       "  'series',\n",
       "  'cote',\n",
       "  'united',\n",
       "  'hartford',\n",
       "  'following',\n",
       "  '0',\n",
       "  'another',\n",
       "  'although',\n",
       "  'point',\n",
       "  'american',\n",
       "  'often',\n",
       "  'north',\n",
       "  'international',\n",
       "  'death',\n",
       "  'ctn',\n",
       "  'army',\n",
       "  'service',\n",
       "  'formula',\n",
       "  'won',\n",
       "  'roman',\n",
       "  'grand',\n",
       "  'major',\n",
       "  'right',\n",
       "  'athens',\n",
       "  'south',\n",
       "  'prix',\n",
       "  'end',\n",
       "  'miksik'],\n",
       " 'file_name': '2346109.jpg',\n",
       " 'question': 'What is printed on the top line of the hoodie?',\n",
       " 'image_width': 500,\n",
       " 'dataset': 'VisualGenome/1',\n",
       " 'question_tokens': ['What',\n",
       "  'is',\n",
       "  'printed',\n",
       "  'on',\n",
       "  'the',\n",
       "  'top',\n",
       "  'line',\n",
       "  'of',\n",
       "  'the',\n",
       "  'hoodie',\n",
       "  '?'],\n",
       " 'image_height': 329,\n",
       " 'file_path': 'VisualGenome/1/2346109.jpg',\n",
       " 'question_id': 3}"
      ]
     },
     "execution_count": 23,
     "metadata": {},
     "output_type": "execute_result"
    }
   ],
   "source": [
    "data['data'][0]"
   ]
  }
 ],
 "metadata": {
  "kernelspec": {
   "display_name": "Python 3 (ipykernel)",
   "language": "python",
   "name": "python3"
  },
  "language_info": {
   "codemirror_mode": {
    "name": "ipython",
    "version": 3
   },
   "file_extension": ".py",
   "mimetype": "text/x-python",
   "name": "python",
   "nbconvert_exporter": "python",
   "pygments_lexer": "ipython3",
   "version": "3.10.12"
  }
 },
 "nbformat": 4,
 "nbformat_minor": 5
}
