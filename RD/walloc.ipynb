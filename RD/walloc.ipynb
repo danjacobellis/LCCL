{
 "cells": [
  {
   "cell_type": "code",
   "execution_count": null,
   "id": "fb3be548-2f74-488e-a783-20097670ba25",
   "metadata": {},
   "outputs": [],
   "source": [
    "!wget https://hf.co/danjacobellis/walloc/resolve/main/RGB_Li_27c_J3_nf4_v1.0.2.pth"
   ]
  },
  {
   "cell_type": "code",
   "execution_count": 1,
   "id": "6d7db02c-516f-4ddd-ba4a-31b7dcc18526",
   "metadata": {},
   "outputs": [],
   "source": [
    "import io\n",
    "import time\n",
    "import torch\n",
    "import numpy as np\n",
    "import PIL\n",
    "from torchvision.transforms import ToPILImage, PILToTensor\n",
    "from datasets import load_dataset, Image\n",
    "from walloc import walloc\n",
    "from piq import LPIPS, DISTS, psnr, multi_scale_ssim\n",
    "\n",
    "class Config: pass"
   ]
  },
  {
   "cell_type": "code",
   "execution_count": 2,
   "id": "389e035a-effe-4599-807b-96c213e5a634",
   "metadata": {},
   "outputs": [],
   "source": [
    "checkpoint = torch.load(\"RGB_Li_27c_J3_nf4_v1.0.2.pth\",map_location=\"cpu\",weights_only=False)\n",
    "codec_config = checkpoint['config']\n",
    "codec = walloc.Codec2D(\n",
    "    channels = codec_config.channels,\n",
    "    J = codec_config.J,\n",
    "    Ne = codec_config.Ne,\n",
    "    Nd = codec_config.Nd,\n",
    "    latent_dim = codec_config.latent_dim,\n",
    "    latent_bits = codec_config.latent_bits,\n",
    "    lightweight_encode = codec_config.lightweight_encode\n",
    ")\n",
    "codec.load_state_dict(checkpoint['model_state_dict'])\n",
    "codec.eval();"
   ]
  },
  {
   "cell_type": "code",
   "execution_count": 3,
   "id": "cfc6e03e-ffcc-443f-be69-f6f75ba737e6",
   "metadata": {},
   "outputs": [
    {
     "name": "stderr",
     "output_type": "stream",
     "text": [
      "/home/dgj335/.local/lib/python3.10/site-packages/torchvision/models/_utils.py:208: UserWarning: The parameter 'pretrained' is deprecated since 0.13 and may be removed in the future, please use 'weights' instead.\n",
      "  warnings.warn(\n",
      "/home/dgj335/.local/lib/python3.10/site-packages/torchvision/models/_utils.py:223: UserWarning: Arguments other than a weight enum or `None` for 'weights' are deprecated since 0.13 and may be removed in the future. The current behavior is equivalent to passing `weights=VGG16_Weights.IMAGENET1K_V1`. You can also use `weights=VGG16_Weights.DEFAULT` to get the most up-to-date weights.\n",
      "  warnings.warn(msg)\n"
     ]
    }
   ],
   "source": [
    "lpips_loss = LPIPS().to(\"cuda\")\n",
    "dists_loss = DISTS().to(\"cuda\")"
   ]
  },
  {
   "cell_type": "code",
   "execution_count": 4,
   "id": "f156141c-9fed-4893-a143-02abbe802822",
   "metadata": {},
   "outputs": [
    {
     "data": {
      "application/vnd.jupyter.widget-view+json": {
       "model_id": "dfdf04d9a06f4f1fae93ea21195f6ba1",
       "version_major": 2,
       "version_minor": 0
      },
      "text/plain": [
       "Resolving data files:   0%|          | 0/195 [00:00<?, ?it/s]"
      ]
     },
     "metadata": {},
     "output_type": "display_data"
    },
    {
     "data": {
      "application/vnd.jupyter.widget-view+json": {
       "model_id": "149c4325711a4d3f98d4de5b1a3aa730",
       "version_major": 2,
       "version_minor": 0
      },
      "text/plain": [
       "Resolving data files:   0%|          | 0/195 [00:00<?, ?it/s]"
      ]
     },
     "metadata": {},
     "output_type": "display_data"
    }
   ],
   "source": [
    "dataset = load_dataset(\"danjacobellis/LSDIR\", split='validation')"
   ]
  },
  {
   "cell_type": "code",
   "execution_count": 5,
   "id": "b911f5f0-aff8-4352-b93f-489b4e18c3b2",
   "metadata": {},
   "outputs": [],
   "source": [
    "def walloc_compress(sample):\n",
    "    with torch.no_grad():\n",
    "        img = sample['image']\n",
    "        x = PILToTensor()(img).to(torch.float)\n",
    "        x = (x/255 - 0.5).unsqueeze(0).to(device)\n",
    "        H, W = x.size(2), x.size(3)\n",
    "        x_padded = walloc.pad(x,p=8)\n",
    "\n",
    "        t0 = time.time()\n",
    "        X = codec.wavelet_analysis(x_padded,codec.J)\n",
    "        Y = codec.encoder(X)\n",
    "        webp = walloc.latent_to_pil(Y.to(\"cpu\"),codec.latent_bits, 3)[0]\n",
    "        buff = io.BytesIO()\n",
    "        webp.save(buff, format='WEBP', lossless=True)\n",
    "        webp_bytes = buff.getbuffer()\n",
    "        encode_time = time.time() - t0\n",
    "\n",
    "        t0 = time.time()\n",
    "        Y = walloc.pil_to_latent([PIL.Image.open(buff)], codec.latent_dim, codec.latent_bits, 3).to(device)\n",
    "        X_hat = codec.decoder(Y)\n",
    "        x_hat = codec.wavelet_synthesis(X_hat,codec.J)\n",
    "        x_hat = codec.clamp(x_hat)\n",
    "        decode_time = time.time() - t0\n",
    "        \n",
    "        x_hat = walloc.crop(x_hat, (H,W))\n",
    "        rec = ToPILImage()(x_hat[0] + 0.5)\n",
    "        buff2 = io.BytesIO()\n",
    "        rec.save(buff2, format='WEBP', lossless=True)\n",
    "        rec_webp_bytes = buff2.getbuffer()\n",
    "\n",
    "        bpp = 8*len(webp_bytes)/(H*W)\n",
    "        PSNR = psnr(x+0.5,x_hat+0.5)\n",
    "        MSSIM = multi_scale_ssim(x+0.5,x_hat+0.5)\n",
    "        LPIPS_dB = -10*np.log10(lpips_loss(x.to(\"cuda\")+0.5, x_hat.to(\"cuda\")+0.5).item())\n",
    "        DISTS_dB = -10*np.log10(dists_loss(x.to(\"cuda\")+0.5, x_hat.to(\"cuda\")+0.5).item())        \n",
    "        \n",
    "    return {\n",
    "        'recovered': rec_webp_bytes,\n",
    "        'compressed': webp_bytes,\n",
    "        'encode_time': encode_time,\n",
    "        'decode_time': decode_time,\n",
    "        'bpp': bpp,\n",
    "        'PSNR': PSNR,\n",
    "        'MSSIM': MSSIM,\n",
    "        'LPIPS_dB': LPIPS_dB,\n",
    "        'DISTS_dB': DISTS_dB,\n",
    "    }"
   ]
  },
  {
   "cell_type": "code",
   "execution_count": 11,
   "id": "07a4d392-f9b7-4d92-b656-a33ecffdf2d9",
   "metadata": {},
   "outputs": [
    {
     "data": {
      "application/vnd.jupyter.widget-view+json": {
       "model_id": "cde22e2826384263a4780faeeed904c2",
       "version_major": 2,
       "version_minor": 0
      },
      "text/plain": [
       "Map:   0%|          | 0/2 [00:00<?, ? examples/s]"
      ]
     },
     "metadata": {},
     "output_type": "display_data"
    }
   ],
   "source": [
    "device = \"cuda\"\n",
    "codec = codec.to(device)\n",
    "walloc_ds = dataset.select(range(2)).map(walloc_compress)\n",
    "walloc_ds = walloc_ds.cast_column('recovered',Image())\n",
    "walloc_ds = walloc_ds.cast_column('compressed',Image())"
   ]
  },
  {
   "cell_type": "code",
   "execution_count": 12,
   "id": "8ed7b5ec-3124-470f-86b4-359c2389e9e6",
   "metadata": {},
   "outputs": [],
   "source": [
    "def walloc_compress_cpu(sample):\n",
    "    with torch.no_grad():\n",
    "        img = sample['image']\n",
    "        x = PILToTensor()(img).to(torch.float)\n",
    "        x = (x/255 - 0.5).unsqueeze(0).to(device)\n",
    "        H, W = x.size(2), x.size(3)\n",
    "        x_padded = walloc.pad(x,p=8)\n",
    "\n",
    "        t0 = time.time()\n",
    "        X = codec.wavelet_analysis(x_padded,codec.J)\n",
    "        Y = codec.encoder(X)\n",
    "        webp = walloc.latent_to_pil(Y.to(\"cpu\"),codec.latent_bits, 3)[0]\n",
    "        buff = io.BytesIO()\n",
    "        webp.save(buff, format='WEBP', lossless=True)\n",
    "        webp_bytes = buff.getbuffer()\n",
    "        encode_time = time.time() - t0\n",
    "\n",
    "        t0 = time.time()\n",
    "        Y = walloc.pil_to_latent([PIL.Image.open(buff)], codec.latent_dim, codec.latent_bits, 3).to(device)\n",
    "        X_hat = codec.decoder(Y)\n",
    "        x_hat = codec.wavelet_synthesis(X_hat,codec.J)\n",
    "        x_hat = codec.clamp(x_hat)\n",
    "        decode_time = time.time() - t0\n",
    "                \n",
    "    return {\n",
    "        'cpu_encode_time': encode_time,\n",
    "        'cpu_decode_time': decode_time,\n",
    "    }"
   ]
  },
  {
   "cell_type": "code",
   "execution_count": 13,
   "id": "c5ddb0a9-70c7-46c4-b8bd-83aa7eb73268",
   "metadata": {},
   "outputs": [],
   "source": [
    "device = \"cpu\"\n",
    "codec = codec.to(device)\n",
    "walloc_cpu = dataset.select(range(2)).map(walloc_compress_cpu)"
   ]
  },
  {
   "cell_type": "code",
   "execution_count": 14,
   "id": "b9537134-7bf5-4e75-aeb9-2c750cf42b2c",
   "metadata": {},
   "outputs": [],
   "source": [
    "walloc_ds = walloc_ds.add_column('cpu_encode_time',walloc_cpu['cpu_encode_time'])\n",
    "walloc_ds = walloc_ds.add_column('cpu_decode_time',walloc_cpu['cpu_decode_time'])"
   ]
  },
  {
   "cell_type": "code",
   "execution_count": 15,
   "id": "e920caa3-bcac-4c03-a137-1e2a85f5aaf4",
   "metadata": {},
   "outputs": [
    {
     "data": {
      "text/plain": [
       "{'path': 'LSDIR_val/val1/HR/val/0000130.png',\n",
       " 'image': <PIL.PngImagePlugin.PngImageFile image mode=RGB size=1152x768>,\n",
       " 'w': 1152,\n",
       " 'h': 768,\n",
       " 'mode': 'RGB',\n",
       " 'aspect': 1.5,\n",
       " 'n_pixels': 884736,\n",
       " 'recovered': <PIL.WebPImagePlugin.WebPImageFile image mode=RGB size=1152x768>,\n",
       " 'compressed': <PIL.WebPImagePlugin.WebPImageFile image mode=RGB size=432x288>,\n",
       " 'encode_time': 0.08014345169067383,\n",
       " 'decode_time': 0.006960868835449219,\n",
       " 'bpp': 1.1057038483796295,\n",
       " 'PSNR': 31.71041488647461,\n",
       " 'MSSIM': 0.9848196506500244,\n",
       " 'LPIPS_dB': 8.433589351193366,\n",
       " 'DISTS_dB': 15.761822997039431,\n",
       " 'cpu_encode_time': 0.1143491268157959,\n",
       " 'cpu_decode_time': 0.3262336254119873}"
      ]
     },
     "execution_count": 15,
     "metadata": {},
     "output_type": "execute_result"
    }
   ],
   "source": [
    "walloc_ds[1]"
   ]
  },
  {
   "cell_type": "code",
   "execution_count": 20,
   "id": "c60182da-b204-47d1-836a-a890abd2fa1b",
   "metadata": {},
   "outputs": [
    {
     "data": {
      "text/plain": [
       "24.0"
      ]
     },
     "execution_count": 20,
     "metadata": {},
     "output_type": "execute_result"
    }
   ],
   "source": [
    "8*8*3*8/(4*16)"
   ]
  }
 ],
 "metadata": {
  "kernelspec": {
   "display_name": "Python 3 (ipykernel)",
   "language": "python",
   "name": "python3"
  },
  "language_info": {
   "codemirror_mode": {
    "name": "ipython",
    "version": 3
   },
   "file_extension": ".py",
   "mimetype": "text/x-python",
   "name": "python",
   "nbconvert_exporter": "python",
   "pygments_lexer": "ipython3",
   "version": "3.10.12"
  }
 },
 "nbformat": 4,
 "nbformat_minor": 5
}
