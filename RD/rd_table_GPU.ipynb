{
 "cells": [
  {
   "cell_type": "code",
   "execution_count": 1,
   "id": "47453076-df61-49cf-a4a4-092bb71b2fd1",
   "metadata": {},
   "outputs": [],
   "source": [
    "from IPython.display import Markdown, Latex\n",
    "from datasets import load_dataset\n",
    "import numpy as np\n",
    "import pandas as pd"
   ]
  },
  {
   "cell_type": "code",
   "execution_count": 2,
   "id": "5ac7b900-5c22-40c8-bc71-f08f366acdae",
   "metadata": {},
   "outputs": [],
   "source": [
    "methods = [\n",
    "    # \"danjacobellis/LSDIR_WEBP_q20\",\n",
    "    # \"danjacobellis/LSDIR_DGML_q6\",\n",
    "    \"danjacobellis/LSDIR_RGB_Li_48c_J3_nf8\",\n",
    "    \"danjacobellis/LSDIR_stable_diffusion_3_fp16\",\n",
    "    \"danjacobellis/LSDIR_RGB_Li_12c_J3_nf8\",\n",
    "]\n",
    "\n",
    "dimensionality_reduction = [\n",
    "    # 1,\n",
    "    # 4,\n",
    "    4,\n",
    "    12,\n",
    "    16,\n",
    "]\n",
    "\n",
    "names = [\n",
    "    # 'WEBP',\n",
    "    'Cheng2020',\n",
    "    'WaLLoC',\n",
    "    'Stable Diffusion 3',\n",
    "    'WaLLoC',\n",
    "]\n",
    "\n",
    "metrics = [\n",
    "    'PSNR',\n",
    "    'MSSIM',\n",
    "    'LPIPS_dB',\n",
    "    'DISTS_dB',\n",
    "]\n",
    "\n",
    "columns = [\n",
    "    'Name',\n",
    "    'Dimensionality Reduction',\n",
    "    'Compression Ratio',\n",
    "    'Encode (CPU)',\n",
    "    'Decode (CPU)',\n",
    "    'Encode (GPU)',\n",
    "    'Decode (GPU)',\n",
    "] + metrics"
   ]
  },
  {
   "cell_type": "code",
   "execution_count": 3,
   "id": "17273f0d-a1e7-42f4-b395-89ce55bce35f",
   "metadata": {},
   "outputs": [
    {
     "data": {
      "text/markdown": [
       "| Name               |   Dimensionality Reduction |   Compression Ratio |   Encode (CPU) |   Decode (CPU) |   Encode (GPU) |   Decode (GPU) |    PSNR |   MSSIM |   LPIPS_dB |   DISTS_dB |\n",
       "|:-------------------|---------------------------:|--------------------:|---------------:|---------------:|---------------:|---------------:|--------:|--------:|-----------:|-----------:|\n",
       "| Cheng2020          |                          4 |              8.5313 |        13.9753 |         0.47   |        18.7225 |        130.437 | 33.5474 |  0.9902 |    11.2465 |    19.2875 |\n",
       "| WaLLoC             |                         12 |              6      |         0.1949 |         0.1013 |         6.9705 |        332.164 | 20.8806 |  0.8399 |     8.3253 |    13.8466 |\n",
       "| Stable Diffusion 3 |                         16 |             35.1925 |        22.0586 |         0.4657 |        36.3303 |        211.692 | 27.4524 |  0.97   |     6.5131 |    13.8514 |"
      ],
      "text/plain": [
       "<IPython.core.display.Markdown object>"
      ]
     },
     "metadata": {},
     "output_type": "display_data"
    }
   ],
   "source": [
    "data_rows = []\n",
    "for i_method, method in enumerate(methods):\n",
    "    ds = load_dataset(method, split='validation')\n",
    "    row = [names[i_method], dimensionality_reduction[i_method]]\n",
    "    compression_ratio = 24 / np.mean(ds['bpp'])\n",
    "    encode_MP_per_second = np.mean(np.array(ds['n_pixels'])/np.array(ds['cpu_encode_time'])/1e6)\n",
    "    decode_MP_per_second = np.mean(np.array(ds['n_pixels'])/np.array(ds['cpu_decode_time'])/1e6)\n",
    "    encode_MP_per_second_GPU = np.mean(np.array(ds['n_pixels'])/np.array(ds['encode_time'])/1e6)\n",
    "    decode_MP_per_second_GPU = np.mean(np.array(ds['n_pixels'])/np.array(ds['decode_time'])/1e6)\n",
    "    row.append(compression_ratio)\n",
    "    row.append(encode_MP_per_second)\n",
    "    row.append(decode_MP_per_second)\n",
    "    row.append(encode_MP_per_second_GPU)\n",
    "    row.append(decode_MP_per_second_GPU)\n",
    "    for metric in metrics:\n",
    "        mean = np.mean(ds[metric])\n",
    "        row.append(mean)\n",
    "    data_rows.append(row)\n",
    "\n",
    "df = pd.DataFrame(data_rows, columns=columns)\n",
    "\n",
    "df_rounded = df.round(4)\n",
    "md_table = df_rounded.to_markdown(index=False)\n",
    "display(Markdown(md_table))"
   ]
  }
 ],
 "metadata": {
  "kernelspec": {
   "display_name": "Python 3 (ipykernel)",
   "language": "python",
   "name": "python3"
  },
  "language_info": {
   "codemirror_mode": {
    "name": "ipython",
    "version": 3
   },
   "file_extension": ".py",
   "mimetype": "text/x-python",
   "name": "python",
   "nbconvert_exporter": "python",
   "pygments_lexer": "ipython3",
   "version": "3.10.12"
  }
 },
 "nbformat": 4,
 "nbformat_minor": 5
}
