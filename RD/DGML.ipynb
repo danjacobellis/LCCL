{
 "cells": [
  {
   "cell_type": "code",
   "execution_count": 1,
   "id": "e70dce77-b5a5-442f-a455-a55ebd75234a",
   "metadata": {},
   "outputs": [],
   "source": [
    "import io\n",
    "import time\n",
    "import torch\n",
    "import numpy as np\n",
    "import PIL\n",
    "from torchvision.transforms import ToPILImage, PILToTensor\n",
    "from datasets import load_dataset, Image\n",
    "from walloc import walloc\n",
    "from compressai.zoo import cheng2020_anchor\n",
    "from piq import LPIPS, DISTS, psnr, multi_scale_ssim\n",
    "\n",
    "class Config: pass"
   ]
  },
  {
   "cell_type": "code",
   "execution_count": 2,
   "id": "e8eb70a3-daee-40c4-9fae-d68da0031def",
   "metadata": {},
   "outputs": [],
   "source": [
    "codec = cheng2020_anchor(quality=6, metric='mse', pretrained=True)\n",
    "codec.eval();"
   ]
  },
  {
   "cell_type": "code",
   "execution_count": 3,
   "id": "1ace4e3e-568d-4fe1-8d18-b24876cf2394",
   "metadata": {},
   "outputs": [
    {
     "name": "stderr",
     "output_type": "stream",
     "text": [
      "/home/dgj335/.local/lib/python3.10/site-packages/torchvision/models/_utils.py:208: UserWarning: The parameter 'pretrained' is deprecated since 0.13 and may be removed in the future, please use 'weights' instead.\n",
      "  warnings.warn(\n",
      "/home/dgj335/.local/lib/python3.10/site-packages/torchvision/models/_utils.py:223: UserWarning: Arguments other than a weight enum or `None` for 'weights' are deprecated since 0.13 and may be removed in the future. The current behavior is equivalent to passing `weights=VGG16_Weights.IMAGENET1K_V1`. You can also use `weights=VGG16_Weights.DEFAULT` to get the most up-to-date weights.\n",
      "  warnings.warn(msg)\n"
     ]
    }
   ],
   "source": [
    "lpips_loss = LPIPS().to(\"cuda\")\n",
    "dists_loss = DISTS().to(\"cuda\")"
   ]
  },
  {
   "cell_type": "code",
   "execution_count": 4,
   "id": "abe9a266-09f9-4bf2-97a1-9c66d3a1220f",
   "metadata": {},
   "outputs": [
    {
     "data": {
      "application/vnd.jupyter.widget-view+json": {
       "model_id": "15f5611e6e3242efa8898a4b77d31a3f",
       "version_major": 2,
       "version_minor": 0
      },
      "text/plain": [
       "Resolving data files:   0%|          | 0/195 [00:00<?, ?it/s]"
      ]
     },
     "metadata": {},
     "output_type": "display_data"
    },
    {
     "data": {
      "application/vnd.jupyter.widget-view+json": {
       "model_id": "996e7ffa3caf4b9682fb862ecdf54fa6",
       "version_major": 2,
       "version_minor": 0
      },
      "text/plain": [
       "Resolving data files:   0%|          | 0/195 [00:00<?, ?it/s]"
      ]
     },
     "metadata": {},
     "output_type": "display_data"
    }
   ],
   "source": [
    "dataset = load_dataset(\"danjacobellis/LSDIR\", split='validation')"
   ]
  },
  {
   "cell_type": "code",
   "execution_count": 7,
   "id": "167b3bea-6287-4933-8972-6bbffcf4ec98",
   "metadata": {},
   "outputs": [],
   "source": [
    "def DGML_compress(sample):\n",
    "    with torch.no_grad():\n",
    "        img = sample['image']\n",
    "        x = PILToTensor()(img).to(torch.float)\n",
    "        x = (x/255).unsqueeze(0).to(device)\n",
    "        H, W = x.size(2), x.size(3)\n",
    "        x_padded = walloc.pad(x,p=64)\n",
    "    \n",
    "        t0 = time.time()\n",
    "        Y = codec.compress(x_padded)\n",
    "        encode_time = time.time() - t0\n",
    "    \n",
    "        t0 = time.time()\n",
    "        x_hat = codec.decompress(Y['strings'],Y['shape'])['x_hat']\n",
    "        x_hat = x_hat.clamp(0,1)\n",
    "        decode_time = time.time() - t0\n",
    "        \n",
    "        x_hat = walloc.crop(x_hat, (H,W))\n",
    "        rec = ToPILImage()(x_hat[0])\n",
    "        buff2 = io.BytesIO()\n",
    "        rec.save(buff2, format='png', lossless=True)\n",
    "        rec_png_bytes = buff2.getbuffer()\n",
    "    \n",
    "        bpp = 8*sum([sum(len(ss) for ss in s) for s in Y['strings']]) / (H*W)\n",
    "        PSNR = psnr(x,x_hat)\n",
    "        MSSIM = multi_scale_ssim(x,x_hat)\n",
    "        LPIPS_dB = -10*np.log10(lpips_loss(x.to(\"cuda\"), x_hat.to(\"cuda\")).item())\n",
    "        DISTS_dB = -10*np.log10(dists_loss(x.to(\"cuda\"), x_hat.to(\"cuda\")).item())        \n",
    "        \n",
    "        return {\n",
    "            'recovered': rec_png_bytes,\n",
    "            'encode_time': encode_time,\n",
    "            'decode_time': decode_time,\n",
    "            'bpp': bpp,\n",
    "            'PSNR': PSNR,\n",
    "            'MSSIM': MSSIM,\n",
    "            'LPIPS_dB': LPIPS_dB,\n",
    "            'DISTS_dB': DISTS_dB,\n",
    "        }"
   ]
  },
  {
   "cell_type": "code",
   "execution_count": null,
   "id": "fe2c068c-741b-43de-80da-cc9fd767bb4a",
   "metadata": {},
   "outputs": [
    {
     "data": {
      "application/vnd.jupyter.widget-view+json": {
       "model_id": "0e337a7de4f34b6292038ee388827830",
       "version_major": 2,
       "version_minor": 0
      },
      "text/plain": [
       "Map:   0%|          | 0/250 [00:00<?, ? examples/s]"
      ]
     },
     "metadata": {},
     "output_type": "display_data"
    },
    {
     "name": "stderr",
     "output_type": "stream",
     "text": [
      "/tmp/ipykernel_929725/2003570415.py:10: UserWarning: Inference on GPU is not recommended for the autoregressive models (the entropy coder is run sequentially on CPU).\n",
      "  Y = codec.compress(x_padded)\n",
      "/tmp/ipykernel_929725/2003570415.py:14: UserWarning: Inference on GPU is not recommended for the autoregressive models (the entropy coder is run sequentially on CPU).\n",
      "  x_hat = codec.decompress(Y['strings'],Y['shape'])['x_hat']\n",
      "/home/dgj335/.local/lib/python3.10/site-packages/torch/nn/modules/conv.py:456: UserWarning: Plan failed with a cudnnException: CUDNN_BACKEND_EXECUTION_PLAN_DESCRIPTOR: cudnnFinalize Descriptor Failed cudnn_status: CUDNN_STATUS_NOT_SUPPORTED (Triggered internally at ../aten/src/ATen/native/cudnn/Conv_v8.cpp:919.)\n",
      "  return F.conv2d(input, weight, bias, self.stride,\n"
     ]
    }
   ],
   "source": [
    "device = \"cuda\"\n",
    "codec = codec.to(device)\n",
    "DGML_ds = dataset.map(DGML_compress)\n",
    "DGML_ds = DGML_ds.cast_column('recovered',Image())\n",
    "DGML_ds = DGML_ds.cast_column('compressed',Image())"
   ]
  },
  {
   "cell_type": "code",
   "execution_count": null,
   "id": "d2bf612e-8688-4d20-a429-85140747b11e",
   "metadata": {},
   "outputs": [],
   "source": [
    "def DGML_compress_cpu(sample):\n",
    "    with torch.no_grad():\n",
    "        img = sample['image']\n",
    "        x = PILToTensor()(img).to(torch.float)\n",
    "        x = (x/255).unsqueeze(0).to(device)\n",
    "        H, W = x.size(2), x.size(3)\n",
    "        x_padded = walloc.pad(x,p=64)\n",
    "    \n",
    "        t0 = time.time()\n",
    "        Y = codec.compress(x_padded)\n",
    "        encode_time = time.time() - t0\n",
    "    \n",
    "        t0 = time.time()\n",
    "        x_hat = codec.decompress(Y['strings'],Y['shape'])['x_hat']\n",
    "        x_hat = x_hat.clamp(0,1)\n",
    "        decode_time = time.time() - t0\n",
    "        \n",
    "    return {\n",
    "        'cpu_encode_time': encode_time,\n",
    "        'cpu_decode_time': decode_time,\n",
    "    }"
   ]
  },
  {
   "cell_type": "code",
   "execution_count": null,
   "id": "3c471988-5753-4daf-865a-d74b5968d7cf",
   "metadata": {},
   "outputs": [],
   "source": [
    "device = \"cpu\"\n",
    "codec = codec.to(device)\n",
    "DGML_cpu = dataset.map(DGML_compress_cpu)"
   ]
  },
  {
   "cell_type": "code",
   "execution_count": null,
   "id": "c56f76b4-64bb-4f29-93a5-015557de7211",
   "metadata": {},
   "outputs": [],
   "source": [
    "DGML_ds = DGML_ds.add_column('cpu_encode_time',DGML_cpu['cpu_encode_time'])\n",
    "DGML_ds = DGML_ds.add_column('cpu_decode_time',DGML_cpu['cpu_decode_time'])"
   ]
  },
  {
   "cell_type": "code",
   "execution_count": null,
   "id": "8d66f304-a2ab-4bed-bbe5-9928e2667fe6",
   "metadata": {},
   "outputs": [],
   "source": [
    "DGML_ds.push_to_hub(\"danjacobellis/DGML_q6\",split='validation')"
   ]
  },
  {
   "cell_type": "code",
   "execution_count": null,
   "id": "69c199aa-27d7-4e54-9fc1-c17e6ce9b2e1",
   "metadata": {},
   "outputs": [],
   "source": []
  }
 ],
 "metadata": {
  "kernelspec": {
   "display_name": "Python 3 (ipykernel)",
   "language": "python",
   "name": "python3"
  },
  "language_info": {
   "codemirror_mode": {
    "name": "ipython",
    "version": 3
   },
   "file_extension": ".py",
   "mimetype": "text/x-python",
   "name": "python",
   "nbconvert_exporter": "python",
   "pygments_lexer": "ipython3",
   "version": "3.10.12"
  }
 },
 "nbformat": 4,
 "nbformat_minor": 5
}
