{
 "cells": [
  {
   "cell_type": "code",
   "execution_count": null,
   "id": "b886bdf7-0810-455d-8337-b2730da6444f",
   "metadata": {},
   "outputs": [],
   "source": [
    "!wget https://huggingface.co/danjacobellis/LCCL/resolve/main/vss_samples_rr_18x.pth"
   ]
  },
  {
   "cell_type": "code",
   "execution_count": 1,
   "id": "b575600f-e76e-4098-8b05-86bbee490c63",
   "metadata": {},
   "outputs": [],
   "source": [
    "import io\n",
    "import torch\n",
    "import torchaudio\n",
    "import torchvision\n",
    "import numpy as np\n",
    "from datasets import load_dataset\n",
    "from walloc import walloc\n",
    "from IPython.display import display, Audio, Image, update_display, HTML\n",
    "from torchvision.transforms import ToPILImage\n",
    "from fastprogress.fastprogress import master_bar, progress_bar\n",
    "from ioae import IsotropicOobleckAutoencoder\n",
    "from spauq.core.metrics import spauq_eval\n",
    "from einops import rearrange\n",
    "import cdpam\n",
    "class Config: pass"
   ]
  },
  {
   "cell_type": "code",
   "execution_count": 2,
   "id": "c7f258bd-068c-455b-b854-631de4a5e3ff",
   "metadata": {},
   "outputs": [
    {
     "name": "stderr",
     "output_type": "stream",
     "text": [
      "/home/dgj335/.local/lib/python3.10/site-packages/cdpam/cdpam.py:45: FutureWarning: You are using `torch.load` with `weights_only=False` (the current default value), which uses the default pickle module implicitly. It is possible to construct malicious pickle data which will execute arbitrary code during unpickling (See https://github.com/pytorch/pytorch/blob/main/SECURITY.md#untrusted-models for more details). In a future release, the default value for `weights_only` will be flipped to `True`. This limits the functions that could be executed during unpickling. Arbitrary objects will no longer be allowed to be loaded via this mode unless they are explicitly allowlisted by the user via `torch.serialization.add_safe_globals`. We recommend you start setting `weights_only=True` for any use case where you don't have full control of the loaded file. Please open an issue on GitHub for any issues related to this experimental feature.\n",
      "  state = torch.load(modfolder,map_location=\"cpu\")['state']\n",
      "/home/dgj335/.local/lib/python3.10/site-packages/torch/nn/utils/weight_norm.py:134: FutureWarning: `torch.nn.utils.weight_norm` is deprecated in favor of `torch.nn.utils.parametrizations.weight_norm`.\n",
      "  WeightNorm.apply(module, name, dim)\n"
     ]
    },
    {
     "data": {
      "text/plain": [
       "6.7132"
      ]
     },
     "execution_count": 2,
     "metadata": {},
     "output_type": "execute_result"
    }
   ],
   "source": [
    "device = \"cuda\"\n",
    "\n",
    "cdpam_loss = cdpam.CDPAM()\n",
    "\n",
    "checkpoint = torch.load(\"vss_samples_rr_18x.pth\",map_location=\"cpu\",weights_only=False)\n",
    "config = checkpoint['config']\n",
    "model = IsotropicOobleckAutoencoder(\n",
    "    channels=config.channels,\n",
    "    patch_size=config.patch_size,\n",
    "    embed_dim=config.embed_dim,\n",
    "    depth=config.depth\n",
    ").to(device)\n",
    "model.load_state_dict(checkpoint['model_state_dict'])\n",
    "model.eval()\n",
    "sum(p.numel() for p in model.parameters())/1e6"
   ]
  },
  {
   "cell_type": "code",
   "execution_count": 3,
   "id": "caca760e-9293-4509-b159-e3fc78268bc6",
   "metadata": {},
   "outputs": [],
   "source": [
    "valid_dataset = load_dataset(\"danjacobellis/musdb18hq_vss\",split='validation')\n",
    "if config.rate_reduction == 1:\n",
    "    resample_down = torch.nn.Identity().to(device)\n",
    "    resample_up = torch.nn.Identity().to(device)\n",
    "else:\n",
    "    resample_down = torchaudio.transforms.Resample(\n",
    "        orig_freq=44100,\n",
    "        new_freq=44100 // config.rate_reduction\n",
    "    ).to(device)\n",
    "    resample_up = torchaudio.transforms.Resample(\n",
    "        orig_freq=44100 // config.rate_reduction,\n",
    "        new_freq=44100\n",
    "    ).to(device)"
   ]
  },
  {
   "cell_type": "code",
   "execution_count": 4,
   "id": "b4b14a6a-0d51-4c90-ac53-b9c395cdfd79",
   "metadata": {},
   "outputs": [],
   "source": [
    "def eval_vss(sample):\n",
    "    with torch.no_grad():\n",
    "        sample = valid_dataset[200]\n",
    "        xb, fs = torchaudio.load(sample['audio_mix']['bytes'])\n",
    "        vb, fs = torchaudio.load(sample['audio_vocal']['bytes'])\n",
    "        B = xb.shape[-1]//config.length_samples\n",
    "        x = torch.zeros((B,2,config.length_samples))\n",
    "        v = torch.zeros((B,2,config.length_samples))\n",
    "        for i_frame in range(B):\n",
    "            i_start = i_frame*config.length_samples\n",
    "            i_end = (i_frame+1)*config.length_samples\n",
    "            x[i_frame,:,:] = xb[:,i_start:i_end]\n",
    "            v[i_frame,:,:] = vb[:,i_start:i_end]\n",
    "        x = x.to(device)\n",
    "        v = v.to(device)\n",
    "        xc = resample_down(x)\n",
    "        pred = model(xc)\n",
    "        v_hat = resample_up(pred)\n",
    "    \n",
    "        v = rearrange(v, 'B C L -> C (B L)')/2\n",
    "        v_hat = rearrange(v_hat, 'B C L -> C (B L)')/2\n",
    "\n",
    "        PSNR = -10*np.log10(torch.nn.functional.mse_loss(v,v_hat).item())\n",
    "        SDR = spauq_eval(v.cpu(),v_hat.cpu(),fs=fs)\n",
    "        SSDR = SDR['SSR']\n",
    "        SRDR = SDR['SRR']\n",
    "        cdpam = cdpam_loss.forward(v,v_hat).mean().item()\n",
    "\n",
    "        return {\n",
    "            'PSNR': PSNR,\n",
    "            'SSDR': SSDR,\n",
    "            'SRDR': SRDR,\n",
    "            'CDPAM': cdpam\n",
    "        }"
   ]
  },
  {
   "cell_type": "code",
   "execution_count": 5,
   "id": "fab28cd9-bdc8-4d5b-8da5-98f40335fccf",
   "metadata": {},
   "outputs": [
    {
     "data": {
      "application/vnd.jupyter.widget-view+json": {
       "model_id": "d2ef60b8ba4546138294190a21120b49",
       "version_major": 2,
       "version_minor": 0
      },
      "text/plain": [
       "Map:   0%|          | 0/235 [00:00<?, ? examples/s]"
      ]
     },
     "metadata": {},
     "output_type": "display_data"
    },
    {
     "name": "stderr",
     "output_type": "stream",
     "text": [
      "/home/dgj335/.local/lib/python3.10/site-packages/spauq/core/preprocessing.py:325: UserWarning: No forgive_mode specified, defaulting to `none`\n",
      "  warnings.warn(\n"
     ]
    }
   ],
   "source": [
    "eval_results = valid_dataset.map(eval_vss)\n",
    "eval_only = eval_results.remove_columns(['audio_mix', 'audio_vocal', 'path_mix'])"
   ]
  },
  {
   "cell_type": "code",
   "execution_count": 6,
   "id": "db5193d1-2206-4aae-86cc-c29baff98573",
   "metadata": {},
   "outputs": [
    {
     "name": "stdout",
     "output_type": "stream",
     "text": [
      "31.594260337010816\n",
      "5.4661390052668875\n",
      "-0.18208525194840308\n",
      "36.60614384261533\n"
     ]
    }
   ],
   "source": [
    "print(np.median(eval_only['PSNR']))\n",
    "print(np.median(eval_only['SSDR']))\n",
    "print(np.median(eval_only['SRDR']))\n",
    "print(np.median(-10*np.log10(eval_only['CDPAM'])))"
   ]
  },
  {
   "cell_type": "code",
   "execution_count": 7,
   "id": "2e686f38-bed4-4454-b031-0a73e0aa1353",
   "metadata": {},
   "outputs": [
    {
     "name": "stdout",
     "output_type": "stream",
     "text": [
      "31.59426033701082\n",
      "5.4661390052668875\n",
      "-0.18208525194840314\n",
      "36.606143842615325\n"
     ]
    }
   ],
   "source": [
    "print(np.mean(eval_only['PSNR']))\n",
    "print(np.mean(eval_only['SSDR']))\n",
    "print(np.mean(eval_only['SRDR']))\n",
    "print(np.mean(-10*np.log10(eval_only['CDPAM'])))"
   ]
  },
  {
   "cell_type": "code",
   "execution_count": 8,
   "id": "c081cab6-3376-4646-857f-050a95c7a688",
   "metadata": {},
   "outputs": [
    {
     "data": {
      "application/vnd.jupyter.widget-view+json": {
       "model_id": "f78293d6db4f4532b71a99e184e4c577",
       "version_major": 2,
       "version_minor": 0
      },
      "text/plain": [
       "Uploading the dataset shards:   0%|          | 0/1 [00:00<?, ?it/s]"
      ]
     },
     "metadata": {},
     "output_type": "display_data"
    },
    {
     "data": {
      "application/vnd.jupyter.widget-view+json": {
       "model_id": "6379972614f94e1abeb7bb334380f33d",
       "version_major": 2,
       "version_minor": 0
      },
      "text/plain": [
       "Creating parquet from Arrow format:   0%|          | 0/1 [00:00<?, ?ba/s]"
      ]
     },
     "metadata": {},
     "output_type": "display_data"
    },
    {
     "data": {
      "text/plain": [
       "CommitInfo(commit_url='https://huggingface.co/datasets/danjacobellis/MUSDB_vss_samples_rr_18x/commit/6b381d1d062457c68a7f61e62b83b09a638771f4', commit_message='Upload dataset', commit_description='', oid='6b381d1d062457c68a7f61e62b83b09a638771f4', pr_url=None, pr_revision=None, pr_num=None)"
      ]
     },
     "execution_count": 8,
     "metadata": {},
     "output_type": "execute_result"
    }
   ],
   "source": [
    "eval_only.push_to_hub(\"danjacobellis/MUSDB_vss_samples_rr_18x\",split='validation')"
   ]
  }
 ],
 "metadata": {
  "kernelspec": {
   "display_name": "Python 3 (ipykernel)",
   "language": "python",
   "name": "python3"
  },
  "language_info": {
   "codemirror_mode": {
    "name": "ipython",
    "version": 3
   },
   "file_extension": ".py",
   "mimetype": "text/x-python",
   "name": "python",
   "nbconvert_exporter": "python",
   "pygments_lexer": "ipython3",
   "version": "3.10.12"
  }
 },
 "nbformat": 4,
 "nbformat_minor": 5
}
