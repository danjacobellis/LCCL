{
 "cells": [
  {
   "cell_type": "code",
   "execution_count": null,
   "id": "e01b8d0a-5a9f-4cb5-8376-554b04e1d49f",
   "metadata": {},
   "outputs": [],
   "source": [
    "!wget https://people.eecs.berkeley.edu/~hendrycks/imagenet-a.tar"
   ]
  },
  {
   "cell_type": "code",
   "execution_count": null,
   "id": "09dd0357-c320-4ad4-a590-7eda2d6a5276",
   "metadata": {},
   "outputs": [],
   "source": [
    "!tar -xf imagenet-a.tar"
   ]
  },
  {
   "cell_type": "code",
   "execution_count": null,
   "id": "e6a45083-8731-41cf-957a-f6a403a2e7ca",
   "metadata": {},
   "outputs": [],
   "source": [
    "!wget https://huggingface.co/datasets/ILSVRC/imagenet-1k/resolve/main/classes.py"
   ]
  },
  {
   "cell_type": "code",
   "execution_count": 1,
   "id": "331d92c9-8b5b-4942-9c8d-d84f084c7df4",
   "metadata": {},
   "outputs": [],
   "source": [
    "import io\n",
    "import PIL.Image\n",
    "from datasets import Dataset, Image, get_dataset_config_info\n",
    "from glob import glob\n",
    "from classes import IMAGENET2012_CLASSES"
   ]
  },
  {
   "cell_type": "code",
   "execution_count": 2,
   "id": "4e0a74c7-6858-42cf-b136-8361d17e73b8",
   "metadata": {},
   "outputs": [],
   "source": [
    "id_to_index = {wnid: idx for idx, wnid in enumerate(IMAGENET2012_CLASSES.keys())}\n",
    "config_info = get_dataset_config_info(\"imagenet-1k\",trust_remote_code=True)\n",
    "label_feat = config_info.features['label']"
   ]
  },
  {
   "cell_type": "code",
   "execution_count": 3,
   "id": "5e13535f-27ef-411d-85a1-f13613b2a0d6",
   "metadata": {},
   "outputs": [],
   "source": [
    "path = []\n",
    "label = []\n",
    "for file in glob(\"imagenet-a/n*/*.[jJ]*\"):\n",
    "    _, wnid, _ = file.split(\"/\")\n",
    "    label.append(id_to_index.get(wnid))\n",
    "    path.append(file)"
   ]
  },
  {
   "cell_type": "code",
   "execution_count": 4,
   "id": "8a797ede-3dd6-4471-b827-da914ce53a03",
   "metadata": {},
   "outputs": [],
   "source": [
    "def load_image(sample):\n",
    "    with open(sample['path'], 'rb') as f:\n",
    "        buff = io.BytesIO(f.read()).getbuffer()\n",
    "    return {\n",
    "        'image': buff\n",
    "    }"
   ]
  },
  {
   "cell_type": "code",
   "execution_count": 5,
   "id": "4fb8fdcc-a18c-4a4d-a7f5-ca003f34f9ce",
   "metadata": {},
   "outputs": [
    {
     "data": {
      "application/vnd.jupyter.widget-view+json": {
       "model_id": "72d86b647d894fcfaeeae4ff7039b329",
       "version_major": 2,
       "version_minor": 0
      },
      "text/plain": [
       "Casting the dataset:   0%|          | 0/7500 [00:00<?, ? examples/s]"
      ]
     },
     "metadata": {},
     "output_type": "display_data"
    },
    {
     "data": {
      "application/vnd.jupyter.widget-view+json": {
       "model_id": "7d1cec8392c44b79a6548bfda0027b52",
       "version_major": 2,
       "version_minor": 0
      },
      "text/plain": [
       "Map:   0%|          | 0/7500 [00:00<?, ? examples/s]"
      ]
     },
     "metadata": {},
     "output_type": "display_data"
    }
   ],
   "source": [
    "ds = Dataset.from_dict({\n",
    "    'path':path,\n",
    "    'label':label,\n",
    "})\n",
    "ds = ds.cast_column('label', label_feat)\n",
    "ds = ds.map(load_image)\n",
    "ds = ds.cast_column('image', Image())"
   ]
  },
  {
   "cell_type": "code",
   "execution_count": 6,
   "id": "186b68a6-0e1c-4455-89fc-6fa9210fc41d",
   "metadata": {},
   "outputs": [
    {
     "data": {
      "application/vnd.jupyter.widget-view+json": {
       "model_id": "3ab06bfdebe843498ad61cafe0a9f51e",
       "version_major": 2,
       "version_minor": 0
      },
      "text/plain": [
       "Uploading the dataset shards:   0%|          | 0/2 [00:00<?, ?it/s]"
      ]
     },
     "metadata": {},
     "output_type": "display_data"
    },
    {
     "data": {
      "application/vnd.jupyter.widget-view+json": {
       "model_id": "38477148497842138540f572fbfe504c",
       "version_major": 2,
       "version_minor": 0
      },
      "text/plain": [
       "Map:   0%|          | 0/3750 [00:00<?, ? examples/s]"
      ]
     },
     "metadata": {},
     "output_type": "display_data"
    },
    {
     "data": {
      "application/vnd.jupyter.widget-view+json": {
       "model_id": "abc3634a949d450bae79ecfe054cb8f9",
       "version_major": 2,
       "version_minor": 0
      },
      "text/plain": [
       "Creating parquet from Arrow format:   0%|          | 0/38 [00:00<?, ?ba/s]"
      ]
     },
     "metadata": {},
     "output_type": "display_data"
    },
    {
     "data": {
      "application/vnd.jupyter.widget-view+json": {
       "model_id": "bbda5006b04d4f5ab4a7004351d23cca",
       "version_major": 2,
       "version_minor": 0
      },
      "text/plain": [
       "Map:   0%|          | 0/3750 [00:00<?, ? examples/s]"
      ]
     },
     "metadata": {},
     "output_type": "display_data"
    },
    {
     "data": {
      "application/vnd.jupyter.widget-view+json": {
       "model_id": "a0d8349923204fc9a56d1d9f4e89fcf7",
       "version_major": 2,
       "version_minor": 0
      },
      "text/plain": [
       "Creating parquet from Arrow format:   0%|          | 0/38 [00:00<?, ?ba/s]"
      ]
     },
     "metadata": {},
     "output_type": "display_data"
    },
    {
     "data": {
      "text/plain": [
       "CommitInfo(commit_url='https://huggingface.co/datasets/danjacobellis/imagenet-a/commit/c6fdab0b640eb713485d95b5701a55b85d1bda88', commit_message='Upload dataset', commit_description='', oid='c6fdab0b640eb713485d95b5701a55b85d1bda88', pr_url=None, pr_revision=None, pr_num=None)"
      ]
     },
     "execution_count": 6,
     "metadata": {},
     "output_type": "execute_result"
    }
   ],
   "source": [
    "ds.push_to_hub(\"danjacobellis/imagenet-a\",split='validation')"
   ]
  }
 ],
 "metadata": {
  "kernelspec": {
   "display_name": "Python 3 (ipykernel)",
   "language": "python",
   "name": "python3"
  },
  "language_info": {
   "codemirror_mode": {
    "name": "ipython",
    "version": 3
   },
   "file_extension": ".py",
   "mimetype": "text/x-python",
   "name": "python",
   "nbconvert_exporter": "python",
   "pygments_lexer": "ipython3",
   "version": "3.10.12"
  }
 },
 "nbformat": 4,
 "nbformat_minor": 5
}
