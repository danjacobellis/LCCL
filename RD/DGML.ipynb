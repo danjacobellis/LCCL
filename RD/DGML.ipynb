{
 "cells": [
  {
   "cell_type": "code",
   "execution_count": 1,
   "id": "e70dce77-b5a5-442f-a455-a55ebd75234a",
   "metadata": {},
   "outputs": [],
   "source": [
    "import io\n",
    "import time\n",
    "import torch\n",
    "import numpy as np\n",
    "import PIL\n",
    "from torchvision.transforms import ToPILImage, PILToTensor\n",
    "from datasets import load_dataset, Image\n",
    "from walloc import walloc\n",
    "from compressai.zoo import cheng2020_anchor\n",
    "from piq import LPIPS, DISTS, psnr, multi_scale_ssim\n",
    "\n",
    "class Config: pass"
   ]
  },
  {
   "cell_type": "code",
   "execution_count": 5,
   "id": "e8eb70a3-daee-40c4-9fae-d68da0031def",
   "metadata": {},
   "outputs": [],
   "source": [
    "codec = cheng2020_anchor(quality=6, metric='mse', pretrained=True)\n",
    "codec.eval();"
   ]
  },
  {
   "cell_type": "code",
   "execution_count": 6,
   "id": "1ace4e3e-568d-4fe1-8d18-b24876cf2394",
   "metadata": {},
   "outputs": [
    {
     "name": "stderr",
     "output_type": "stream",
     "text": [
      "/home/dgj335/.local/lib/python3.10/site-packages/torchvision/models/_utils.py:208: UserWarning: The parameter 'pretrained' is deprecated since 0.13 and may be removed in the future, please use 'weights' instead.\n",
      "  warnings.warn(\n",
      "/home/dgj335/.local/lib/python3.10/site-packages/torchvision/models/_utils.py:223: UserWarning: Arguments other than a weight enum or `None` for 'weights' are deprecated since 0.13 and may be removed in the future. The current behavior is equivalent to passing `weights=VGG16_Weights.IMAGENET1K_V1`. You can also use `weights=VGG16_Weights.DEFAULT` to get the most up-to-date weights.\n",
      "  warnings.warn(msg)\n"
     ]
    }
   ],
   "source": [
    "lpips_loss = LPIPS().to(\"cuda\")\n",
    "dists_loss = DISTS().to(\"cuda\")"
   ]
  },
  {
   "cell_type": "code",
   "execution_count": 7,
   "id": "abe9a266-09f9-4bf2-97a1-9c66d3a1220f",
   "metadata": {},
   "outputs": [
    {
     "data": {
      "application/vnd.jupyter.widget-view+json": {
       "model_id": "6ffe84c6182d44719d2e419d7d35fe03",
       "version_major": 2,
       "version_minor": 0
      },
      "text/plain": [
       "Resolving data files:   0%|          | 0/195 [00:00<?, ?it/s]"
      ]
     },
     "metadata": {},
     "output_type": "display_data"
    },
    {
     "data": {
      "application/vnd.jupyter.widget-view+json": {
       "model_id": "4b7fd7251b214a32833d8b98d390136c",
       "version_major": 2,
       "version_minor": 0
      },
      "text/plain": [
       "Resolving data files:   0%|          | 0/195 [00:00<?, ?it/s]"
      ]
     },
     "metadata": {},
     "output_type": "display_data"
    }
   ],
   "source": [
    "dataset = load_dataset(\"danjacobellis/LSDIR\", split='validation')"
   ]
  },
  {
   "cell_type": "code",
   "execution_count": 61,
   "id": "167b3bea-6287-4933-8972-6bbffcf4ec98",
   "metadata": {},
   "outputs": [],
   "source": [
    "def DGML_compress(sample):\n",
    "    device = \"cuda\"\n",
    "    codec = codec.to(device)\n",
    "    sample = dataset[28]\n",
    "    with torch.no_grad():\n",
    "        img = sample['image']\n",
    "        x = PILToTensor()(img).to(torch.float)\n",
    "        x = (x/255).unsqueeze(0).to(device)\n",
    "        H, W = x.size(2), x.size(3)\n",
    "        x_padded = walloc.pad(x,p=16)\n",
    "    \n",
    "        t0 = time.time()\n",
    "        Y = codec.g_a(x_padded).round()\n",
    "        encode_time = time.time() - t0\n",
    "    \n",
    "        t0 = time.time()\n",
    "        x_hat = codec.g_s(Y)\n",
    "        x_hat = x_hat.clamp(0,1)\n",
    "        decode_time = time.time() - t0\n",
    "        \n",
    "        x_hat = walloc.crop(x_hat, (H,W))\n",
    "        rec = ToPILImage()(x_hat[0])\n",
    "        buff2 = io.BytesIO()\n",
    "        rec.save(buff2, format='png', lossless=True)\n",
    "        rec_png_bytes = buff2.getbuffer()\n",
    "    \n",
    "        bpp = 1.\n",
    "        PSNR = psnr(x,x_hat)\n",
    "        MSSIM = multi_scale_ssim(x,x_hat)\n",
    "        LPIPS_dB = -10*np.log10(lpips_loss(x.to(\"cuda\"), x_hat.to(\"cuda\")).item())\n",
    "        DISTS_dB = -10*np.log10(dists_loss(x.to(\"cuda\"), x_hat.to(\"cuda\")).item())        \n",
    "        \n",
    "        return {\n",
    "            'recovered': rec_png_bytes,\n",
    "            'encode_time': encode_time,\n",
    "            'decode_time': decode_time,\n",
    "            'bpp': bpp,\n",
    "            'PSNR': PSNR,\n",
    "            'MSSIM': MSSIM,\n",
    "            'LPIPS_dB': LPIPS_dB,\n",
    "            'DISTS_dB': DISTS_dB,\n",
    "        }"
   ]
  },
  {
   "cell_type": "code",
   "execution_count": null,
   "id": "94ca9bd5-7d2d-44a0-b8aa-b9edf3071b43",
   "metadata": {},
   "outputs": [],
   "source": []
  }
 ],
 "metadata": {
  "kernelspec": {
   "display_name": "Python 3 (ipykernel)",
   "language": "python",
   "name": "python3"
  },
  "language_info": {
   "codemirror_mode": {
    "name": "ipython",
    "version": 3
   },
   "file_extension": ".py",
   "mimetype": "text/x-python",
   "name": "python",
   "nbconvert_exporter": "python",
   "pygments_lexer": "ipython3",
   "version": "3.10.12"
  }
 },
 "nbformat": 4,
 "nbformat_minor": 5
}
