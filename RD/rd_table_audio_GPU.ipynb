{
 "cells": [
  {
   "cell_type": "code",
   "execution_count": 1,
   "id": "47453076-df61-49cf-a4a4-092bb71b2fd1",
   "metadata": {},
   "outputs": [],
   "source": [
    "from IPython.display import Markdown, Latex\n",
    "from datasets import load_dataset\n",
    "import numpy as np\n",
    "import pandas as pd"
   ]
  },
  {
   "cell_type": "code",
   "execution_count": 2,
   "id": "5ac7b900-5c22-40c8-bc71-f08f366acdae",
   "metadata": {},
   "outputs": [],
   "source": [
    "methods = [\n",
    "    # \"danjacobellis/MUSDB_opus_12kbps\",\n",
    "    \"danjacobellis/MUSDB_Stereo_Li_108c_test2\",\n",
    "    \"danjacobellis/MUSDB_encodec_12kbps\",\n",
    "    \"danjacobellis/MUSDB_Stereo_Li_27c_test2\",\n",
    "    \"danjacobellis/MUSDB_stable_audio_fp16\"\n",
    "]\n",
    "\n",
    "dimensionality_reduction = [\n",
    "    # 1,\n",
    "    512/108,\n",
    "    5,\n",
    "    512/27,\n",
    "    64,\n",
    "]\n",
    "\n",
    "names = [\n",
    "    # 'Opus',\n",
    "    'WalloC',\n",
    "    'EnCodec',\n",
    "    'WalloC',\n",
    "    'Stable Audio',\n",
    "]\n",
    "\n",
    "metrics = [\n",
    "    'PSNR',\n",
    "    'SSDR',\n",
    "    'SRDR',\n",
    "]\n",
    "\n",
    "columns = [\n",
    "    'Name',\n",
    "    'Dimensionality Reduction',\n",
    "    'Compression Ratio',\n",
    "    'Encode (CPU)',\n",
    "    'Decode (CPU)',\n",
    "    'Encode (GPU)',\n",
    "    'Decode (GPU)',\n",
    "] + metrics + ['CDPAM']"
   ]
  },
  {
   "cell_type": "code",
   "execution_count": 3,
   "id": "17273f0d-a1e7-42f4-b395-89ce55bce35f",
   "metadata": {},
   "outputs": [
    {
     "data": {
      "application/vnd.jupyter.widget-view+json": {
       "model_id": "cb6525b974dd4c8ea35322105c082b4d",
       "version_major": 2,
       "version_minor": 0
      },
      "text/plain": [
       "Resolving data files:   0%|          | 0/23 [00:00<?, ?it/s]"
      ]
     },
     "metadata": {},
     "output_type": "display_data"
    },
    {
     "data": {
      "application/vnd.jupyter.widget-view+json": {
       "model_id": "e44a9fb67e944e398f81e31ab323ffde",
       "version_major": 2,
       "version_minor": 0
      },
      "text/plain": [
       "Resolving data files:   0%|          | 0/23 [00:00<?, ?it/s]"
      ]
     },
     "metadata": {},
     "output_type": "display_data"
    },
    {
     "data": {
      "application/vnd.jupyter.widget-view+json": {
       "model_id": "f94781fa46fa486588f254a8206aad27",
       "version_major": 2,
       "version_minor": 0
      },
      "text/plain": [
       "Resolving data files:   0%|          | 0/23 [00:00<?, ?it/s]"
      ]
     },
     "metadata": {},
     "output_type": "display_data"
    },
    {
     "data": {
      "application/vnd.jupyter.widget-view+json": {
       "model_id": "76ac29a0e3b146dc9f90c3a0e54b1772",
       "version_major": 2,
       "version_minor": 0
      },
      "text/plain": [
       "Resolving data files:   0%|          | 0/23 [00:00<?, ?it/s]"
      ]
     },
     "metadata": {},
     "output_type": "display_data"
    },
    {
     "data": {
      "application/vnd.jupyter.widget-view+json": {
       "model_id": "1bee3764c3164d3fb1128c21dd1e59f4",
       "version_major": 2,
       "version_minor": 0
      },
      "text/plain": [
       "Resolving data files:   0%|          | 0/23 [00:00<?, ?it/s]"
      ]
     },
     "metadata": {},
     "output_type": "display_data"
    },
    {
     "data": {
      "application/vnd.jupyter.widget-view+json": {
       "model_id": "2661ebb354a747c492c5835375de80c9",
       "version_major": 2,
       "version_minor": 0
      },
      "text/plain": [
       "Resolving data files:   0%|          | 0/23 [00:00<?, ?it/s]"
      ]
     },
     "metadata": {},
     "output_type": "display_data"
    },
    {
     "data": {
      "application/vnd.jupyter.widget-view+json": {
       "model_id": "4b2fcf3b7c9e4506a55092e81dae96b4",
       "version_major": 2,
       "version_minor": 0
      },
      "text/plain": [
       "Resolving data files:   0%|          | 0/23 [00:00<?, ?it/s]"
      ]
     },
     "metadata": {},
     "output_type": "display_data"
    },
    {
     "data": {
      "application/vnd.jupyter.widget-view+json": {
       "model_id": "e63f7c4e380a4adb855261259a1226cb",
       "version_major": 2,
       "version_minor": 0
      },
      "text/plain": [
       "Resolving data files:   0%|          | 0/23 [00:00<?, ?it/s]"
      ]
     },
     "metadata": {},
     "output_type": "display_data"
    },
    {
     "data": {
      "text/markdown": [
       "| Name         |   Dimensionality Reduction |   Compression Ratio |   Encode (CPU) |   Decode (CPU) |   Encode (GPU) |   Decode (GPU) |    PSNR |    SSDR |    SRDR |   CDPAM |\n",
       "|:-------------|---------------------------:|--------------------:|---------------:|---------------:|---------------:|---------------:|--------:|--------:|--------:|--------:|\n",
       "| WalloC       |                     4.7407 |             21.3065 |        77.7947 |        11.1713 |       161.422  |       654.311  | 39.0242 | 33.2625 | 13.8961 | 41.0717 |\n",
       "| EnCodec      |                     5      |            114.131  |         2.7511 |         3.0337 |        10.6584 |        12.4735 | 31.9516 | 22.6949 |  6.6919 | 47.3817 |\n",
       "| WalloC       |                    18.963  |             76.2823 |       121.26   |        12.1872 |       385.775  |      1055.48   | 33.3161 | 22.523  |  8.061  | 36.641  |\n",
       "| Stable Audio |                    64      |             64      |         0.3084 |         0.2998 |        24.7086 |      1667.82   | 28.4155 | 15.7432 |  2.0318 | 49.7486 |"
      ],
      "text/plain": [
       "<IPython.core.display.Markdown object>"
      ]
     },
     "metadata": {},
     "output_type": "display_data"
    }
   ],
   "source": [
    "data_rows = []\n",
    "\n",
    "for i_method, method in enumerate(methods):\n",
    "    ds = load_dataset(method, split='validation')\n",
    "    row = [names[i_method], dimensionality_reduction[i_method]]\n",
    "    bps_mean = np.mean(ds['bps'])\n",
    "    compression_ratio = 16 / bps_mean\n",
    "    encode_MS_per_second = 2*np.mean(np.array(ds['L'])/np.array(ds['cpu_encode_time'])/1e6)\n",
    "    decode_MS_per_second = 2*np.mean(np.array(ds['L'])/np.array(ds['cpu_decode_time'])/1e6)\n",
    "    encode_MS_per_second_GPU = 2*np.mean(np.array(ds['L'])/np.array(ds['encode_time'])/1e6)\n",
    "    decode_MS_per_second_GPU = 2*np.mean(np.array(ds['L'])/np.array(ds['decode_time'])/1e6)\n",
    "    row.append(compression_ratio)\n",
    "    row.append(encode_MS_per_second)\n",
    "    row.append(decode_MS_per_second)\n",
    "    row.append(encode_MS_per_second_GPU)\n",
    "    row.append(decode_MS_per_second_GPU)\n",
    "    for metric in metrics:\n",
    "        mean = np.mean(ds[metric])\n",
    "        row.append(mean)\n",
    "    CDPAM_dB = np.median(-10*np.log10(ds['CDPAM']))\n",
    "    row.append(CDPAM_dB)\n",
    "    data_rows.append(row)\n",
    "\n",
    "df = pd.DataFrame(data_rows, columns=columns)\n",
    "\n",
    "df_rounded = df.round(4)\n",
    "md_table = df_rounded.to_markdown(index=False)\n",
    "display(Markdown(md_table))"
   ]
  }
 ],
 "metadata": {
  "kernelspec": {
   "display_name": "Python 3 (ipykernel)",
   "language": "python",
   "name": "python3"
  },
  "language_info": {
   "codemirror_mode": {
    "name": "ipython",
    "version": 3
   },
   "file_extension": ".py",
   "mimetype": "text/x-python",
   "name": "python",
   "nbconvert_exporter": "python",
   "pygments_lexer": "ipython3",
   "version": "3.10.12"
  }
 },
 "nbformat": 4,
 "nbformat_minor": 5
}
