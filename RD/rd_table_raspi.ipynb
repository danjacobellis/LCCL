{
 "cells": [
  {
   "cell_type": "code",
   "execution_count": 1,
   "id": "47453076-df61-49cf-a4a4-092bb71b2fd1",
   "metadata": {},
   "outputs": [],
   "source": [
    "from IPython.display import Markdown, Latex\n",
    "from datasets import load_dataset\n",
    "import numpy as np\n",
    "import pandas as pd"
   ]
  },
  {
   "cell_type": "code",
   "execution_count": 2,
   "id": "5ac7b900-5c22-40c8-bc71-f08f366acdae",
   "metadata": {},
   "outputs": [],
   "source": [
    "methods = [\n",
    "    \"danjacobellis/LSDIR_walloc_4x_raspi\",\n",
    "    \"danjacobellis/LSDIR_walloc_16x_raspi\",\n",
    "]\n",
    "\n",
    "names = [\n",
    "    'WaLLoC (4x)',\n",
    "    'WaLLoC (16x)',\n",
    "]\n",
    "\n",
    "metrics = []\n",
    "\n",
    "columns = [\n",
    "    'Name',\n",
    "    'Encode (CPU)',\n",
    "    'Decode (CPU)',\n",
    "] + metrics"
   ]
  },
  {
   "cell_type": "code",
   "execution_count": 3,
   "id": "17273f0d-a1e7-42f4-b395-89ce55bce35f",
   "metadata": {},
   "outputs": [
    {
     "data": {
      "text/markdown": [
       "| Name         |   Encode (CPU) |   Decode (CPU) |\n",
       "|:-------------|---------------:|---------------:|\n",
       "| WaLLoC (4x)  |         0.826  |         0.0321 |\n",
       "| WaLLoC (16x) |         1.0085 |         0.0314 |"
      ],
      "text/plain": [
       "<IPython.core.display.Markdown object>"
      ]
     },
     "metadata": {},
     "output_type": "display_data"
    }
   ],
   "source": [
    "data_rows = []\n",
    "for i_method, method in enumerate(methods):\n",
    "    ds = load_dataset(method, split='validation')\n",
    "    row = [names[i_method]]\n",
    "    encode_MP_per_second = np.mean(np.array(ds['n_pixels'])/np.array(ds['encode_time'])/1e6)\n",
    "    decode_MP_per_second = np.mean(np.array(ds['n_pixels'])/np.array(ds['decode_time'])/1e6)\n",
    "    row.append(encode_MP_per_second)\n",
    "    row.append(decode_MP_per_second)\n",
    "    for metric in metrics:\n",
    "        mean = np.mean(ds[metric])\n",
    "        row.append(mean)\n",
    "    data_rows.append(row)\n",
    "\n",
    "df = pd.DataFrame(data_rows, columns=columns)\n",
    "\n",
    "df_rounded = df.round(4)\n",
    "md_table = df_rounded.to_markdown(index=False)\n",
    "display(Markdown(md_table))"
   ]
  }
 ],
 "metadata": {
  "kernelspec": {
   "display_name": "Python 3 (ipykernel)",
   "language": "python",
   "name": "python3"
  },
  "language_info": {
   "codemirror_mode": {
    "name": "ipython",
    "version": 3
   },
   "file_extension": ".py",
   "mimetype": "text/x-python",
   "name": "python",
   "nbconvert_exporter": "python",
   "pygments_lexer": "ipython3",
   "version": "3.12.3"
  }
 },
 "nbformat": 4,
 "nbformat_minor": 5
}
