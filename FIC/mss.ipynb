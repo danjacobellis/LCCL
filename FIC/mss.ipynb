{
 "cells": [
  {
   "cell_type": "code",
   "execution_count": null,
   "id": "4a45ef59-817d-424a-a9cf-53304f704e5d",
   "metadata": {},
   "outputs": [],
   "source": [
    "!wget https://hf.co/danjacobellis/walloc/resolve/main/Stereo_Li_192c_J8_nf8_v1.0.2.pth"
   ]
  },
  {
   "cell_type": "code",
   "execution_count": null,
   "id": "6e5369da-f14e-4091-967e-cedc7a7ccaa0",
   "metadata": {},
   "outputs": [],
   "source": [
    "!python3 -m pip install -U git+https://github.com/facebookresearch/demucs#egg=demucs"
   ]
  },
  {
   "cell_type": "code",
   "execution_count": 11,
   "id": "448d5158-5bfa-4f21-8651-f9e0234b8f38",
   "metadata": {},
   "outputs": [],
   "source": [
    "import torch\n",
    "import numpy as np\n",
    "import torchaudio\n",
    "import tempfile\n",
    "from demucs.separate import Separator\n",
    "from IPython.display import Audio\n",
    "from datasets import load_dataset\n",
    "from walloc import walloc\n",
    "from spauq.core.metrics import spauq_eval\n",
    "class Config: pass"
   ]
  },
  {
   "cell_type": "code",
   "execution_count": 3,
   "id": "518cefc3-ab2a-4b08-aeae-d5e449e3bba5",
   "metadata": {},
   "outputs": [
    {
     "name": "stderr",
     "output_type": "stream",
     "text": [
      "/home/dgj335/.local/lib/python3.10/site-packages/torch/nn/utils/weight_norm.py:134: FutureWarning: `torch.nn.utils.weight_norm` is deprecated in favor of `torch.nn.utils.parametrizations.weight_norm`.\n",
      "  WeightNorm.apply(module, name, dim)\n"
     ]
    }
   ],
   "source": [
    "device = \"cuda\"\n",
    "checkpoint = torch.load(\"Stereo_Li_192c_J8_nf8_v1.0.2.pth\",map_location=\"cpu\",weights_only=False)\n",
    "codec_config = checkpoint['config']\n",
    "codec = walloc.Codec1D(\n",
    "    channels = codec_config.channels,\n",
    "    J = codec_config.J,\n",
    "    Ne = codec_config.Ne,\n",
    "    Nd = codec_config.Nd,\n",
    "    latent_dim = codec_config.latent_dim,\n",
    "    latent_bits = codec_config.latent_bits,\n",
    "    lightweight_encode = codec_config.lightweight_encode,\n",
    "    post_filter = codec_config.post_filter\n",
    ").to(device)\n",
    "codec.load_state_dict(checkpoint['model_state_dict'])\n",
    "codec.eval();"
   ]
  },
  {
   "cell_type": "code",
   "execution_count": 4,
   "id": "068d2dae-0633-4689-9a26-d1df46532b0f",
   "metadata": {},
   "outputs": [
    {
     "data": {
      "application/vnd.jupyter.widget-view+json": {
       "model_id": "adc08a98d60943659c2c8d1bc6424bba",
       "version_major": 2,
       "version_minor": 0
      },
      "text/plain": [
       "Resolving data files:   0%|          | 0/41 [00:00<?, ?it/s]"
      ]
     },
     "metadata": {},
     "output_type": "display_data"
    },
    {
     "data": {
      "application/vnd.jupyter.widget-view+json": {
       "model_id": "67cdac8cd7844c1bbda46b8e01563b5f",
       "version_major": 2,
       "version_minor": 0
      },
      "text/plain": [
       "Resolving data files:   0%|          | 0/22 [00:00<?, ?it/s]"
      ]
     },
     "metadata": {},
     "output_type": "display_data"
    },
    {
     "data": {
      "application/vnd.jupyter.widget-view+json": {
       "model_id": "651394f0d62d44718031aea88faf1747",
       "version_major": 2,
       "version_minor": 0
      },
      "text/plain": [
       "Resolving data files:   0%|          | 0/41 [00:00<?, ?it/s]"
      ]
     },
     "metadata": {},
     "output_type": "display_data"
    },
    {
     "data": {
      "application/vnd.jupyter.widget-view+json": {
       "model_id": "4a5a924f3e624d2e98aa1bc1f08d46b1",
       "version_major": 2,
       "version_minor": 0
      },
      "text/plain": [
       "Resolving data files:   0%|          | 0/22 [00:00<?, ?it/s]"
      ]
     },
     "metadata": {},
     "output_type": "display_data"
    }
   ],
   "source": [
    "MUSDB = load_dataset(\"danjacobellis/musdb18HQ\", split='validation')"
   ]
  },
  {
   "cell_type": "code",
   "execution_count": 7,
   "id": "263cece1-6297-43e2-93a8-b3209723c080",
   "metadata": {},
   "outputs": [],
   "source": [
    "sources = ['other', 'drums', 'bass', 'vocals']\n",
    "separator = Separator()"
   ]
  },
  {
   "cell_type": "code",
   "execution_count": 8,
   "id": "927b458d-dd37-4fa5-8650-8b665033e898",
   "metadata": {},
   "outputs": [],
   "source": [
    "def pad(audio, p=2**16):\n",
    "    B,C,L = audio.shape\n",
    "    padding_size = (p - (L % p)) % p\n",
    "    if padding_size > 0:\n",
    "        audio = torch.nn.functional.pad(audio, (0, padding_size), mode='constant', value=0)\n",
    "    return audio"
   ]
  },
  {
   "cell_type": "code",
   "execution_count": 31,
   "id": "af12eefe-0925-4458-9577-760f3fa10d5e",
   "metadata": {},
   "outputs": [
    {
     "name": "stderr",
     "output_type": "stream",
     "text": [
      "/home/dgj335/.local/lib/python3.10/site-packages/spauq/core/preprocessing.py:325: UserWarning: No forgive_mode specified, defaulting to `none`\n",
      "  warnings.warn(\n"
     ]
    }
   ],
   "source": [
    "max_duration=44100*180\n",
    "with torch.no_grad():\n",
    "    for i_sample in range(0, len(MUSDB), 5):\n",
    "        y = []\n",
    "        for i_instr in range(5):\n",
    "            sample = MUSDB[i_sample+i_instr]\n",
    "            instr = sample['instrument']\n",
    "            x, fs = torchaudio.load(sample['audio']['bytes'])\n",
    "            x = x[:,:max_duration]\n",
    "            L = x.shape[-1]\n",
    "            x_padded = pad(x.unsqueeze(0), 2**16).to(device)\n",
    "            if i_instr == 0:\n",
    "                pred = separator.separate_tensor(x_padded[0])\n",
    "            else:\n",
    "                SDR = spauq_eval(\n",
    "                    reference=x_padded[0].to(\"cpu\"),\n",
    "                    estimate=pred[1][instr].to(\"cpu\"),\n",
    "                    fs = fs\n",
    "                )\n",
    "                break\n",
    "        break"
   ]
  },
  {
   "cell_type": "code",
   "execution_count": 32,
   "id": "6acc574b-4f36-4c32-b11a-03bdbcb79a96",
   "metadata": {},
   "outputs": [
    {
     "data": {
      "text/plain": [
       "{'SSR': 12.12786068375291, 'SRR': 5.170535327707984}"
      ]
     },
     "execution_count": 32,
     "metadata": {},
     "output_type": "execute_result"
    }
   ],
   "source": [
    "SDR"
   ]
  }
 ],
 "metadata": {
  "kernelspec": {
   "display_name": "Python 3 (ipykernel)",
   "language": "python",
   "name": "python3"
  },
  "language_info": {
   "codemirror_mode": {
    "name": "ipython",
    "version": 3
   },
   "file_extension": ".py",
   "mimetype": "text/x-python",
   "name": "python",
   "nbconvert_exporter": "python",
   "pygments_lexer": "ipython3",
   "version": "3.10.12"
  }
 },
 "nbformat": 4,
 "nbformat_minor": 5
}
