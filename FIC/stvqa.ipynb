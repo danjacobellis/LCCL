{
 "cells": [
  {
   "cell_type": "code",
   "execution_count": null,
   "id": "baae57ea-848f-4974-94b3-649d96b578b3",
   "metadata": {},
   "outputs": [],
   "source": [
    "!mkdir task1 && tar -xzf test_task1_imgs.tar.gz -C task1"
   ]
  },
  {
   "cell_type": "code",
   "execution_count": null,
   "id": "89c6e9c8-2aa4-4e28-a315-952e94a1c3da",
   "metadata": {},
   "outputs": [],
   "source": [
    "!mkdir task2 && tar -xzf test_task2_imgs.tar.gz -C task2"
   ]
  },
  {
   "cell_type": "code",
   "execution_count": null,
   "id": "fe42a732-1f9d-44d1-b68d-55b80905e873",
   "metadata": {},
   "outputs": [],
   "source": [
    "!mkdir task3 && tar -xzf test_task3_imgs.tar.gz -C task3"
   ]
  },
  {
   "cell_type": "code",
   "execution_count": null,
   "id": "5d555461-8af1-4aeb-aee5-f2142191fcb2",
   "metadata": {},
   "outputs": [],
   "source": []
  }
 ],
 "metadata": {
  "kernelspec": {
   "display_name": "Python 3 (ipykernel)",
   "language": "python",
   "name": "python3"
  },
  "language_info": {
   "codemirror_mode": {
    "name": "ipython",
    "version": 3
   },
   "file_extension": ".py",
   "mimetype": "text/x-python",
   "name": "python",
   "nbconvert_exporter": "python",
   "pygments_lexer": "ipython3",
   "version": "3.10.12"
  }
 },
 "nbformat": 4,
 "nbformat_minor": 5
}
