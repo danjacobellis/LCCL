{
 "cells": [
  {
   "cell_type": "code",
   "execution_count": null,
   "id": "d75c08ed-0a38-4a8f-9a75-8ed229f27b21",
   "metadata": {},
   "outputs": [],
   "source": [
    "!wget -c https://datasets.cvc.uab.es/rrc/ST-VQA.tar.gz --no-check-certificate"
   ]
  },
  {
   "cell_type": "code",
   "execution_count": null,
   "id": "3559caac-2fff-4f44-8a38-de8c38546f2c",
   "metadata": {},
   "outputs": [],
   "source": [
    "!wget https://datasets.cvc.uab.es/rrc/train_task_1.json --no-check-certificate"
   ]
  },
  {
   "cell_type": "code",
   "execution_count": null,
   "id": "b9087723-d7b1-4b72-b78d-d993aea464cc",
   "metadata": {},
   "outputs": [],
   "source": [
    "!wget https://datasets.cvc.uab.es/rrc/train_task_2.json --no-check-certificate"
   ]
  },
  {
   "cell_type": "code",
   "execution_count": null,
   "id": "398b79d4-08ea-4bf7-a541-cf266934c2f4",
   "metadata": {},
   "outputs": [],
   "source": [
    "!wget https://datasets.cvc.uab.es/rrc/train_task_3.json --no-check-certificate"
   ]
  },
  {
   "cell_type": "code",
   "execution_count": null,
   "id": "4a9cf45b-a0d4-4a93-899e-e015d355c791",
   "metadata": {},
   "outputs": [],
   "source": [
    "!wget -c https://datasets.cvc.uab.es/rrc/test_task1_imgs.tar.gz --no-check-certificate"
   ]
  },
  {
   "cell_type": "code",
   "execution_count": null,
   "id": "e0bb49db-61d8-46ab-99b6-b55677c31f0b",
   "metadata": {},
   "outputs": [],
   "source": [
    "!wget -c https://datasets.cvc.uab.es/rrc/test_task2_imgs.tar.gz --no-check-certificate"
   ]
  },
  {
   "cell_type": "code",
   "execution_count": null,
   "id": "cd74dc0f-e3cd-481f-bb4c-90e0adc336e6",
   "metadata": {},
   "outputs": [],
   "source": [
    "!wget -c https://datasets.cvc.uab.es/rrc/test_task3_imgs.tar.gz --no-check-certificate"
   ]
  },
  {
   "cell_type": "code",
   "execution_count": null,
   "id": "11dfd07f-b568-4c3c-8b4a-5b686aa5f867",
   "metadata": {},
   "outputs": [],
   "source": [
    "!wget https://datasets.cvc.uab.es/rrc/test_task_1.json --no-check-certificate"
   ]
  },
  {
   "cell_type": "code",
   "execution_count": null,
   "id": "e0b1e62c-db6a-4225-b4a6-6be74ea0243b",
   "metadata": {},
   "outputs": [],
   "source": [
    "!wget https://datasets.cvc.uab.es/rrc/test_task_2.json --no-check-certificate"
   ]
  },
  {
   "cell_type": "code",
   "execution_count": null,
   "id": "058027eb-c29a-41c0-86ce-3f61963af9cc",
   "metadata": {},
   "outputs": [],
   "source": [
    "!wget https://datasets.cvc.uab.es/rrc/test_task_3.json --no-check-certificate"
   ]
  },
  {
   "cell_type": "code",
   "execution_count": null,
   "id": "e7c5ee65-bf01-4cb7-844d-1b2e07164cd0",
   "metadata": {},
   "outputs": [],
   "source": [
    "!mkdir ST-VQA && tar -xzf ST-VQA.tar.gz -C ST-VQA"
   ]
  },
  {
   "cell_type": "code",
   "execution_count": null,
   "id": "baae57ea-848f-4974-94b3-649d96b578b3",
   "metadata": {},
   "outputs": [],
   "source": [
    "!mkdir test_task1_imgs && tar -xzf test_task1_imgs.tar.gz -C test_task1_imgs"
   ]
  },
  {
   "cell_type": "code",
   "execution_count": null,
   "id": "89c6e9c8-2aa4-4e28-a315-952e94a1c3da",
   "metadata": {},
   "outputs": [],
   "source": [
    "!mkdir test_task2_imgs && tar -xzf test_task2_imgs.tar.gz -C test_task2_imgs"
   ]
  },
  {
   "cell_type": "code",
   "execution_count": null,
   "id": "fe42a732-1f9d-44d1-b68d-55b80905e873",
   "metadata": {},
   "outputs": [],
   "source": [
    "!mkdir test_task3_imgs && tar -xzf test_task3_imgs.tar.gz -C test_task3_imgs"
   ]
  },
  {
   "cell_type": "code",
   "execution_count": 48,
   "id": "1e6bd288-ee75-45d8-b348-565682bea6b7",
   "metadata": {},
   "outputs": [],
   "source": [
    "import io\n",
    "import os\n",
    "import PIL\n",
    "import json\n",
    "from datasets import Dataset, Image\n",
    "from glob import glob"
   ]
  },
  {
   "cell_type": "code",
   "execution_count": 59,
   "id": "28596879-5689-4d48-baee-4cf56eaa9d3d",
   "metadata": {},
   "outputs": [],
   "source": [
    "splits = [\n",
    "    'train',\n",
    "    'test'\n",
    "]"
   ]
  },
  {
   "cell_type": "markdown",
   "id": "e3e5b44a-50d8-4bc8-a3f8-3f49a70e0be7",
   "metadata": {},
   "source": [
    "## Task 1"
   ]
  },
  {
   "cell_type": "code",
   "execution_count": 68,
   "id": "54215d2c-6e8c-497b-9891-806eefa64a4c",
   "metadata": {},
   "outputs": [],
   "source": [
    "task = 1\n",
    "stvqa_task1 = []\n",
    "for i_split, split in enumerate(splits):\n",
    "    path = []\n",
    "    question = []\n",
    "    dictionary = []\n",
    "    answer = []\n",
    "    with open(f\"{split}_task_{task}.json\", 'r') as f:\n",
    "        data = json.load(f)['data']\n",
    "    for sample in data:\n",
    "        path.append(f\"ST-VQA/{sample['file_path']}\")\n",
    "        question.append(sample['question'])\n",
    "        dictionary.append(sample['dictionary'])\n",
    "        if i_split == 1:\n",
    "            answer.append([\"Test server is available at rrc.cvc.uab.es\"])\n",
    "        else:\n",
    "            answer.append(sample['answers'])\n",
    "    stvqa_task1.append(Dataset.from_dict({\n",
    "        'path':path,\n",
    "        'question':question,\n",
    "        'dictionary':dictionary,\n",
    "        'answer':answer\n",
    "    }))"
   ]
  },
  {
   "cell_type": "code",
   "execution_count": 71,
   "id": "d03a224b-8e64-4aeb-9e95-86f45c0b9bde",
   "metadata": {},
   "outputs": [
    {
     "data": {
      "text/plain": [
       "{'path': 'ST-VQA/coco-text/COCO_train2014_000000347021.jpg',\n",
       " 'question': 'What is the book authors first name?',\n",
       " 'dictionary': ['john',\n",
       "  'around',\n",
       "  'still',\n",
       "  'bridge',\n",
       "  'began',\n",
       "  'country',\n",
       "  'century',\n",
       "  'susan',\n",
       "  'germany',\n",
       "  'general',\n",
       "  'service',\n",
       "  'end',\n",
       "  'building',\n",
       "  'several',\n",
       "  'long',\n",
       "  'use',\n",
       "  'museum',\n",
       "  'train',\n",
       "  'glenda',\n",
       "  'school',\n",
       "  'often',\n",
       "  'image',\n",
       "  'main',\n",
       "  'force',\n",
       "  'major',\n",
       "  'national',\n",
       "  'star',\n",
       "  'south',\n",
       "  'sharie',\n",
       "  'near',\n",
       "  'blackmore',\n",
       "  'island',\n",
       "  'town',\n",
       "  'four',\n",
       "  'form',\n",
       "  'will',\n",
       "  'like',\n",
       "  'river',\n",
       "  'second',\n",
       "  'although',\n",
       "  'air',\n",
       "  'united',\n",
       "  'people',\n",
       "  'high',\n",
       "  'right',\n",
       "  'last',\n",
       "  'side',\n",
       "  'point',\n",
       "  'german',\n",
       "  'american',\n",
       "  'car',\n",
       "  'park',\n",
       "  'number',\n",
       "  'government',\n",
       "  'french',\n",
       "  'mitzi',\n",
       "  'march',\n",
       "  'east',\n",
       "  'group',\n",
       "  'land',\n",
       "  'found',\n",
       "  'site',\n",
       "  'series',\n",
       "  'west',\n",
       "  'france',\n",
       "  'team',\n",
       "  'following',\n",
       "  'built',\n",
       "  'army',\n",
       "  'king',\n",
       "  'company',\n",
       "  'based',\n",
       "  'university',\n",
       "  'great',\n",
       "  'member',\n",
       "  'water',\n",
       "  'day',\n",
       "  'place',\n",
       "  'left',\n",
       "  'party',\n",
       "  'life',\n",
       "  'order',\n",
       "  'house',\n",
       "  'system',\n",
       "  'even',\n",
       "  'international',\n",
       "  'due',\n",
       "  'power',\n",
       "  'military',\n",
       "  'small',\n",
       "  'race',\n",
       "  'large',\n",
       "  'population',\n",
       "  'now',\n",
       "  'region',\n",
       "  'wandie',\n",
       "  'north',\n",
       "  'since',\n",
       "  'work',\n",
       "  'british'],\n",
       " 'answer': ['Susan']}"
      ]
     },
     "execution_count": 71,
     "metadata": {},
     "output_type": "execute_result"
    }
   ],
   "source": [
    "stvqa_task1[0][0]"
   ]
  }
 ],
 "metadata": {
  "kernelspec": {
   "display_name": "Python 3 (ipykernel)",
   "language": "python",
   "name": "python3"
  },
  "language_info": {
   "codemirror_mode": {
    "name": "ipython",
    "version": 3
   },
   "file_extension": ".py",
   "mimetype": "text/x-python",
   "name": "python",
   "nbconvert_exporter": "python",
   "pygments_lexer": "ipython3",
   "version": "3.10.12"
  }
 },
 "nbformat": 4,
 "nbformat_minor": 5
}
