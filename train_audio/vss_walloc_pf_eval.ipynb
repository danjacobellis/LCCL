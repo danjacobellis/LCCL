{
 "cells": [
  {
   "cell_type": "code",
   "execution_count": null,
   "id": "5b02aa43-3406-45ad-836e-32598eddcc05",
   "metadata": {},
   "outputs": [],
   "source": [
    "!wget https://hf.co/danjacobellis/walloc/resolve/main/Stereo_Li_108c_test2.pth"
   ]
  },
  {
   "cell_type": "code",
   "execution_count": null,
   "id": "b886bdf7-0810-455d-8337-b2730da6444f",
   "metadata": {},
   "outputs": [],
   "source": [
    "!wget https://huggingface.co/danjacobellis/LCCL/resolve/main/vss_walloc_5x.pth"
   ]
  },
  {
   "cell_type": "code",
   "execution_count": 13,
   "id": "b575600f-e76e-4098-8b05-86bbee490c63",
   "metadata": {},
   "outputs": [],
   "source": [
    "import io\n",
    "import torch\n",
    "import torchaudio\n",
    "import torchvision\n",
    "import numpy as np\n",
    "from datasets import load_dataset\n",
    "from walloc import walloc\n",
    "from IPython.display import display, Audio, Image, update_display, HTML\n",
    "from torchvision.transforms import ToPILImage\n",
    "from fastprogress.fastprogress import master_bar, progress_bar\n",
    "from ioae import IsotropicOobleckAutoencoder\n",
    "from spauq.core.metrics import spauq_eval\n",
    "from einops import rearrange\n",
    "import cdpam\n",
    "class Config: pass"
   ]
  },
  {
   "cell_type": "code",
   "execution_count": 14,
   "id": "9ebf30ce-6206-42d9-b8b8-db7c6e62f056",
   "metadata": {},
   "outputs": [],
   "source": [
    "def compress(x_valid, codec):\n",
    "    compressed_data = codec.encoder(codec.wavelet_analysis(x_valid / 2, J=codec.J))\n",
    "    return compressed_data\n",
    "\n",
    "def decompress(compressed_data, codec):\n",
    "    decompressed_data = 2*codec.clamp(codec.post(codec.wavelet_synthesis(codec.decoder(compressed_data), codec.J)))\n",
    "    return decompressed_data"
   ]
  },
  {
   "cell_type": "code",
   "execution_count": 16,
   "id": "c7f258bd-068c-455b-b854-631de4a5e3ff",
   "metadata": {},
   "outputs": [
    {
     "data": {
      "text/plain": [
       "6.8364"
      ]
     },
     "execution_count": 16,
     "metadata": {},
     "output_type": "execute_result"
    }
   ],
   "source": [
    "device = \"cuda\"\n",
    "\n",
    "cdpam_loss = cdpam.CDPAM()\n",
    "\n",
    "codec_checkpoint = torch.load(\"Stereo_Li_108c_test2.pth\",map_location=\"cpu\",weights_only=False)\n",
    "codec_config = codec_checkpoint['config']\n",
    "codec = walloc.Codec1D(\n",
    "    channels = codec_config.channels,\n",
    "    J = codec_config.J,\n",
    "    Ne = codec_config.Ne,\n",
    "    Nd = codec_config.Nd,\n",
    "    latent_dim = codec_config.latent_dim,\n",
    "    latent_bits = codec_config.latent_bits,\n",
    "    lightweight_encode = codec_config.lightweight_encode,\n",
    "    post_filter = codec_config.post_filter\n",
    ").to(device)\n",
    "codec.load_state_dict(codec_checkpoint['model_state_dict'])\n",
    "codec.eval();\n",
    "\n",
    "checkpoint = torch.load(\"vss_walloc_5x.pth\",map_location=\"cpu\",weights_only=False)\n",
    "config = checkpoint['config']\n",
    "model = IsotropicOobleckAutoencoder(\n",
    "    channels=codec_config.latent_dim,\n",
    "    patch_size=config.patch_size,\n",
    "    embed_dim=config.embed_dim,\n",
    "    depth=config.depth,\n",
    ").to(device)\n",
    "model.load_state_dict(checkpoint['model_state_dict'])\n",
    "codec.load_state_dict(checkpoint['codec_state_dict']) # post filter\n",
    "model.eval()\n",
    "sum(p.numel() for p in model.parameters())/1e6"
   ]
  },
  {
   "cell_type": "code",
   "execution_count": 17,
   "id": "caca760e-9293-4509-b159-e3fc78268bc6",
   "metadata": {},
   "outputs": [],
   "source": [
    "valid_dataset = load_dataset(\"danjacobellis/musdb18hq_vss\",split='validation')"
   ]
  },
  {
   "cell_type": "code",
   "execution_count": 50,
   "id": "b4b14a6a-0d51-4c90-ac53-b9c395cdfd79",
   "metadata": {},
   "outputs": [],
   "source": [
    "with torch.no_grad():\n",
    "    sample = valid_dataset[200]\n",
    "    xb, fs = torchaudio.load(sample['audio_mix']['bytes'])\n",
    "    vb, fs = torchaudio.load(sample['audio_vocal']['bytes'])\n",
    "    B = xb.shape[-1]//config.length_samples\n",
    "    x = torch.zeros((B,2,config.length_samples))\n",
    "    v = torch.zeros((B,2,config.length_samples))\n",
    "    for i_frame in range(B):\n",
    "        i_start = i_frame*config.length_samples\n",
    "        i_end = (i_frame+1)*config.length_samples\n",
    "        x[i_frame,:,:] = xb[:,i_start:i_end]\n",
    "        v[i_frame,:,:] = vb[:,i_start:i_end]\n",
    "    x = x.to(device)\n",
    "    v = v.to(device)\n",
    "    xc = compress(x, codec)\n",
    "    pred = model(xc)\n",
    "    v_hat = decompress(pred,codec)\n",
    "\n",
    "    v = rearrange(v, 'B C L -> C (B L)')/2\n",
    "    v_hat = rearrange(v_hat, 'B C L -> C (B L)')/2\n",
    "    \n",
    "    PSNR = -10*np.log10(torch.nn.functional.mse_loss(v,v_hat).item())\n",
    "    SDR = spauq_eval(v.cpu(),v_hat.cpu(),fs=fs)\n",
    "    SSDR = SDR['SSR']\n",
    "    SRDR = SDR['SRR']\n",
    "    cdpam = cdpam_loss.forward(v,v_hat).mean().item()"
   ]
  },
  {
   "cell_type": "code",
   "execution_count": 52,
   "id": "c081cab6-3376-4646-857f-050a95c7a688",
   "metadata": {},
   "outputs": [
    {
     "name": "stdout",
     "output_type": "stream",
     "text": [
      "31.725501225961295\n",
      "6.367874199474555\n",
      "0.06404294549041384\n",
      "36.51595032171185\n"
     ]
    }
   ],
   "source": [
    "print(PSNR)\n",
    "print(SSDR)\n",
    "print(SRDR)\n",
    "print(-10*np.log10(cdpam))"
   ]
  }
 ],
 "metadata": {
  "kernelspec": {
   "display_name": "Python 3 (ipykernel)",
   "language": "python",
   "name": "python3"
  },
  "language_info": {
   "codemirror_mode": {
    "name": "ipython",
    "version": 3
   },
   "file_extension": ".py",
   "mimetype": "text/x-python",
   "name": "python",
   "nbconvert_exporter": "python",
   "pygments_lexer": "ipython3",
   "version": "3.10.12"
  }
 },
 "nbformat": 4,
 "nbformat_minor": 5
}
